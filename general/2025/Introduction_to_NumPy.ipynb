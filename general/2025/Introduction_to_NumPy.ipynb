{
 "cells": [
  {
   "cell_type": "markdown",
   "metadata": {},
   "source": [
    "<img src=\"https://github.com/jonaslindemann/compute-course-docs/blob/c04294fa16a9989300f3535a0d9a863be7e11f27/source/images/numpy.png?raw=1\" alt=\"NumPy Logo\" width=\"600\"/>\n",
    "\n",
    "# Introduction to NumPy\n",
    "\n",
    "NumPy is a powerful library for numerical computing in Python, providing support for large multi-dimensional arrays and matrices, along with a collection of mathematical functions to operate on these arrays efficiently. This notebook introduces the fundamental concepts of NumPy arrays, including their creation, manipulation, and various operations that can be performed on them.\n",
    "\n",
    "---\n",
    "\n",
    "## Learning Objectives\n",
    "By the end of this notebook, you will be able to:\n",
    "- Understand the fundamental concepts and advantages of NumPy arrays\n",
    "- Create and manipulate multi-dimensional arrays efficiently\n",
    "- Perform vectorized operations and understand their performance benefits\n",
    "- Master broadcasting rules and their applications\n",
    "- Apply advanced indexing operations (boolean and fancy indexing)\n",
    "- Optimize memory usage and understand array storage layouts\n",
    "- Distinguish between views and copies for memory efficiency\n",
    "- Use NumPy functions for complex mathematical operations\n",
    "- Save and load array data in various formats\n",
    "- Solve linear algebra problems with NumPy\n",
    "- Apply NumPy techniques to real-world scientific computing problems\n"
   ]
  },
  {
   "cell_type": "markdown",
   "metadata": {
    "id": "zyOEduVbhhWl",
    "lang": "en"
   },
   "source": [
    "---\n",
    "# Using NumPy in Python\n",
    "\n",
    "NumPy is imported according to the following convention:"
   ]
  },
  {
   "cell_type": "code",
   "execution_count": 1,
   "metadata": {
    "id": "ibj88ipqJ_Ez"
   },
   "outputs": [],
   "source": [
    "import numpy as np"
   ]
  },
  {
   "cell_type": "markdown",
   "metadata": {
    "id": "I7_shhtXhhWx",
    "lang": "en"
   },
   "source": [
    "The reason we don't import **numpy** directly, but import it as **np**, is to avoid writing **numpy.** before every numpy function. It is also not recommended to use **from numpy import \\*** as it may conflict with other Python features and pollute the namespace."
   ]
  },
  {
   "cell_type": "markdown",
   "metadata": {
    "id": "XB6RUnnOhhWy",
    "lang": "en"
   },
   "source": [
    "---\n",
    "# Array Objects\n",
    "\n",
    "The array object is the main data type in NumPy. For efficient numerical operations, all array objects are allocated as contiguous blocks of values in memory."
   ]
  },
  {
   "cell_type": "markdown",
   "metadata": {
    "id": "vbmYmKzChhW1",
    "lang": "en"
   },
   "source": [
    "## Create array objects\n",
    "\n",
    "New array objects can be created using the **np.array()** function. The first argument contains a list or a nested list of values. The last argument specifies the data type of the array."
   ]
  },
  {
   "cell_type": "code",
   "execution_count": 2,
   "metadata": {
    "colab": {
     "base_uri": "https://localhost:8080/"
    },
    "id": "-OCYjJq8J_FH",
    "outputId": "8e23e522-0f30-4c71-852e-f65108450464"
   },
   "outputs": [
    {
     "name": "stdout",
     "output_type": "stream",
     "text": [
      "[1. 2. 3. 4.]\n"
     ]
    }
   ],
   "source": [
    "a = np.array([1, 2, 3, 4], float)\n",
    "print(a)"
   ]
  },
  {
   "cell_type": "markdown",
   "metadata": {
    "id": "DDHmy5vphhW8",
    "lang": "en"
   },
   "source": [
    "If no data type is specified, NumPy will determine the data type depending on what is specified as input to the function."
   ]
  },
  {
   "cell_type": "code",
   "execution_count": 3,
   "metadata": {
    "colab": {
     "base_uri": "https://localhost:8080/"
    },
    "id": "8PpHYLOTJ_FU",
    "outputId": "b02ecc43-bbcf-44c9-f7a2-1270c897c8b6"
   },
   "outputs": [
    {
     "name": "stdout",
     "output_type": "stream",
     "text": [
      "[1 2 3]\n"
     ]
    }
   ],
   "source": [
    "a = np.array([1, 2, 3])\n",
    "print(a)"
   ]
  },
  {
   "cell_type": "code",
   "execution_count": 4,
   "metadata": {
    "colab": {
     "base_uri": "https://localhost:8080/"
    },
    "id": "IjC2QvEMJ_Fe",
    "outputId": "1f50354e-34dc-40a9-b95b-acd8f95a3e24"
   },
   "outputs": [
    {
     "name": "stdout",
     "output_type": "stream",
     "text": [
      "[1. 2. 3.]\n"
     ]
    }
   ],
   "source": [
    "a = np.array([1.0, 2.0, 3.0])\n",
    "print(a)"
   ]
  },
  {
   "cell_type": "markdown",
   "metadata": {
    "id": "GZIszxUbhhXG",
    "lang": "en"
   },
   "source": [
    "Compared to lists, array objects can only contain values of the same type."
   ]
  },
  {
   "cell_type": "markdown",
   "metadata": {
    "id": "949_0gvEhhXI",
    "lang": "en"
   },
   "source": [
    "## Multidimensional arrays"
   ]
  },
  {
   "cell_type": "markdown",
   "metadata": {
    "id": "jREGxoEHhhXJ",
    "lang": "en"
   },
   "source": [
    "Multidimensional arrays can be created by specifying nested lists in the **np.array ()** function."
   ]
  },
  {
   "cell_type": "code",
   "execution_count": 5,
   "metadata": {
    "colab": {
     "base_uri": "https://localhost:8080/"
    },
    "id": "SYm_hUI4J_Fx",
    "outputId": "8538ed76-a5c6-48d2-f94a-969466271441"
   },
   "outputs": [
    {
     "name": "stdout",
     "output_type": "stream",
     "text": [
      "[[1 2]\n",
      " [3 4]]\n",
      "[[1. 2. 3. 4.]\n",
      " [5. 6. 7. 8.]]\n"
     ]
    }
   ],
   "source": [
    "a = np.array([[1,2],[3,4]])\n",
    "print(a)\n",
    "\n",
    "b = np.array([[1,2,3,4],[5,6,7,8]], float)\n",
    "print(b)"
   ]
  },
  {
   "cell_type": "markdown",
   "metadata": {
    "id": "Q5M6PguuhhXQ",
    "lang": "en"
   },
   "source": [
    "## How are arrays stored in memory?"
   ]
  },
  {
   "cell_type": "markdown",
   "metadata": {
    "id": "h3SOJ28XhhXR",
    "lang": "en"
   },
   "source": [
    "Arrays are always stored as 1-dimensional blocks of values in memory. Array dimensions are really just a way to access different positions in the 1-dimensional block.\n",
    "\n",
    "NumPy stores arrays in memory row-wise, which is also how C and C++ store two-dimensional arrays. Fortran stores arrays column by column. The following figure shows how this happens in memory:\n",
    "\n",
    "![Array memory layout](https://github.com/jonaslindemann/guide_to_python/blob/master/chapters/kapitel5/notebooks/images/array1.png?raw=1)"
   ]
  },
  {
   "cell_type": "markdown",
   "metadata": {
    "id": "JwCwab2rhhXT",
    "lang": "en"
   },
   "source": [
    "## Array properties\n",
    "\n",
    "There are several ways to query information about array objects. One of the more important properties is the shape of the array object, which can be obtained through the **.shape** properties."
   ]
  },
  {
   "cell_type": "code",
   "execution_count": 6,
   "metadata": {
    "colab": {
     "base_uri": "https://localhost:8080/"
    },
    "id": "oXSwCceTJ_GJ",
    "outputId": "6296a548-0f24-48fc-d49d-f016a04dffce"
   },
   "outputs": [
    {
     "name": "stdout",
     "output_type": "stream",
     "text": [
      "(4,)\n",
      "(2, 2)\n",
      "(2, 2, 4)\n"
     ]
    }
   ],
   "source": [
    "a = np.array([1,2,3,4])\n",
    "b = np.array([[1,2],[3,4]])\n",
    "c = np.array([[[1,2,3,4],\n",
    "               [5,6,7,8]],\n",
    "              [[1,2,3,4],\n",
    "               [5,6,7,8]]],float)\n",
    "\n",
    "print(a.shape)\n",
    "print(b.shape)\n",
    "print(c.shape)"
   ]
  },
  {
   "cell_type": "markdown",
   "metadata": {
    "id": "lJ57JwWUhhXZ",
    "lang": "en"
   },
   "source": [
    "For two-dimensional array objects, the number of rows and columns can be assigned to variables using the following code:"
   ]
  },
  {
   "cell_type": "code",
   "execution_count": 7,
   "metadata": {
    "colab": {
     "base_uri": "https://localhost:8080/"
    },
    "id": "dPfM8Kq1J_GS",
    "outputId": "df49db67-bf9e-43d9-fbc4-71b750fe06b7"
   },
   "outputs": [
    {
     "name": "stdout",
     "output_type": "stream",
     "text": [
      "2 2\n"
     ]
    }
   ],
   "source": [
    "r, c = b.shape\n",
    "print(r, c)"
   ]
  },
  {
   "cell_type": "markdown",
   "metadata": {
    "id": "yxmyxF03hhXi",
    "lang": "en"
   },
   "source": [
    "The number of dimensions for an array object is queried by the **.ndim** property"
   ]
  },
  {
   "cell_type": "code",
   "execution_count": 8,
   "metadata": {
    "colab": {
     "base_uri": "https://localhost:8080/"
    },
    "id": "IFHVmyVRJ_GZ",
    "outputId": "ee047b53-e0d2-4876-fb4f-e65ee83a5512"
   },
   "outputs": [
    {
     "name": "stdout",
     "output_type": "stream",
     "text": [
      "2\n"
     ]
    }
   ],
   "source": [
    "print(b.ndim)"
   ]
  },
  {
   "cell_type": "markdown",
   "metadata": {
    "id": "8jxA-phvhhXm",
    "lang": "en"
   },
   "source": [
    "There are several other properties that can be queried. Some of these are shown in the following example:"
   ]
  },
  {
   "cell_type": "code",
   "execution_count": 9,
   "metadata": {
    "colab": {
     "base_uri": "https://localhost:8080/"
    },
    "id": "jb7YvtmHJ_Gk",
    "outputId": "b0c98af7-0150-452f-a73e-56b3d2d0de2c"
   },
   "outputs": [
    {
     "name": "stdout",
     "output_type": "stream",
     "text": [
      "array shape = (2, 2)\n",
      "array ndim = 2\n",
      "array dtype = int64\n",
      "array size = 4\n",
      "array itemsize = 8\n"
     ]
    }
   ],
   "source": [
    "b = np.array([[1,2],[3,4]])\n",
    "print(\"array shape =\", b.shape) # Size\n",
    "print(\"array ndim =\", b.ndim)   # Number of dimensions\n",
    "print(\"array dtype =\", b.dtype) # Data type\n",
    "print(\"array size =\", b.size)   # Number of elements in the array\n",
    "print(\"array itemsize =\", b.itemsize) # Size of an element in bytes"
   ]
  },
  {
   "cell_type": "markdown",
   "metadata": {
    "id": "DzTTRGcyhhXr",
    "lang": "en"
   },
   "source": [
    "## Change the shape of an array"
   ]
  },
  {
   "cell_type": "markdown",
   "metadata": {
    "id": "9MmTx20vhhXu",
    "lang": "en"
   },
   "source": [
    "The **.reshape()** method can be used to change the shape of an array. As long as the number of values in an array is not changed, NumPy will not reallocate the memory for the array. To verify this, we first define a function that returns the array object's memory address:"
   ]
  },
  {
   "cell_type": "code",
   "execution_count": 10,
   "metadata": {
    "id": "4zot9DrrJ_Gv"
   },
   "outputs": [],
   "source": [
    "def memory_of(a):\n",
    "    return a.__array_interface__[\"data\"][0]"
   ]
  },
  {
   "cell_type": "markdown",
   "metadata": {
    "id": "Hqfuec9KhhXz",
    "lang": "en"
   },
   "source": [
    "In the following example, we change the shape of an array object and examine whether memory allocation changes through it."
   ]
  },
  {
   "cell_type": "code",
   "execution_count": null,
   "metadata": {
    "colab": {
     "base_uri": "https://localhost:8080/"
    },
    "id": "cTL5iYeeJ_G5",
    "outputId": "43839e5e-95a0-4896-c805-0937b76c3aee"
   },
   "outputs": [
    {
     "name": "stdout",
     "output_type": "stream",
     "text": [
      "[[1 2]\n",
      " [3 4]]\n",
      "2830627092800\n",
      "[[1]\n",
      " [2]\n",
      " [3]\n",
      " [4]]\n",
      "2830627092800\n"
     ]
    }
   ],
   "source": [
    "a = np.array([[1,2],[3,4]])\n",
    "\n",
    "print(a)\n",
    "print(memory_of(a))\n",
    "\n",
    "a_flat = np.reshape(a, [4,1])\n",
    "\n",
    "print(a_flat)\n",
    "print(memory_of(a_flat))"
   ]
  },
  {
   "cell_type": "markdown",
   "metadata": {
    "id": "X5EgyEUQhhX4",
    "lang": "en"
   },
   "source": [
    "Here we can see that the memory of the array objects is not changed and both **a** and **a_flat** point to the same memory location."
   ]
  },
  {
   "cell_type": "markdown",
   "metadata": {
    "id": "T3LR5CbXhhX5",
    "lang": "en"
   },
   "source": [
    "Changing values in **a** will also change values in **a_flat**."
   ]
  },
  {
   "cell_type": "code",
   "execution_count": 12,
   "metadata": {
    "colab": {
     "base_uri": "https://localhost:8080/"
    },
    "id": "rXdFWeWbJ_HR",
    "outputId": "079f4a02-d08f-4333-a617-85bde7f4ee77"
   },
   "outputs": [
    {
     "name": "stdout",
     "output_type": "stream",
     "text": [
      "[[42  2]\n",
      " [ 3  4]]\n",
      "[[42]\n",
      " [ 2]\n",
      " [ 3]\n",
      " [ 4]]\n"
     ]
    }
   ],
   "source": [
    "a[0,0] = 42\n",
    "\n",
    "print(a)\n",
    "print(a_flat)"
   ]
  },
  {
   "cell_type": "markdown",
   "metadata": {
    "id": "Gr12n-l2hhX-",
    "lang": "en"
   },
   "source": [
    "If you don't want this behavior when making array assignments, you must use the **.copy()** method to create a copy of the array object."
   ]
  },
  {
   "cell_type": "code",
   "execution_count": 13,
   "metadata": {
    "colab": {
     "base_uri": "https://localhost:8080/"
    },
    "id": "J-vueTobJ_Hd",
    "outputId": "04ea1cdd-075d-4cf0-ec1c-0eaab00d2689"
   },
   "outputs": [
    {
     "name": "stdout",
     "output_type": "stream",
     "text": [
      "[[84  2]\n",
      " [ 3  4]]\n",
      "2830627092896\n",
      "[[42  2]\n",
      " [ 3  4]]\n",
      "2830627092800\n"
     ]
    }
   ],
   "source": [
    "c = a.copy()\n",
    "c[0,0] = 84\n",
    "\n",
    "print(c)\n",
    "print(memory_of(c))\n",
    "\n",
    "print(a)\n",
    "print(memory_of(a))"
   ]
  },
  {
   "cell_type": "markdown",
   "metadata": {
    "id": "vPQD01wQhhYE",
    "lang": "en"
   },
   "source": [
    "Now, **c** does not refer to the same memory address as **a**."
   ]
  },
  {
   "cell_type": "markdown",
   "metadata": {
    "id": "BG_sUtnLhhYF",
    "lang": "en"
   },
   "source": [
    "More examples:"
   ]
  },
  {
   "cell_type": "code",
   "execution_count": 14,
   "metadata": {
    "colab": {
     "base_uri": "https://localhost:8080/"
    },
    "id": "PkgKMC6pJ_Hp",
    "outputId": "3dd542d0-aa73-4f5c-8644-df55541dd9ef"
   },
   "outputs": [
    {
     "name": "stdout",
     "output_type": "stream",
     "text": [
      "[[1. 2. 3. 4.]\n",
      " [5. 6. 7. 8.]]\n",
      "[1. 2. 3. 4. 5. 6. 7. 8.]\n",
      "[[1. 2.]\n",
      " [3. 4.]\n",
      " [5. 6.]\n",
      " [7. 8.]]\n",
      "[[1. 5.]\n",
      " [2. 6.]\n",
      " [3. 7.]\n",
      " [4. 8.]]\n"
     ]
    }
   ],
   "source": [
    "b = np.array([[1,2,3,4],[5,6,7,8]], float)\n",
    "print(b)\n",
    "\n",
    "b_shaped = np.reshape(b, [8,])\n",
    "print(b_shaped)\n",
    "\n",
    "b_shaped = np.reshape(b, [4,2])\n",
    "print(b_shaped)\n",
    "\n",
    "# **Please note** this is not the same as:\n",
    "b_trans = np.transpose(b)\n",
    "print(b_trans)"
   ]
  },
  {
   "cell_type": "markdown",
   "metadata": {
    "id": "bB_ENbERhhYJ",
    "lang": "en"
   },
   "source": [
    "## Change the size of an array"
   ]
  },
  {
   "cell_type": "markdown",
   "metadata": {
    "id": "Isk1pm60hhYK",
    "lang": "en"
   },
   "source": [
    "The **.resize()** method is used to resize an already existing array object. Existing value will be retained to the extent possible. New values will be populated with values from the previous array object."
   ]
  },
  {
   "cell_type": "code",
   "execution_count": null,
   "metadata": {
    "colab": {
     "base_uri": "https://localhost:8080/"
    },
    "id": "MCUb1CTUJ_Hy",
    "outputId": "055dac1a-4f2f-46fc-a9c1-527939e15cf5"
   },
   "outputs": [
    {
     "name": "stdout",
     "output_type": "stream",
     "text": [
      "[[1 2]\n",
      " [3 4]]\n",
      "[[1 2 3 4 1 2 3 4 1]\n",
      " [2 3 4 1 2 3 4 1 2]\n",
      " [3 4 1 2 3 4 1 2 3]\n",
      " [4 1 2 3 4 1 2 3 4]\n",
      " [1 2 3 4 1 2 3 4 1]\n",
      " [2 3 4 1 2 3 4 1 2]\n",
      " [3 4 1 2 3 4 1 2 3]\n",
      " [4 1 2 3 4 1 2 3 4]\n",
      " [1 2 3 4 1 2 3 4 1]]\n",
      "[[1 2 3 4]\n",
      " [1 2 3 4]\n",
      " [1 2 3 4]\n",
      " [1 2 3 4]]\n",
      "[[1 2]\n",
      " [3 4]\n",
      " [1 2]\n",
      " [3 4]]\n"
     ]
    }
   ],
   "source": [
    "base = np.array([[1,2],[3,4]])\n",
    "print(base)\n",
    "\n",
    "big = np.resize(base, [9,9])\n",
    "print(big)\n",
    "\n",
    "big = np.resize(base, [4,4])\n",
    "print(big)\n",
    "\n",
    "big = np.resize(base, [4,2])\n",
    "print(big)"
   ]
  },
  {
   "cell_type": "markdown",
   "metadata": {},
   "source": [
    "## Adding and removing dimensions\n",
    "\n",
    "The **np.newaxis** object can be used to add a new dimension to an existing array. This is often useful when you want to change the shape of an array for broadcasting purposes.\n",
    "\n",
    "For example, we can convert a one-dimensional array into a two-dimensional array with one row or one column:"
   ]
  },
  {
   "cell_type": "code",
   "execution_count": null,
   "metadata": {},
   "outputs": [
    {
     "name": "stdout",
     "output_type": "stream",
     "text": [
      "[1 2 3]\n",
      "[[1 2 3]]\n",
      "[[1]\n",
      " [2]\n",
      " [3]]\n"
     ]
    }
   ],
   "source": [
    "a = np.array([1, 2, 3])\n",
    "a_row = a[np.newaxis, :]  # Shape (1, 3)\n",
    "a_col = a[:, np.newaxis]  # Shape (3, 1)\n",
    "print(a)\n",
    "print(a_row)\n",
    "print(a_col)\n"
   ]
  },
  {
   "cell_type": "markdown",
   "metadata": {
    "id": "bJ6AjAVIhhYR",
    "lang": "en"
   },
   "source": [
    "---\n",
    "# Functions for Creating Array Objects"
   ]
  },
  {
   "cell_type": "markdown",
   "metadata": {
    "id": "suyq9lk-hhYZ",
    "lang": "en"
   },
   "source": [
    "In many cases, it is impossible to create arrays using the **np.array()** function. To create larger arrays, NumPy includes a number of features for creating different types of arrays of different sizes."
   ]
  },
  {
   "cell_type": "markdown",
   "metadata": {
    "id": "W_7JEPs3hhYa",
    "lang": "en"
   },
   "source": [
    "### Arrays filled with zeros\n",
    "\n",
    "A common type of array object is an arrays filled with zeros. These can be created with the **np.zeros()** function. The function takes the shape of the array object to be created as an argument and an argument for the data type."
   ]
  },
  {
   "cell_type": "code",
   "execution_count": 16,
   "metadata": {
    "colab": {
     "base_uri": "https://localhost:8080/"
    },
    "id": "mRRlEqL8J_H8",
    "outputId": "5da09498-4135-446a-b937-3b10d825d263"
   },
   "outputs": [
    {
     "name": "stdout",
     "output_type": "stream",
     "text": [
      "[[0. 0. 0. 0. 0.]\n",
      " [0. 0. 0. 0. 0.]\n",
      " [0. 0. 0. 0. 0.]\n",
      " [0. 0. 0. 0. 0.]\n",
      " [0. 0. 0. 0. 0.]]\n"
     ]
    }
   ],
   "source": [
    "a = np.zeros([5,5])\n",
    "print(a)"
   ]
  },
  {
   "cell_type": "code",
   "execution_count": 17,
   "metadata": {
    "colab": {
     "base_uri": "https://localhost:8080/"
    },
    "id": "lce4xQZvJ_IG",
    "outputId": "2d3c8e7b-a6a7-4311-edea-83021bd42c3e"
   },
   "outputs": [
    {
     "name": "stdout",
     "output_type": "stream",
     "text": [
      "[[0 0 0 0]\n",
      " [0 0 0 0]\n",
      " [0 0 0 0]\n",
      " [0 0 0 0]]\n"
     ]
    }
   ],
   "source": [
    "b = np.zeros([4,4], int)\n",
    "print(b)"
   ]
  },
  {
   "cell_type": "markdown",
   "metadata": {
    "id": "bI-uYCDghhYi",
    "lang": "en"
   },
   "source": [
    "### Array objects consisting of ones"
   ]
  },
  {
   "cell_type": "markdown",
   "metadata": {
    "id": "dN4yhU9zhhYi",
    "lang": "en"
   },
   "source": [
    "Arrays containing ones are created in a similar way with the function **np.ones()**."
   ]
  },
  {
   "cell_type": "code",
   "execution_count": 18,
   "metadata": {
    "colab": {
     "base_uri": "https://localhost:8080/"
    },
    "id": "3wfOCjbbJ_IP",
    "outputId": "2e8259e0-fdda-4848-d3e4-682d4fb7ab96"
   },
   "outputs": [
    {
     "name": "stdout",
     "output_type": "stream",
     "text": [
      "[[1. 1. 1. 1. 1. 1. 1. 1. 1. 1.]\n",
      " [1. 1. 1. 1. 1. 1. 1. 1. 1. 1.]\n",
      " [1. 1. 1. 1. 1. 1. 1. 1. 1. 1.]\n",
      " [1. 1. 1. 1. 1. 1. 1. 1. 1. 1.]\n",
      " [1. 1. 1. 1. 1. 1. 1. 1. 1. 1.]]\n"
     ]
    }
   ],
   "source": [
    "c = np.ones([5,10], float)\n",
    "print(c)"
   ]
  },
  {
   "cell_type": "markdown",
   "metadata": {
    "id": "jwmm1LdVhhYo",
    "lang": "en"
   },
   "source": [
    "It is also possible to create arrays with a specific value using **np.ones()**:"
   ]
  },
  {
   "cell_type": "code",
   "execution_count": 19,
   "metadata": {
    "colab": {
     "base_uri": "https://localhost:8080/"
    },
    "id": "wpkW8PjwJ_IU",
    "outputId": "ba097403-7aa3-4c6e-d947-cfc70a489b5c"
   },
   "outputs": [
    {
     "name": "stdout",
     "output_type": "stream",
     "text": [
      "[[42. 42. 42. 42. 42. 42. 42. 42. 42. 42.]\n",
      " [42. 42. 42. 42. 42. 42. 42. 42. 42. 42.]\n",
      " [42. 42. 42. 42. 42. 42. 42. 42. 42. 42.]\n",
      " [42. 42. 42. 42. 42. 42. 42. 42. 42. 42.]\n",
      " [42. 42. 42. 42. 42. 42. 42. 42. 42. 42.]]\n"
     ]
    }
   ],
   "source": [
    "c = np.ones([5,10], float) * 42.0\n",
    "print(c)"
   ]
  },
  {
   "cell_type": "markdown",
   "metadata": {
    "id": "Vo2LKEtsJ_IY"
   },
   "source": [
    "### Array ranges"
   ]
  },
  {
   "cell_type": "markdown",
   "metadata": {
    "id": "aW0V0YSuhhYs",
    "lang": "en"
   },
   "source": [
    "In many applications, there is a need to create array objects with ranges of numeric values. This can be accomplished with the **np.arange()** function, which is similar to the standard Python function **range()**. An array of 10 elements with values from 0 to 9 is created with:"
   ]
  },
  {
   "cell_type": "code",
   "execution_count": 20,
   "metadata": {
    "colab": {
     "base_uri": "https://localhost:8080/"
    },
    "id": "ESEtuFrqJ_Ib",
    "outputId": "f6b78217-a69a-4471-cf1a-4baffdd9f260"
   },
   "outputs": [
    {
     "name": "stdout",
     "output_type": "stream",
     "text": [
      "[0 1 2 3 4 5 6 7 8 9]\n"
     ]
    }
   ],
   "source": [
    "a = np.arange(10)\n",
    "print(a)"
   ]
  },
  {
   "cell_type": "markdown",
   "metadata": {
    "id": "817FJtVzhhYx",
    "lang": "en"
   },
   "source": [
    "By combining **np.arange()** with **np.reshape()**, it is possible to create different array objects filled with value ranges:"
   ]
  },
  {
   "cell_type": "code",
   "execution_count": 21,
   "metadata": {
    "colab": {
     "base_uri": "https://localhost:8080/"
    },
    "id": "UYStj7p-J_If",
    "outputId": "bc3ce488-d730-45f0-a40c-48928a4aa3f0"
   },
   "outputs": [
    {
     "name": "stdout",
     "output_type": "stream",
     "text": [
      "[[ 0  1  2  3  4  5  6  7  8  9]\n",
      " [10 11 12 13 14 15 16 17 18 19]\n",
      " [20 21 22 23 24 25 26 27 28 29]\n",
      " [30 31 32 33 34 35 36 37 38 39]\n",
      " [40 41 42 43 44 45 46 47 48 49]\n",
      " [50 51 52 53 54 55 56 57 58 59]\n",
      " [60 61 62 63 64 65 66 67 68 69]\n",
      " [70 71 72 73 74 75 76 77 78 79]\n",
      " [80 81 82 83 84 85 86 87 88 89]\n",
      " [90 91 92 93 94 95 96 97 98 99]]\n"
     ]
    }
   ],
   "source": [
    "b = np.reshape(np.arange(100), [10,10])\n",
    "print(b)"
   ]
  },
  {
   "cell_type": "markdown",
   "metadata": {
    "id": "jto-1v8ThhY0",
    "lang": "en"
   },
   "source": [
    "It is possible to give start, end and step lengths just like the **range()** function"
   ]
  },
  {
   "cell_type": "code",
   "execution_count": 22,
   "metadata": {
    "colab": {
     "base_uri": "https://localhost:8080/"
    },
    "id": "uy-Ae4qJJ_Im",
    "outputId": "1c41ae0f-a324-4fcd-dc0d-e2b44638b3ff"
   },
   "outputs": [
    {
     "name": "stdout",
     "output_type": "stream",
     "text": [
      "[-10.  -9.  -8.  -7.  -6.  -5.  -4.  -3.  -2.  -1.   0.   1.   2.   3.\n",
      "   4.   5.   6.   7.   8.   9.]\n",
      "[-10  -8  -6  -4  -2   0   2   4   6   8]\n"
     ]
    }
   ],
   "source": [
    "a = np.arange(-10,10, dtype=float)\n",
    "print(a)\n",
    "\n",
    "a = np.arange(-10,10,2)\n",
    "print(a)"
   ]
  },
  {
   "cell_type": "markdown",
   "metadata": {
    "id": "LCjjOAuYhhY3",
    "lang": "en"
   },
   "source": [
    "As with **np.array()**, it is also possible to specify the data type for the range array."
   ]
  },
  {
   "cell_type": "code",
   "execution_count": 23,
   "metadata": {
    "colab": {
     "base_uri": "https://localhost:8080/"
    },
    "id": "wm9o2koCJ_Iv",
    "outputId": "764f514c-86b9-4e11-cc26-b46ca9b56471"
   },
   "outputs": [
    {
     "name": "stdout",
     "output_type": "stream",
     "text": [
      "[-10.  -8.  -6.  -4.  -2.   0.   2.   4.   6.   8.]\n"
     ]
    }
   ],
   "source": [
    "a = np.arange(-10,10,2, dtype=float)\n",
    "print(a)"
   ]
  },
  {
   "cell_type": "markdown",
   "metadata": {
    "id": "RpCN7fo1hhY7",
    "lang": "en"
   },
   "source": [
    "### Identity Arrays"
   ]
  },
  {
   "cell_type": "markdown",
   "metadata": {
    "id": "4kEOs0PIhhY7",
    "lang": "en"
   },
   "source": [
    "Another common array type is the identity matrix, which can easily be created with the **np.identity()** function. The function takes the size as input and an optional argument for the data type."
   ]
  },
  {
   "cell_type": "code",
   "execution_count": 24,
   "metadata": {
    "colab": {
     "base_uri": "https://localhost:8080/"
    },
    "id": "StkWZMyhJ_I-",
    "outputId": "a5590233-ab57-4897-c4c9-d4ce20436642"
   },
   "outputs": [
    {
     "name": "stdout",
     "output_type": "stream",
     "text": [
      "[[1. 0. 0. 0. 0. 0. 0. 0. 0. 0.]\n",
      " [0. 1. 0. 0. 0. 0. 0. 0. 0. 0.]\n",
      " [0. 0. 1. 0. 0. 0. 0. 0. 0. 0.]\n",
      " [0. 0. 0. 1. 0. 0. 0. 0. 0. 0.]\n",
      " [0. 0. 0. 0. 1. 0. 0. 0. 0. 0.]\n",
      " [0. 0. 0. 0. 0. 1. 0. 0. 0. 0.]\n",
      " [0. 0. 0. 0. 0. 0. 1. 0. 0. 0.]\n",
      " [0. 0. 0. 0. 0. 0. 0. 1. 0. 0.]\n",
      " [0. 0. 0. 0. 0. 0. 0. 0. 1. 0.]\n",
      " [0. 0. 0. 0. 0. 0. 0. 0. 0. 1.]]\n"
     ]
    }
   ],
   "source": [
    "i = np.identity(10)\n",
    "print(i)"
   ]
  },
  {
   "cell_type": "markdown",
   "metadata": {
    "id": "9ErKYvn9hhY9",
    "lang": "en"
   },
   "source": [
    "### Array objects with linear variation"
   ]
  },
  {
   "cell_type": "markdown",
   "metadata": {
    "id": "gTylES1ZhhY9",
    "lang": "en"
   },
   "source": [
    "**np.arange()** works best if the range is integer. If you need a more precise range, it is better to use the **np.linspace()** function. The function takes the start, end value and number of values as input. The values between start and end are interpolated by the function."
   ]
  },
  {
   "cell_type": "code",
   "execution_count": 25,
   "metadata": {
    "colab": {
     "base_uri": "https://localhost:8080/"
    },
    "id": "rWXVzlERJ_JG",
    "outputId": "dfb8871a-4f3b-4812-e107-0c91a2b2ee80"
   },
   "outputs": [
    {
     "name": "stdout",
     "output_type": "stream",
     "text": [
      "[0.         0.11111111 0.22222222 0.33333333 0.44444444 0.55555556\n",
      " 0.66666667 0.77777778 0.88888889 1.        ]\n",
      "[0.         0.05263158 0.10526316 0.15789474 0.21052632 0.26315789\n",
      " 0.31578947 0.36842105 0.42105263 0.47368421 0.52631579 0.57894737\n",
      " 0.63157895 0.68421053 0.73684211 0.78947368 0.84210526 0.89473684\n",
      " 0.94736842 1.        ]\n"
     ]
    }
   ],
   "source": [
    "x = np.linspace(0,1.0,10)\n",
    "print(x)\n",
    "\n",
    "x = np.linspace(0,1.0,20)\n",
    "print(x)"
   ]
  },
  {
   "cell_type": "markdown",
   "metadata": {
    "id": "kgt_meryhhZC",
    "lang": "en"
   },
   "source": [
    "---\n",
    "# Array Expressions and Operations"
   ]
  },
  {
   "cell_type": "markdown",
   "metadata": {
    "id": "9w-3R_S0hhZC",
    "lang": "en"
   },
   "source": [
    "All Python operators can be used with arrays. All operations are performed elementwise on the values in the array object."
   ]
  },
  {
   "cell_type": "markdown",
   "metadata": {},
   "source": [
    "## Elemental operations"
   ]
  },
  {
   "cell_type": "code",
   "execution_count": 16,
   "metadata": {
    "colab": {
     "base_uri": "https://localhost:8080/"
    },
    "id": "YA5haTJZJ_JO",
    "outputId": "745fa1b3-7ab6-43ce-deae-ec220dcf20cf"
   },
   "outputs": [
    {
     "name": "stdout",
     "output_type": "stream",
     "text": [
      "[[ 0  1  2  3  4]\n",
      " [ 5  6  7  8  9]\n",
      " [10 11 12 13 14]\n",
      " [15 16 17 18 19]\n",
      " [20 21 22 23 24]]\n"
     ]
    }
   ],
   "source": [
    "# Example array\n",
    "\n",
    "a = np.arange(25).reshape([5,5])\n",
    "print(a)"
   ]
  },
  {
   "cell_type": "markdown",
   "metadata": {
    "id": "sCRa_XU1hhZF",
    "lang": "en"
   },
   "source": [
    "### Addition and subtraction\n",
    "\n",
    "Adding and subtracting a scalar to an array object adds or subtracts the scalar to each element in the array."
   ]
  },
  {
   "cell_type": "code",
   "execution_count": 27,
   "metadata": {
    "colab": {
     "base_uri": "https://localhost:8080/"
    },
    "id": "zIwSF3DeJ_Ji",
    "outputId": "572442f2-4adc-4cba-93da-f5ec683ba020"
   },
   "outputs": [
    {
     "name": "stdout",
     "output_type": "stream",
     "text": [
      "[[ 3  4  5  6  7]\n",
      " [ 8  9 10 11 12]\n",
      " [13 14 15 16 17]\n",
      " [18 19 20 21 22]\n",
      " [23 24 25 26 27]]\n",
      "[[-3 -2 -1  0  1]\n",
      " [ 2  3  4  5  6]\n",
      " [ 7  8  9 10 11]\n",
      " [12 13 14 15 16]\n",
      " [17 18 19 20 21]]\n"
     ]
    }
   ],
   "source": [
    "print(a+3)\n",
    "print(a-3)"
   ]
  },
  {
   "cell_type": "markdown",
   "metadata": {
    "id": "vrAbTH_3hhZI",
    "lang": "en"
   },
   "source": [
    "### Multiplication and division\n",
    "\n",
    "Multiplying and dividing an array object by a scalar multiplies or divides each element in the array by the scalar."
   ]
  },
  {
   "cell_type": "code",
   "execution_count": 28,
   "metadata": {
    "colab": {
     "base_uri": "https://localhost:8080/"
    },
    "id": "LVzBua0bJ_Jp",
    "outputId": "8c0c5e67-0bc9-4bad-e4c4-d8855a7a5424"
   },
   "outputs": [
    {
     "name": "stdout",
     "output_type": "stream",
     "text": [
      "[[ 0  3  6  9 12]\n",
      " [15 18 21 24 27]\n",
      " [30 33 36 39 42]\n",
      " [45 48 51 54 57]\n",
      " [60 63 66 69 72]]\n",
      "[[0.         0.33333333 0.66666667 1.         1.33333333]\n",
      " [1.66666667 2.         2.33333333 2.66666667 3.        ]\n",
      " [3.33333333 3.66666667 4.         4.33333333 4.66666667]\n",
      " [5.         5.33333333 5.66666667 6.         6.33333333]\n",
      " [6.66666667 7.         7.33333333 7.66666667 8.        ]]\n"
     ]
    }
   ],
   "source": [
    "print(a*3)\n",
    "print(a/3)"
   ]
  },
  {
   "cell_type": "markdown",
   "metadata": {},
   "source": [
    "### Negation\n",
    "\n",
    "Negating an array object negates each element in the array."
   ]
  },
  {
   "cell_type": "code",
   "execution_count": 29,
   "metadata": {},
   "outputs": [
    {
     "name": "stdout",
     "output_type": "stream",
     "text": [
      "[[  0  -1  -2  -3  -4]\n",
      " [ -5  -6  -7  -8  -9]\n",
      " [-10 -11 -12 -13 -14]\n",
      " [-15 -16 -17 -18 -19]\n",
      " [-20 -21 -22 -23 -24]]\n"
     ]
    }
   ],
   "source": [
    "print(-a)"
   ]
  },
  {
   "cell_type": "markdown",
   "metadata": {
    "id": "0VSufpeVhhZK",
    "lang": "en"
   },
   "source": [
    "## Elemental functions\n",
    "\n",
    "NumPy includes a large number of mathematical functions that can be applied to array objects. All functions are applied elementwise to the array object. It is important to note that the functions in the standard Python **math** library do not work on array objects. Instead, NumPy includes its own versions of these functions that work on array objects."
   ]
  },
  {
   "cell_type": "code",
   "execution_count": 30,
   "metadata": {
    "colab": {
     "base_uri": "https://localhost:8080/"
    },
    "id": "6wcJWlHyJ_Ju",
    "outputId": "ab742bde-71b1-427a-974c-0dbf4cc6c7fa"
   },
   "outputs": [
    {
     "name": "stdout",
     "output_type": "stream",
     "text": [
      "[[ 0.          0.84147098  0.90929743  0.14112001 -0.7568025 ]\n",
      " [-0.95892427 -0.2794155   0.6569866   0.98935825  0.41211849]\n",
      " [-0.54402111 -0.99999021 -0.53657292  0.42016704  0.99060736]\n",
      " [ 0.65028784 -0.28790332 -0.96139749 -0.75098725  0.14987721]\n",
      " [ 0.91294525  0.83665564 -0.00885131 -0.8462204  -0.90557836]]\n"
     ]
    }
   ],
   "source": [
    "print(np.sin(a))"
   ]
  },
  {
   "cell_type": "markdown",
   "metadata": {
    "id": "c5N9ZS8IhhZR",
    "lang": "en"
   },
   "source": [
    "## Operators\n",
    "\n",
    "Operators in Python can also be used on array objects. The following table shows the most common operators and their meaning when used on array objects:"
   ]
  },
  {
   "cell_type": "code",
   "execution_count": 31,
   "metadata": {
    "colab": {
     "base_uri": "https://localhost:8080/"
    },
    "id": "M998URqBJ_J6",
    "outputId": "adaa861a-4117-490f-a32c-6e48a2246de5"
   },
   "outputs": [
    {
     "name": "stdout",
     "output_type": "stream",
     "text": [
      "[[ 0  2  4  6  8]\n",
      " [10 12 14 16 18]\n",
      " [20 22 24 26 28]\n",
      " [30 32 34 36 38]\n",
      " [40 42 44 46 48]]\n"
     ]
    }
   ],
   "source": [
    "print(a+a)"
   ]
  },
  {
   "cell_type": "markdown",
   "metadata": {
    "id": "PBlnX0EyhhZV",
    "lang": "en"
   },
   "source": [
    "The array sizes do not have to be the same. The operations on the smaller array will be repeated on the larger array:"
   ]
  },
  {
   "cell_type": "code",
   "execution_count": 32,
   "metadata": {
    "colab": {
     "base_uri": "https://localhost:8080/"
    },
    "id": "uWIQ0TWJJ_KA",
    "outputId": "72f49e64-3e69-4de6-e8db-bef8715860d9"
   },
   "outputs": [
    {
     "name": "stdout",
     "output_type": "stream",
     "text": [
      "[1 2 3]\n",
      "[[1. 1. 1.]\n",
      " [1. 1. 1.]\n",
      " [1. 1. 1.]\n",
      " [1. 1. 1.]\n",
      " [1. 1. 1.]]\n",
      "[[2. 3. 4.]\n",
      " [2. 3. 4.]\n",
      " [2. 3. 4.]\n",
      " [2. 3. 4.]\n",
      " [2. 3. 4.]]\n"
     ]
    }
   ],
   "source": [
    "a = np.array([1,2,3])\n",
    "b = np.ones([5,3])\n",
    "print(a)\n",
    "print(b)\n",
    "print(a+b)"
   ]
  },
  {
   "cell_type": "markdown",
   "metadata": {},
   "source": [
    "Multiplying two arrays of the same size multiplies each element in the first array with the corresponding element in the second array, not a matrix multiplication. For matrix multiplication, the **@** operator or the **np.dot()** function must be used (See next section)."
   ]
  },
  {
   "cell_type": "markdown",
   "metadata": {},
   "source": [
    "## Matrix multiplication\n",
    "\n",
    "Matrix multiplication is performed with the **@** operator or the **np.matmul()** function. The number of columns in the first matrix must be equal to the number of rows in the second matrix."
   ]
  },
  {
   "cell_type": "code",
   "execution_count": 33,
   "metadata": {},
   "outputs": [
    {
     "name": "stdout",
     "output_type": "stream",
     "text": [
      "[[1 2 3]\n",
      " [4 5 6]\n",
      " [7 8 9]]\n",
      "[[9 8 7]\n",
      " [6 5 4]\n",
      " [3 2 1]]\n",
      "[[ 30  24  18]\n",
      " [ 84  69  54]\n",
      " [138 114  90]]\n",
      "[[ 30  24  18]\n",
      " [ 84  69  54]\n",
      " [138 114  90]]\n"
     ]
    }
   ],
   "source": [
    "A = np.array([[1,2,3],[4,5,6],[7,8,9]])\n",
    "B = np.array([[9,8,7],[6,5,4],[3,2,1]])\n",
    "print(A)\n",
    "print(B)\n",
    "print(A @ B)\n",
    "print(np.matmul(A, B))"
   ]
  },
  {
   "cell_type": "markdown",
   "metadata": {},
   "source": [
    "---\n",
    "\n",
    "# Broadcasting Rules\n",
    "\n",
    "Broadcasting is one of NumPy's most powerful features, allowing operations between arrays of different shapes. Understanding broadcasting is crucial for writing efficient NumPy code.\n",
    "\n",
    "## Broadcasting Rules\n",
    "\n",
    "NumPy follows specific rules when performing operations on arrays with different shapes:\n",
    "\n",
    "1. **Rule 1**: If arrays have different numbers of dimensions, the smaller array is padded with ones on the left side.\n",
    "2. **Rule 2**: If arrays have different sizes in any dimension, the array with size 1 in that dimension is stretched.\n",
    "3. **Rule 3**: If arrays have different sizes in any dimension and neither has size 1, a ValueError is raised.\n",
    "\n",
    "## Broadcasting Examples"
   ]
  },
  {
   "cell_type": "markdown",
   "metadata": {},
   "source": [
    "### Scalar and array (simplest broadcasting)"
   ]
  },
  {
   "cell_type": "code",
   "execution_count": 34,
   "metadata": {},
   "outputs": [
    {
     "name": "stdout",
     "output_type": "stream",
     "text": [
      "Array: [1 2 3 4]\n",
      "Scalar: 10\n",
      "Result: [11 12 13 14]\n",
      "Shapes: (4,) + scalar -> (4,)\n",
      "\n"
     ]
    }
   ],
   "source": [
    "a = np.array([1, 2, 3, 4])\n",
    "b = 10\n",
    "result = a + b\n",
    "print(f\"Array: {a}\")\n",
    "print(f\"Scalar: {b}\")\n",
    "print(f\"Result: {result}\")\n",
    "print(f\"Shapes: {a.shape} + scalar -> {result.shape}\")\n",
    "print()"
   ]
  },
  {
   "cell_type": "markdown",
   "metadata": {},
   "source": [
    "### 1D arrays with different sizes"
   ]
  },
  {
   "cell_type": "code",
   "execution_count": 35,
   "metadata": {},
   "outputs": [
    {
     "name": "stdout",
     "output_type": "stream",
     "text": [
      "Array a (2x3):\n",
      "[[1 2 3]\n",
      " [4 5 6]]\n",
      "Array b (3,): [10 20 30]\n",
      "Result:\n",
      "[[11 22 33]\n",
      " [14 25 36]]\n",
      "Broadcasting: (2, 3) + (3,) -> (2, 3)\n",
      "\n"
     ]
    }
   ],
   "source": [
    "a = np.array([[1, 2, 3],\n",
    "              [4, 5, 6]])  # Shape (2, 3)\n",
    "b = np.array([10, 20, 30])  # Shape (3,)\n",
    "result = a + b\n",
    "print(f\"Array a (2x3):\\n{a}\")\n",
    "print(f\"Array b (3,): {b}\")\n",
    "print(f\"Result:\\n{result}\")\n",
    "print(f\"Broadcasting: {a.shape} + {b.shape} -> {result.shape}\")\n",
    "print()"
   ]
  },
  {
   "cell_type": "markdown",
   "metadata": {},
   "source": [
    "### 2D arrays with compatible shapes"
   ]
  },
  {
   "cell_type": "code",
   "execution_count": 36,
   "metadata": {},
   "outputs": [
    {
     "name": "stdout",
     "output_type": "stream",
     "text": [
      "Array a (1x3):\n",
      "[[1 2 3]]\n",
      "Array b (3x1):\n",
      "[[10]\n",
      " [20]\n",
      " [30]]\n",
      "Result (3x3):\n",
      "[[11 12 13]\n",
      " [21 22 23]\n",
      " [31 32 33]]\n",
      "Broadcasting: (1, 3) + (3, 1) -> (3, 3)\n"
     ]
    }
   ],
   "source": [
    "\n",
    "a = np.array([[1, 2, 3]])  # Shape (1, 3)\n",
    "b = np.array([[10],\n",
    "              [20],\n",
    "              [30]])       # Shape (3, 1)\n",
    "result = a + b\n",
    "print(f\"Array a (1x3):\\n{a}\")\n",
    "print(f\"Array b (3x1):\\n{b}\")\n",
    "print(f\"Result (3x3):\\n{result}\")\n",
    "print(f\"Broadcasting: {a.shape} + {b.shape} -> {result.shape}\")"
   ]
  },
  {
   "cell_type": "markdown",
   "metadata": {},
   "source": [
    "---\n",
    "# Array Indexing\n",
    "\n",
    "To access elements in an array, you can use indexing and slicing techniques similar to those used with Python lists. However, NumPy arrays offer more advanced indexing capabilities."
   ]
  },
  {
   "cell_type": "markdown",
   "metadata": {},
   "source": [
    "## Accessing array elements (indexing)"
   ]
  },
  {
   "cell_type": "markdown",
   "metadata": {},
   "source": [
    "Reaching specific elements in an array is used by Python's normal index operator **[]**"
   ]
  },
  {
   "cell_type": "code",
   "execution_count": 37,
   "metadata": {},
   "outputs": [
    {
     "name": "stdout",
     "output_type": "stream",
     "text": [
      "[ 0  1  2  3  4  5  6  7  8  9 10 11 12 13 14 15 16 17 18 19 20 21 22 23\n",
      " 24]\n",
      "2\n",
      "[[ 0  1  2  3  4]\n",
      " [ 5  6  7  8  9]\n",
      " [10 11 12 13 14]\n",
      " [15 16 17 18 19]\n",
      " [20 21 22 23 24]]\n",
      "7\n"
     ]
    }
   ],
   "source": [
    "a = np.arange(25)\n",
    "print(a)\n",
    "print(a[2])\n",
    "\n",
    "b = np.arange(25).reshape([5,5])\n",
    "\n",
    "print(b)\n",
    "print(b[1,2])"
   ]
  },
  {
   "cell_type": "markdown",
   "metadata": {},
   "source": [
    "## Assigning array elements\n",
    "\n",
    "Assignment of value in an array is done in the same way:"
   ]
  },
  {
   "cell_type": "code",
   "execution_count": 38,
   "metadata": {},
   "outputs": [
    {
     "name": "stdout",
     "output_type": "stream",
     "text": [
      "[ 0  1 42  3  4  5  6  7  8  9 10 11 12 13 14 15 16 17 18 19 20 21 22 23\n",
      " 24]\n",
      "[[ 0  1  2  3  4]\n",
      " [ 5  6 42  8  9]\n",
      " [10 11 12 13 14]\n",
      " [15 16 17 18 19]\n",
      " [20 21 22 23 24]]\n"
     ]
    }
   ],
   "source": [
    "a[2] = 42\n",
    "b[1,2] = 42\n",
    "\n",
    "print(a)\n",
    "print(b)"
   ]
  },
  {
   "cell_type": "markdown",
   "metadata": {
    "id": "EtHSVYIchhZt",
    "lang": "en"
   },
   "source": [
    "It is also possible to mix array objects and lists when creating array objects:"
   ]
  },
  {
   "cell_type": "code",
   "execution_count": 39,
   "metadata": {
    "id": "ZrLTI_VgJ_LG"
   },
   "outputs": [],
   "source": [
    "b[1] = [42,42,42,42,42]"
   ]
  },
  {
   "cell_type": "code",
   "execution_count": 40,
   "metadata": {
    "id": "8raPKq43J_LI"
   },
   "outputs": [],
   "source": [
    "b[:,2] = [42,42,42,42,42]"
   ]
  },
  {
   "cell_type": "code",
   "execution_count": 41,
   "metadata": {
    "id": "yye1u9LcJ_LO"
   },
   "outputs": [
    {
     "name": "stdout",
     "output_type": "stream",
     "text": [
      "[[ 0  1 42  3  4]\n",
      " [42 42 42 42 42]\n",
      " [10 11 42 13 14]\n",
      " [15 16 42 18 19]\n",
      " [20 21 42 23 24]]\n"
     ]
    }
   ],
   "source": [
    "print(b)"
   ]
  },
  {
   "cell_type": "markdown",
   "metadata": {},
   "source": [
    "## Slicing arrays\n",
    "\n",
    "It is also possible to refer to sub-arrays or slices. The notation is described in the following points:\n",
    "\n",
    "* `a[start:end]` - values in `a` between *start* and *end-1*\n",
    "* `a[start:]` - values in `a` between *start* to the *end*\n",
    "* `a[:end]` - values in `a` up to *end-1*\n",
    "* `a[:]` - All values in `a`"
   ]
  },
  {
   "cell_type": "code",
   "execution_count": 42,
   "metadata": {},
   "outputs": [
    {
     "name": "stdout",
     "output_type": "stream",
     "text": [
      "[ 0  1  2  3  4  5  6  7  8  9 10 11 12 13 14 15 16 17 18 19 20 21 22 23\n",
      " 24]\n",
      "[1 2 3 4]\n"
     ]
    }
   ],
   "source": [
    "a = np.arange(25)\n",
    "print(a)\n",
    "print(a[1:5])"
   ]
  },
  {
   "cell_type": "markdown",
   "metadata": {},
   "source": [
    "## Memory efficiency: views vs. copies\n",
    "\n",
    "When creating sub-arrays or slices of an existing array, NumPy will, when possible, create a view of the original array. This means that no new memory is allocated for the sub-array, and changes to the sub-array will affect the original array.\n",
    "\n",
    "In most cases, NumPy tries to re-use allocated memory when creating sub-arrays or slices, but it is not always possible, which is illustrated in the following example:"
   ]
  },
  {
   "cell_type": "code",
   "execution_count": 43,
   "metadata": {},
   "outputs": [
    {
     "name": "stdout",
     "output_type": "stream",
     "text": [
      "[ 0  1  2  3  4  5  6  7  8  9 10 11 12 13 14 15 16 17 18 19 20 21 22 23\n",
      " 24]\n",
      "2830577964592\n",
      "<memory at 0x0000029311827B80>\n",
      "[1 2 3 4]\n",
      "2830577964600\n",
      "<memory at 0x0000029311827B80>\n",
      "[ 0 42  2  3  4  5  6  7  8  9 10 11 12 13 14 15 16 17 18 19 20 21 22 23\n",
      " 24]\n",
      "[42  2  3  4]\n"
     ]
    }
   ],
   "source": [
    "a = np.arange(25)\n",
    "\n",
    "print(a)\n",
    "print(memory_of(a))\n",
    "print(a.data)\n",
    "\n",
    "b = a[1:5]\n",
    "\n",
    "print(b)\n",
    "print(memory_of(b))\n",
    "print(b.data)\n",
    "\n",
    "b[0] = 42\n",
    "\n",
    "print(a)\n",
    "print(b)"
   ]
  },
  {
   "cell_type": "markdown",
   "metadata": {},
   "source": [
    "## More examples of sub arrays and slices:"
   ]
  },
  {
   "cell_type": "code",
   "execution_count": 44,
   "metadata": {},
   "outputs": [
    {
     "name": "stdout",
     "output_type": "stream",
     "text": [
      "[ 0  1  2  3  4  5  6  7  8  9 10 11 12 13 14 15]\n",
      "[ 0  1  2  3  4  5  6  7  8  9 10 11 12 13 14]\n",
      "[ 0  1  2  3  4  5  6  7  8  9 10 11 12 13]\n",
      "15\n",
      "[4 6 8]\n",
      "[15 14 13 12 11 10  9  8  7  6  5  4  3  2  1  0]\n"
     ]
    }
   ],
   "source": [
    "a = np.arange(16)\n",
    "\n",
    "print(a)\n",
    "print(a[:-1])    # All elements except the last\n",
    "print(a[:-2])    # All elements except the last 2\n",
    "print(a[-1])     # Last element of a\n",
    "print(a[4:10:2]) # Elements 4 till 9 with a step of 2\n",
    "print(a[::-1])   # All elements i a in reversed order"
   ]
  },
  {
   "cell_type": "markdown",
   "metadata": {},
   "source": [
    "Sub arrays and slices can be used in multidimensional arrays as well:"
   ]
  },
  {
   "cell_type": "code",
   "execution_count": 45,
   "metadata": {},
   "outputs": [
    {
     "name": "stdout",
     "output_type": "stream",
     "text": [
      "[[ 0  1  2  3]\n",
      " [ 4  5  6  7]\n",
      " [ 8  9 10 11]\n",
      " [12 13 14 15]]\n",
      "[ 0  4  8 12]\n",
      "[[ 0  1]\n",
      " [ 4  5]\n",
      " [ 8  9]\n",
      " [12 13]]\n",
      "[0 1 2 3]\n",
      "[[0 1 2 3]\n",
      " [4 5 6 7]]\n",
      "[12 13 14 15]\n",
      "[ 3  7 11 15]\n",
      "[[ 0  1  2  3]\n",
      " [ 8  9 10 11]]\n",
      "[[ 0  2]\n",
      " [ 4  6]\n",
      " [ 8 10]\n",
      " [12 14]]\n"
     ]
    }
   ],
   "source": [
    "b = np.reshape(a, (4,4))\n",
    "\n",
    "print(b)\n",
    "print(b[:,0])   # All rows in column 0\n",
    "print(b[:,0:2]) # All rows in column 0 and 1\n",
    "print(b[0,:])   # Rows 0\n",
    "print(b[0:2,:]) # Rows 0 to 1\n",
    "print(b[-1,:])  # Last row in b\n",
    "print(b[:,-1])  # Last column in b\n",
    "print(b[::2,:]) # Every other row in b\n",
    "print(b[:,::2]) # Every other column in b"
   ]
  },
  {
   "cell_type": "markdown",
   "metadata": {},
   "source": [
    "Beyond basic indexing and slicing, NumPy provides powerful advanced indexing techniques that are essential for scientific computing."
   ]
  },
  {
   "cell_type": "markdown",
   "metadata": {},
   "source": [
    "## Boolean Indexing\n",
    "\n",
    "Boolean indexing allows you to select elements based on conditions."
   ]
  },
  {
   "cell_type": "markdown",
   "metadata": {},
   "source": [
    "### Sample data\n",
    "\n",
    "To demonstrate boolean indexing, we first create a sample array with random values:"
   ]
  },
  {
   "cell_type": "code",
   "execution_count": 46,
   "metadata": {},
   "outputs": [
    {
     "name": "stdout",
     "output_type": "stream",
     "text": [
      "Original data:\n",
      "[[-1.00212258e+00 -1.53168341e-03 -4.89236676e-01  3.94204488e-01\n",
      "  -1.30126796e+00  1.87219728e+00]\n",
      " [ 1.22450351e+00 -1.81582940e+00  1.17032011e-01  2.45132114e-01\n",
      "  -1.26151471e+00  1.43757688e-01]\n",
      " [-1.28041653e+00 -1.25955051e+00 -1.34554505e+00 -4.94667574e-01\n",
      "   2.97105230e-01  2.78352326e-01]\n",
      " [-1.02091399e+00  1.49875170e-01  1.72504527e+00  5.18660855e-01\n",
      "  -1.03648584e+00 -8.49924645e-01]\n",
      " [ 3.37394293e-01  1.30558477e+00 -1.08915945e-01  5.84745983e-01\n",
      "   1.49434361e+00  1.17390930e+00]]\n",
      "\n"
     ]
    }
   ],
   "source": [
    "# Create sample data\n",
    "data = np.random.normal(0, 1, (5, 6))\n",
    "print(\"Original data:\")\n",
    "print(data)\n",
    "print()"
   ]
  },
  {
   "cell_type": "markdown",
   "metadata": {},
   "source": [
    "### Boolean indexing with conditions\n",
    "\n",
    "We can create a boolean array by applying a condition to the original array. This boolean array can then be used to index the original array, extracting only the elements that meet the condition. We can see the boolean nature of the indexing array by printing it.\n"
   ]
  },
  {
   "cell_type": "code",
   "execution_count": 47,
   "metadata": {},
   "outputs": [
    {
     "name": "stdout",
     "output_type": "stream",
     "text": [
      "Boolean mask (positive values):\n",
      "[[False False False  True False  True]\n",
      " [ True False  True  True False  True]\n",
      " [False False False False  True  True]\n",
      " [False  True  True  True False False]\n",
      " [ True  True False  True  True  True]]\n",
      "\n"
     ]
    }
   ],
   "source": [
    "positive_mask = data > 0\n",
    "print(\"Boolean mask (positive values):\")\n",
    "print(positive_mask)\n",
    "print()"
   ]
  },
  {
   "cell_type": "markdown",
   "metadata": {},
   "source": [
    "### Extract positive values\n",
    "\n",
    "We then use the boolean array to extract only the positive values from the original array. "
   ]
  },
  {
   "cell_type": "code",
   "execution_count": 48,
   "metadata": {},
   "outputs": [
    {
     "name": "stdout",
     "output_type": "stream",
     "text": [
      "Positive values:\n",
      "[0.39420449 1.87219728 1.22450351 0.11703201 0.24513211 0.14375769\n",
      " 0.29710523 0.27835233 0.14987517 1.72504527 0.51866086 0.33739429\n",
      " 1.30558477 0.58474598 1.49434361 1.1739093 ]\n",
      "\n"
     ]
    }
   ],
   "source": [
    "# Extract positive values\n",
    "positive_values = data[positive_mask]\n",
    "print(\"Positive values:\")\n",
    "print(positive_values)\n",
    "print()"
   ]
  },
  {
   "cell_type": "markdown",
   "metadata": {},
   "source": [
    "### Modify values using boolean indexing\n",
    "\n",
    "In the example below, we create a copy of the original array and clip values below -1. "
   ]
  },
  {
   "cell_type": "code",
   "execution_count": 49,
   "metadata": {},
   "outputs": [
    {
     "name": "stdout",
     "output_type": "stream",
     "text": [
      "Data after clipping values < -1:\n",
      "[[-1.00000000e+00 -1.53168341e-03 -4.89236676e-01  3.94204488e-01\n",
      "  -1.00000000e+00  1.87219728e+00]\n",
      " [ 1.22450351e+00 -1.00000000e+00  1.17032011e-01  2.45132114e-01\n",
      "  -1.00000000e+00  1.43757688e-01]\n",
      " [-1.00000000e+00 -1.00000000e+00 -1.00000000e+00 -4.94667574e-01\n",
      "   2.97105230e-01  2.78352326e-01]\n",
      " [-1.00000000e+00  1.49875170e-01  1.72504527e+00  5.18660855e-01\n",
      "  -1.00000000e+00 -8.49924645e-01]\n",
      " [ 3.37394293e-01  1.30558477e+00 -1.08915945e-01  5.84745983e-01\n",
      "   1.49434361e+00  1.17390930e+00]]\n",
      "\n"
     ]
    }
   ],
   "source": [
    "data_copy = data.copy()\n",
    "data_copy[data_copy < -1] = -1  # Clip values below -1\n",
    "print(\"Data after clipping values < -1:\")\n",
    "print(data_copy)\n",
    "print()"
   ]
  },
  {
   "cell_type": "markdown",
   "metadata": {},
   "source": [
    "### Complex conditions\n",
    "\n",
    "We can combine multiple conditions using logical operators such as `&` (and), `|` (or), and `~` (not). When combining conditions, ensure to use parentheses to group them correctly."
   ]
  },
  {
   "cell_type": "code",
   "execution_count": 50,
   "metadata": {},
   "outputs": [
    {
     "name": "stdout",
     "output_type": "stream",
     "text": [
      "Extreme values (|x| > 1.5):\n",
      "[ 1.87219728 -1.8158294   1.72504527]\n"
     ]
    }
   ],
   "source": [
    "extreme_mask = (data > 1.5) | (data < -1.5)\n",
    "print(\"Extreme values (|x| > 1.5):\")\n",
    "print(data[extreme_mask])"
   ]
  },
  {
   "cell_type": "markdown",
   "metadata": {},
   "source": [
    "## Fancy Indexing\n",
    "\n",
    "Fancy indexing allows you to access multiple array elements using arrays of indices."
   ]
  },
  {
   "cell_type": "markdown",
   "metadata": {},
   "source": [
    "### Create a 2D array"
   ]
  },
  {
   "cell_type": "code",
   "execution_count": 51,
   "metadata": {},
   "outputs": [
    {
     "name": "stdout",
     "output_type": "stream",
     "text": [
      "Original array:\n",
      "[[ 0  1  2  3]\n",
      " [ 4  5  6  7]\n",
      " [ 8  9 10 11]\n",
      " [12 13 14 15]\n",
      " [16 17 18 19]\n",
      " [20 21 22 23]]\n",
      "\n"
     ]
    }
   ],
   "source": [
    "arr = np.arange(24).reshape(6, 4)\n",
    "print(\"Original array:\")\n",
    "print(arr)\n",
    "print()"
   ]
  },
  {
   "cell_type": "markdown",
   "metadata": {},
   "source": [
    "### Fancy indexing with 1D indices"
   ]
  },
  {
   "cell_type": "code",
   "execution_count": 52,
   "metadata": {},
   "outputs": [
    {
     "name": "stdout",
     "output_type": "stream",
     "text": [
      "Select rows [0, 2, 4]:\n",
      "[[ 0  1  2  3]\n",
      " [ 8  9 10 11]\n",
      " [16 17 18 19]]\n",
      "\n"
     ]
    }
   ],
   "source": [
    "indices = [0, 2, 4]\n",
    "print(f\"Select rows {indices}:\")\n",
    "print(arr[indices])\n",
    "print()\n"
   ]
  },
  {
   "cell_type": "markdown",
   "metadata": {},
   "source": [
    "### Fancy indexing with 2D indices"
   ]
  },
  {
   "cell_type": "code",
   "execution_count": 53,
   "metadata": {},
   "outputs": [
    {
     "name": "stdout",
     "output_type": "stream",
     "text": [
      "Select specific elements (diagonal-like):\n",
      "Elements: [ 1  6 11]\n",
      "\n"
     ]
    }
   ],
   "source": [
    "row_indices = np.array([0, 1, 2])\n",
    "col_indices = np.array([1, 2, 3])\n",
    "print(\"Select specific elements (diagonal-like):\")\n",
    "print(f\"Elements: {arr[row_indices, col_indices]}\")\n",
    "print()"
   ]
  },
  {
   "cell_type": "markdown",
   "metadata": {},
   "source": [
    "### Advanced fancy indexing"
   ]
  },
  {
   "cell_type": "code",
   "execution_count": 54,
   "metadata": {},
   "outputs": [
    {
     "name": "stdout",
     "output_type": "stream",
     "text": [
      "Advanced fancy indexing:\n",
      "Selected elements:\n",
      "[[ 1  6]\n",
      " [ 8 15]]\n"
     ]
    }
   ],
   "source": [
    "# Select specific elements from multiple rows and columns\n",
    "rows = np.array([[0, 1], [2, 3]])\n",
    "cols = np.array([[1, 2], [0, 3]])\n",
    "print(\"Advanced fancy indexing:\")\n",
    "print(f\"Selected elements:\\n{arr[rows, cols]}\")\n",
    "\n",
    "# This creates a 2x2 array with elements:\n",
    "# arr[0,1], arr[1,2] in first row\n",
    "# arr[2,0], arr[3,3] in second row"
   ]
  },
  {
   "cell_type": "markdown",
   "metadata": {},
   "source": [
    "---\n",
    "\n",
    "# Memory Layout and Performance\n",
    "\n",
    "Understanding how NumPy stores arrays in memory is crucial for performance optimization in scientific computing. This knowledge helps you write more efficient code and understand performance bottlenecks.\n",
    "\n",
    "## Array Memory Storage\n",
    "\n",
    "NumPy arrays are stored as contiguous blocks of memory, but the order in which elements are stored can vary.\n",
    "\n",
    "### Row-major (C-style) vs Column-major (Fortran-style) Order\n",
    "\n",
    "- **C-order (row-major)**: Elements are stored row by row. This is the default in NumPy.\n",
    "- **Fortran-order (column-major)**: Elements are stored column by column.\n",
    "\n",
    "The choice of memory layout can significantly impact performance depending on how you access your data."
   ]
  },
  {
   "cell_type": "code",
   "execution_count": 55,
   "metadata": {},
   "outputs": [
    {
     "name": "stdout",
     "output_type": "stream",
     "text": [
      "Array Memory Layout Flags:\n",
      "==============================\n",
      "C-order array:\n",
      "  C_CONTIGUOUS: True\n",
      "  F_CONTIGUOUS: False\n",
      "\n",
      "Fortran-order array:\n",
      "  C_CONTIGUOUS: False\n",
      "  F_CONTIGUOUS: True\n",
      "\n",
      "Performance Comparison (1000x1000 array):\n",
      "=============================================\n",
      "\n",
      "1. Row-wise operations (should favor C-order):\n",
      "C-order row sum   : 1.33 ms\n",
      "F-order row sum   : 0.63 ms\n",
      "\n",
      "2. Column-wise operations (should favor F-order):\n",
      "C-order column sum: 0.65 ms\n",
      "F-order column sum: 1.38 ms\n",
      "\n",
      "3. Element-wise operations (layout independent):\n",
      "C-order sin       : 8.51 ms\n",
      "F-order sin       : 8.00 ms\n"
     ]
    },
    {
     "data": {
      "text/plain": [
       "array([[0.25053674, 0.44937201, 0.64728654, ..., 0.11338153, 0.59789361,\n",
       "        0.57598927],\n",
       "       [0.40678741, 0.24061479, 0.67112563, ..., 0.03679142, 0.57861078,\n",
       "        0.05489467],\n",
       "       [0.35801442, 0.01364363, 0.39452492, ..., 0.14470487, 0.10879114,\n",
       "        0.05453338],\n",
       "       ...,\n",
       "       [0.75194613, 0.13517298, 0.29927151, ..., 0.00523707, 0.51647515,\n",
       "        0.65786444],\n",
       "       [0.17277324, 0.04373653, 0.55447467, ..., 0.07774458, 0.67880384,\n",
       "        0.27294057],\n",
       "       [0.78455151, 0.47753529, 0.24719274, ..., 0.07169081, 0.06130078,\n",
       "        0.47603766]], shape=(1000, 1000))"
      ]
     },
     "execution_count": 55,
     "metadata": {},
     "output_type": "execute_result"
    },
    {
     "data": {
      "text/plain": [
       "array([[0.23973419, 0.80453002, 0.07963226, ..., 0.82212752, 0.49663997,\n",
       "        0.66104271],\n",
       "       [0.48292614, 0.42994818, 0.72366982, ..., 0.37811132, 0.43610088,\n",
       "        0.80599894],\n",
       "       [0.6761616 , 0.7092761 , 0.46762311, ..., 0.80154837, 0.67368582,\n",
       "        0.42514027],\n",
       "       ...,\n",
       "       [0.09993942, 0.16113463, 0.05417815, ..., 0.41781435, 0.84050585,\n",
       "        0.07375403],\n",
       "       [0.47607712, 0.72235314, 0.73921067, ..., 0.30502932, 0.39006008,\n",
       "        0.8071779 ],\n",
       "       [0.17850049, 0.55667887, 0.64352115, ..., 0.55164089, 0.65048067,\n",
       "        0.34621144]], shape=(1000, 1000))"
      ]
     },
     "execution_count": 45,
     "metadata": {},
     "output_type": "execute_result"
    }
   ],
   "source": [
    "import time\n",
    "\n",
    "# Create arrays with different memory layouts\n",
    "size = 1000\n",
    "a_c = np.random.random((size, size))  # C-order (row-major) - default\n",
    "a_f = np.asfortranarray(a_c)          # Fortran-order (column-major)\n",
    "\n",
    "print(\"Array Memory Layout Flags:\")\n",
    "print(\"=\"*30)\n",
    "print(f\"C-order array:\")\n",
    "print(f\"  C_CONTIGUOUS: {a_c.flags['C_CONTIGUOUS']}\")\n",
    "print(f\"  F_CONTIGUOUS: {a_c.flags['F_CONTIGUOUS']}\")\n",
    "\n",
    "print(f\"\\nFortran-order array:\")\n",
    "print(f\"  C_CONTIGUOUS: {a_f.flags['C_CONTIGUOUS']}\")\n",
    "print(f\"  F_CONTIGUOUS: {a_f.flags['F_CONTIGUOUS']}\")\n",
    "\n",
    "# Performance comparison function\n",
    "def time_operation(arr, operation_name, operation_func):\n",
    "    start = time.time()\n",
    "    result = operation_func(arr)\n",
    "    end = time.time()\n",
    "    print(f\"{operation_name}: {(end - start)*1000:.2f} ms\")\n",
    "    return result\n",
    "\n",
    "print(f\"\\nPerformance Comparison ({size}x{size} array):\")\n",
    "print(\"=\"*45)\n",
    "\n",
    "print(\"\\n1. Row-wise operations (should favor C-order):\")\n",
    "time_operation(a_c, \"C-order row sum   \", lambda x: np.sum(x, axis=1))\n",
    "time_operation(a_f, \"F-order row sum   \", lambda x: np.sum(x, axis=1))\n",
    "\n",
    "print(\"\\n2. Column-wise operations (should favor F-order):\")\n",
    "time_operation(a_c, \"C-order column sum\", lambda x: np.sum(x, axis=0))\n",
    "time_operation(a_f, \"F-order column sum\", lambda x: np.sum(x, axis=0))\n",
    "\n",
    "print(\"\\n3. Element-wise operations (layout independent):\")\n",
    "time_operation(a_c, \"C-order sin       \", lambda x: np.sin(x))\n",
    "time_operation(a_f, \"F-order sin       \", lambda x: np.sin(x))"
   ]
  },
  {
   "cell_type": "markdown",
   "metadata": {},
   "source": [
    "## Memory Views vs Copies\n",
    "\n",
    "Understanding when NumPy creates copies vs views is crucial for memory efficiency and avoiding unexpected behavior.\n",
    "\n",
    "### Views (No Copy)\n",
    "- Slicing operations typically create views\n",
    "- Reshaping (when possible) creates views\n",
    "- Transpose operations create views\n",
    "\n",
    "### Copies (New Memory Allocation)\n",
    "- Fancy indexing creates copies\n",
    "- Boolean indexing creates copies  \n",
    "- Some operations that change data type create copies"
   ]
  },
  {
   "cell_type": "code",
   "execution_count": 56,
   "metadata": {},
   "outputs": [
    {
     "name": "stdout",
     "output_type": "stream",
     "text": [
      "Original array:\n",
      "[[ 0  1  2  3  4  5]\n",
      " [ 6  7  8  9 10 11]\n",
      " [12 13 14 15 16 17]\n",
      " [18 19 20 21 22 23]]\n",
      "Memory address: 2830577961888\n",
      "\n",
      "==================================================\n",
      "VIEWS (No new memory allocated):\n",
      "==================================================\n",
      "\n",
      "1. Slicing: shares_memory = True\n",
      "   Original address: 2830577961888\n",
      "   Slice address:    2830577961952\n",
      "\n",
      "2. Transpose: shares_memory = True\n",
      "\n",
      "3. Reshape: shares_memory = True\n",
      "\n",
      "==================================================\n",
      "COPIES (New memory allocated):\n",
      "==================================================\n",
      "\n",
      "1. Fancy indexing: shares_memory = False\n",
      "\n",
      "2. Boolean indexing: shares_memory = False\n",
      "\n",
      "3. Explicit copy: shares_memory = False\n",
      "\n",
      "==================================================\n",
      "Demonstrating view behavior:\n",
      "==================================================\n",
      "After modifying original[1,2] = 999:\n",
      "slice_view[0, 0] = 999 (should be 999 if it's a view)\n",
      "fancy_copy[0, 2] = 2 (should be 8, unchanged if it's a copy)\n"
     ]
    }
   ],
   "source": [
    "# Helper function to check if arrays share memory\n",
    "def shares_memory(a, b):\n",
    "    return np.shares_memory(a, b)\n",
    "\n",
    "# Create original array\n",
    "original = np.arange(24).reshape(4, 6)\n",
    "print(\"Original array:\")\n",
    "print(original)\n",
    "print(f\"Memory address: {original.ctypes.data}\")\n",
    "\n",
    "print(\"\\n\" + \"=\"*50)\n",
    "print(\"VIEWS (No new memory allocated):\")\n",
    "print(\"=\"*50)\n",
    "\n",
    "# 1. Slicing creates a view\n",
    "slice_view = original[1:3, 2:5]\n",
    "print(f\"\\n1. Slicing: shares_memory = {shares_memory(original, slice_view)}\")\n",
    "print(f\"   Original address: {original.ctypes.data}\")\n",
    "print(f\"   Slice address:    {slice_view.ctypes.data}\")\n",
    "\n",
    "# 2. Transpose creates a view\n",
    "transpose_view = original.T\n",
    "print(f\"\\n2. Transpose: shares_memory = {shares_memory(original, transpose_view)}\")\n",
    "\n",
    "# 3. Reshape (when possible) creates a view\n",
    "reshape_view = original.reshape(6, 4)\n",
    "print(f\"\\n3. Reshape: shares_memory = {shares_memory(original, reshape_view)}\")\n",
    "\n",
    "print(\"\\n\" + \"=\"*50)\n",
    "print(\"COPIES (New memory allocated):\")\n",
    "print(\"=\"*50)\n",
    "\n",
    "# 1. Fancy indexing creates a copy\n",
    "fancy_copy = original[[0, 2], :]\n",
    "print(f\"\\n1. Fancy indexing: shares_memory = {shares_memory(original, fancy_copy)}\")\n",
    "\n",
    "# 2. Boolean indexing creates a copy\n",
    "bool_copy = original[original > 10]\n",
    "print(f\"\\n2. Boolean indexing: shares_memory = {shares_memory(original, bool_copy)}\")\n",
    "\n",
    "# 3. Explicit copy\n",
    "explicit_copy = original.copy()\n",
    "print(f\"\\n3. Explicit copy: shares_memory = {shares_memory(original, explicit_copy)}\")\n",
    "\n",
    "print(\"\\n\" + \"=\"*50)\n",
    "print(\"Demonstrating view behavior:\")\n",
    "print(\"=\"*50)\n",
    "# Modify original and see effect on view\n",
    "original[1, 2] = 999\n",
    "print(f\"After modifying original[1,2] = 999:\")\n",
    "print(f\"slice_view[0, 0] = {slice_view[0, 0]} (should be 999 if it's a view)\")\n",
    "print(f\"fancy_copy[0, 2] = {fancy_copy[0, 2]} (should be 8, unchanged if it's a copy)\")"
   ]
  },
  {
   "cell_type": "markdown",
   "metadata": {
    "id": "6NkByzVphhZz",
    "lang": "en"
   },
   "source": [
    "---\n",
    "\n",
    "# Array Methods and functions"
   ]
  },
  {
   "cell_type": "markdown",
   "metadata": {
    "id": "xdR__flohhZ0",
    "lang": "en"
   },
   "source": [
    "The array class provides many useful methods and functions. Methods work directly on the array object itself. Functions require an array as argument."
   ]
  },
  {
   "cell_type": "markdown",
   "metadata": {
    "id": "OEhvZIughhZ0",
    "lang": "en"
   },
   "source": [
    "## Calculate the sum of values in arrays"
   ]
  },
  {
   "cell_type": "markdown",
   "metadata": {
    "id": "1SMg3IkBhhZ1",
    "lang": "en"
   },
   "source": [
    "The **.sum()** method can be used to calculate the sum of arrays in different ways:"
   ]
  },
  {
   "cell_type": "code",
   "execution_count": 57,
   "metadata": {
    "colab": {
     "base_uri": "https://localhost:8080/"
    },
    "id": "sq3WkwpeJ_LW",
    "outputId": "fe419fa3-aab6-4ded-b4fd-b84a63ca8265"
   },
   "outputs": [
    {
     "name": "stdout",
     "output_type": "stream",
     "text": [
      "[[ 0  1  2  3  4  5]\n",
      " [ 6  7  8  9 10 11]\n",
      " [12 13 14 15 16 17]\n",
      " [18 19 20 21 22 23]\n",
      " [24 25 26 27 28 29]\n",
      " [30 31 32 33 34 35]]\n",
      "630\n",
      "630\n"
     ]
    }
   ],
   "source": [
    "a = np.arange(36).reshape(6,6)\n",
    "\n",
    "print(a)\n",
    "print(a.sum())\n",
    "print(np.sum(a))"
   ]
  },
  {
   "cell_type": "code",
   "execution_count": 58,
   "metadata": {
    "colab": {
     "base_uri": "https://localhost:8080/"
    },
    "id": "XUtRdxN_J_LZ",
    "outputId": "70158da9-a554-456e-8bcb-ec7694c6444e"
   },
   "outputs": [
    {
     "name": "stdout",
     "output_type": "stream",
     "text": [
      "[ 90  96 102 108 114 120]\n",
      "[ 15  51  87 123 159 195]\n",
      "[ 90  96 102 108 114 120]\n",
      "[ 15  51  87 123 159 195]\n"
     ]
    }
   ],
   "source": [
    "print(a.sum(0)) # Sum columns\n",
    "print(a.sum(1)) # Sum rows\n",
    "print(np.sum(a, 0))\n",
    "print(np.sum(a, 1))"
   ]
  },
  {
   "cell_type": "markdown",
   "metadata": {
    "id": "EEyNjXmohhZ5",
    "lang": "en"
   },
   "source": [
    "## Calculate the product of an array"
   ]
  },
  {
   "cell_type": "markdown",
   "metadata": {
    "id": "1qNFGfZ0hhZ5",
    "lang": "en"
   },
   "source": [
    "The **.prod()** method can be used in the same way as **.sum()**, but instead calculates the product of the values in the array."
   ]
  },
  {
   "cell_type": "code",
   "execution_count": 59,
   "metadata": {
    "id": "4yWTknMPJ_Lp"
   },
   "outputs": [
    {
     "name": "stdout",
     "output_type": "stream",
     "text": [
      "[[ 1.  2.  3.  4.  5.  6.]\n",
      " [ 7.  8.  9. 10. 11. 12.]\n",
      " [13. 14. 15. 16. 17. 18.]\n",
      " [19. 20. 21. 22. 23. 24.]\n",
      " [25. 26. 27. 28. 29. 30.]\n",
      " [31. 32. 33. 34. 35. 36.]]\n"
     ]
    }
   ],
   "source": [
    "a = np.arange(1,37,dtype=float).reshape(6,6)\n",
    "print(a)"
   ]
  },
  {
   "cell_type": "code",
   "execution_count": 89,
   "metadata": {
    "id": "eJUrEyfUJ_Lv"
   },
   "outputs": [
    {
     "name": "stdout",
     "output_type": "stream",
     "text": [
      "[ 7 16 27 40 55 72]\n",
      "[   720 665280]\n",
      "[ 7 16 27 40 55 72]\n",
      "[   720 665280]\n"
     ]
    }
   ],
   "source": [
    "print(a.prod(0)) # The product of the columns\n",
    "print(a.prod(1)) # The product of the rows\n",
    "print(np.prod(a, 0))\n",
    "print(np.prod(a, 1))"
   ]
  },
  {
   "cell_type": "markdown",
   "metadata": {
    "id": "6v3n35-zhhZ8",
    "lang": "en"
   },
   "source": [
    "---\n",
    "# Matrix Operations and Linear Algebra"
   ]
  },
  {
   "cell_type": "markdown",
   "metadata": {
    "id": "CXZ-bbFehhZ8",
    "lang": "en"
   },
   "source": [
    "**Note**: NumPy's `np.matrix` class has been deprecated since NumPy 1.15 and removed in NumPy 2.0. This section covers modern alternatives for linear algebra operations using regular NumPy arrays, which are more flexible and performant.\n",
    "\n",
    "## Why np.matrix was Deprecated\n",
    "\n",
    "The `np.matrix` class had several limitations:\n",
    "- It was always 2-dimensional, limiting flexibility\n",
    "- It had confusing behavior differences from arrays\n",
    "- The `*` operator meant matrix multiplication (not element-wise)\n",
    "- It created maintenance burden and confusion in the NumPy ecosystem\n",
    "\n",
    "## Modern Linear Algebra with NumPy Arrays\n",
    "\n",
    "NumPy arrays combined with dedicated functions provide all matrix functionality with better performance and clarity."
   ]
  },
  {
   "cell_type": "code",
   "execution_count": 61,
   "metadata": {
    "id": "jPEv9fqvJ_L5"
   },
   "outputs": [
    {
     "name": "stdout",
     "output_type": "stream",
     "text": [
      "Matrix A:\n",
      "[[ 1  2  3]\n",
      " [11 12 13]\n",
      " [21 22 23]]\n",
      "Shape: (3, 3)\n",
      "\n",
      "Column vector x:\n",
      "[[1]\n",
      " [2]\n",
      " [3]]\n",
      "Shape: (3, 1)\n",
      "\n",
      "Row vector y:\n",
      "[[1 2 3]]\n",
      "Shape: (1, 3)\n",
      "\n",
      "==================================================\n",
      "MATRIX OPERATIONS\n",
      "==================================================\n",
      "\n",
      "1. Matrix Transpose:\n",
      "A.T =\n",
      "[[ 1 11 21]\n",
      " [ 2 12 22]\n",
      " [ 3 13 23]]\n",
      "\n",
      "2. Matrix Multiplication (A @ x):\n",
      "[[ 14]\n",
      " [ 74]\n",
      " [134]]\n",
      "Shape: (3, 1)\n",
      "\n",
      "   Alternative using np.dot(A, x):\n",
      "[[ 14]\n",
      " [ 74]\n",
      " [134]]\n",
      "Arrays equal: True\n",
      "\n",
      "3. Matrix Inverse:\n",
      "Original matrix B:\n",
      "[[2. 1. 0.]\n",
      " [1. 2. 1.]\n",
      " [0. 1. 2.]]\n",
      "\n",
      "Inverse of B:\n",
      "[[ 0.75 -0.5   0.25]\n",
      " [-0.5   1.   -0.5 ]\n",
      " [ 0.25 -0.5   0.75]]\n",
      "\n",
      "Verification (B @ B_inv):\n",
      "[[ 1.00000000e+00  0.00000000e+00  0.00000000e+00]\n",
      " [-5.55111512e-17  1.00000000e+00  0.00000000e+00]\n",
      " [-1.11022302e-16  2.22044605e-16  1.00000000e+00]]\n",
      "Close to identity: True\n"
     ]
    }
   ],
   "source": [
    "# Create matrices using regular NumPy arrays\n",
    "A = np.array([[1, 2, 3],\n",
    "              [11, 12, 13], \n",
    "              [21, 22, 23]])\n",
    "x = np.array([[1], [2], [3]])  # Column vector\n",
    "y = np.array([[1, 2, 3]])      # Row vector\n",
    "\n",
    "print(\"Matrix A:\")\n",
    "print(A)\n",
    "print(f\"Shape: {A.shape}\")\n",
    "\n",
    "print(\"\\nColumn vector x:\")\n",
    "print(x)\n",
    "print(f\"Shape: {x.shape}\")\n",
    "\n",
    "print(\"\\nRow vector y:\")\n",
    "print(y)\n",
    "print(f\"Shape: {y.shape}\")\n",
    "\n",
    "# Matrix operations using modern NumPy\n",
    "print(\"\\n\" + \"=\"*50)\n",
    "print(\"MATRIX OPERATIONS\")\n",
    "print(\"=\"*50)\n",
    "\n",
    "# 1. Matrix transpose\n",
    "print(\"\\n1. Matrix Transpose:\")\n",
    "print(\"A.T =\")\n",
    "print(A.T)\n",
    "\n",
    "# 2. Matrix multiplication using @ operator (preferred) or np.dot()\n",
    "print(\"\\n2. Matrix Multiplication (A @ x):\")\n",
    "result_matmul = A @ x\n",
    "print(result_matmul)\n",
    "print(f\"Shape: {result_matmul.shape}\")\n",
    "\n",
    "# Alternative using np.dot()\n",
    "print(\"\\n   Alternative using np.dot(A, x):\")\n",
    "result_dot = np.dot(A, x)\n",
    "print(result_dot)\n",
    "print(f\"Arrays equal: {np.array_equal(result_matmul, result_dot)}\")\n",
    "\n",
    "# 3. Matrix inverse (for square matrices)\n",
    "print(\"\\n3. Matrix Inverse:\")\n",
    "# Create a well-conditioned square matrix for inversion\n",
    "B = np.array([[2, 1, 0],\n",
    "              [1, 2, 1], \n",
    "              [0, 1, 2]], dtype=float)\n",
    "              \n",
    "print(\"Original matrix B:\")\n",
    "print(B)\n",
    "\n",
    "B_inv = np.linalg.inv(B)\n",
    "print(\"\\nInverse of B:\")\n",
    "print(B_inv)\n",
    "\n",
    "# Verify: B @ B_inv should be identity matrix\n",
    "identity_check = B @ B_inv\n",
    "print(\"\\nVerification (B @ B_inv):\")\n",
    "print(identity_check)\n",
    "print(f\"Close to identity: {np.allclose(identity_check, np.eye(3))}\")"
   ]
  },
  {
   "cell_type": "markdown",
   "metadata": {},
   "source": [
    "## Advanced Linear Algebra Operations\n",
    "\n",
    "NumPy's `linalg` module provides comprehensive linear algebra functionality that surpasses the old matrix class."
   ]
  },
  {
   "cell_type": "code",
   "execution_count": 62,
   "metadata": {},
   "outputs": [
    {
     "name": "stdout",
     "output_type": "stream",
     "text": [
      "ADVANCED LINEAR ALGEBRA OPERATIONS\n",
      "==================================================\n",
      "Test matrix M (4x4):\n",
      "[[1.9383451  0.76780201 1.4940289  0.75654844]\n",
      " [0.76780201 0.80231093 1.04554899 0.33242197]\n",
      " [1.4940289  1.04554899 1.80385488 0.83237389]\n",
      " [0.75654844 0.33242197 0.83237389 0.80474618]]\n",
      "\n",
      "1. Eigenvalues: [4.28701606 0.06727908 0.54967272 0.44528923]\n",
      "   First eigenvector:\n",
      "[0.61691602 0.35431542 0.62685519 0.31769134]\n",
      "\n",
      "2. SVD - Singular values: [4.28701606 0.54967272 0.44528923 0.06727908]\n",
      "\n",
      "3. Determinant: 0.070596\n",
      "\n",
      "4. Matrix rank: 4\n",
      "\n",
      "5. Condition number: 63.719898\n",
      "\n",
      "6. Frobenius norm: 4.345510\n",
      "   Spectral norm: 4.287016\n",
      "\n",
      "7. Cholesky decomposition successful\n",
      "   L @ L.T equals M: True\n"
     ]
    }
   ],
   "source": [
    "# Advanced linear algebra examples\n",
    "print(\"ADVANCED LINEAR ALGEBRA OPERATIONS\")\n",
    "print(\"=\"*50)\n",
    "\n",
    "# Create a larger test matrix\n",
    "np.random.seed(42)\n",
    "M = np.random.random((4, 4))\n",
    "M = M @ M.T  # Make it positive definite for stability\n",
    "\n",
    "print(\"Test matrix M (4x4):\")\n",
    "print(M)\n",
    "\n",
    "# 1. Eigenvalues and eigenvectors\n",
    "eigenvals, eigenvecs = np.linalg.eig(M)\n",
    "print(f\"\\n1. Eigenvalues: {eigenvals}\")\n",
    "print(f\"   First eigenvector:\\n{eigenvecs[:, 0]}\")\n",
    "\n",
    "# 2. Singular Value Decomposition (SVD)\n",
    "U, s, Vt = np.linalg.svd(M)\n",
    "print(f\"\\n2. SVD - Singular values: {s}\")\n",
    "\n",
    "# 3. Matrix determinant\n",
    "det_M = np.linalg.det(M)\n",
    "print(f\"\\n3. Determinant: {det_M:.6f}\")\n",
    "\n",
    "# 4. Matrix rank\n",
    "rank_M = np.linalg.matrix_rank(M)\n",
    "print(f\"\\n4. Matrix rank: {rank_M}\")\n",
    "\n",
    "# 5. Condition number\n",
    "cond_M = np.linalg.cond(M)\n",
    "print(f\"\\n5. Condition number: {cond_M:.6f}\")\n",
    "\n",
    "# 6. Matrix norms\n",
    "frobenius_norm = np.linalg.norm(M, 'fro')\n",
    "spectral_norm = np.linalg.norm(M, 2)\n",
    "print(f\"\\n6. Frobenius norm: {frobenius_norm:.6f}\")\n",
    "print(f\"   Spectral norm: {spectral_norm:.6f}\")\n",
    "\n",
    "# 7. Cholesky decomposition (for positive definite matrices)\n",
    "try:\n",
    "    L = np.linalg.cholesky(M)\n",
    "    print(f\"\\n7. Cholesky decomposition successful\")\n",
    "    print(f\"   L @ L.T equals M: {np.allclose(L @ L.T, M)}\")\n",
    "except np.linalg.LinAlgError:\n",
    "    print(f\"\\n7. Matrix is not positive definite for Cholesky\")"
   ]
  },
  {
   "cell_type": "markdown",
   "metadata": {},
   "source": [
    "## Migration Guide: From np.matrix to Modern NumPy\n",
    "\n",
    "Here's a comparison showing how to replace deprecated `np.matrix` operations:\n",
    "\n",
    "| Old `np.matrix` syntax | Modern NumPy equivalent | Notes |\n",
    "|------------------------|-------------------------|--------|\n",
    "| `np.matrix([[1,2],[3,4]])` | `np.array([[1,2],[3,4]])` | Use regular arrays |\n",
    "| `A * B` (matrix mult) | `A @ B` or `np.dot(A, B)` | Use `@` operator (preferred) |\n",
    "| `A.I` | `np.linalg.inv(A)` | More explicit and clear |\n",
    "| `A.T` | `A.T` | Same syntax works |\n",
    "| `A.H` (Hermitian) | `A.conj().T` | Conjugate transpose |\n",
    "| `A**-1` | `np.linalg.inv(A)` | More explicit |\n",
    "\n",
    "## Best Practices for Linear Algebra\n",
    "\n",
    "1. **Use the `@` operator** for matrix multiplication (PEP 465)\n",
    "2. **Be explicit about dimensions** - use `.reshape()` when needed\n",
    "3. **Use `np.linalg` functions** for advanced operations\n",
    "4. **Consider numerical stability** - use appropriate solvers\n",
    "5. **Leverage broadcasting** for efficient operations"
   ]
  },
  {
   "cell_type": "code",
   "execution_count": 63,
   "metadata": {},
   "outputs": [
    {
     "name": "stdout",
     "output_type": "stream",
     "text": [
      "PRACTICAL EXAMPLE: Linear Regression\n",
      "==================================================\n",
      "Data shape: X = (100, 3), y = (100,)\n",
      "True coefficients: [ 2.5 -1.3  0.8]\n",
      "True intercept: 1.2\n",
      "\n",
      "Method 1: Normal Equation\n",
      "Estimated coefficients: [ 1.21128623  2.49223367 -1.30499636  0.78924067]\n",
      "\n",
      "Method 2: Using linalg.solve (recommended)\n",
      "Estimated coefficients: [ 1.21128623  2.49223367 -1.30499636  0.78924067]\n",
      "\n",
      "Method 3: Using linalg.lstsq (most robust)\n",
      "Estimated coefficients: [ 1.21128623  2.49223367 -1.30499636  0.78924067]\n",
      "Residual sum of squares: 0.756763\n",
      "\n",
      "All methods agree: True\n"
     ]
    }
   ],
   "source": [
    "# Practical example: Solving a linear regression problem\n",
    "print(\"PRACTICAL EXAMPLE: Linear Regression\")\n",
    "print(\"=\"*50)\n",
    "\n",
    "# Generate synthetic data\n",
    "np.random.seed(42)\n",
    "n_samples, n_features = 100, 3\n",
    "\n",
    "# True coefficients\n",
    "true_coef = np.array([2.5, -1.3, 0.8])\n",
    "true_intercept = 1.2\n",
    "\n",
    "# Generate features and add noise\n",
    "X = np.random.randn(n_samples, n_features)\n",
    "y = X @ true_coef + true_intercept + 0.1 * np.random.randn(n_samples)\n",
    "\n",
    "# Add intercept column\n",
    "X_with_intercept = np.column_stack([np.ones(n_samples), X])\n",
    "\n",
    "print(f\"Data shape: X = {X.shape}, y = {y.shape}\")\n",
    "print(f\"True coefficients: {true_coef}\")\n",
    "print(f\"True intercept: {true_intercept}\")\n",
    "\n",
    "# Method 1: Normal equation (X.T @ X)^-1 @ X.T @ y\n",
    "print(\"\\nMethod 1: Normal Equation\")\n",
    "coef_normal = np.linalg.inv(X_with_intercept.T @ X_with_intercept) @ X_with_intercept.T @ y\n",
    "print(f\"Estimated coefficients: {coef_normal}\")\n",
    "\n",
    "# Method 2: Using np.linalg.solve (more numerically stable)\n",
    "print(\"\\nMethod 2: Using linalg.solve (recommended)\")\n",
    "coef_solve = np.linalg.solve(X_with_intercept.T @ X_with_intercept, X_with_intercept.T @ y)\n",
    "print(f\"Estimated coefficients: {coef_solve}\")\n",
    "\n",
    "# Method 3: Using least squares (most robust)\n",
    "print(\"\\nMethod 3: Using linalg.lstsq (most robust)\")\n",
    "coef_lstsq, residuals, rank, s = np.linalg.lstsq(X_with_intercept, y, rcond=None)\n",
    "print(f\"Estimated coefficients: {coef_lstsq}\")\n",
    "print(f\"Residual sum of squares: {residuals[0]:.6f}\")\n",
    "\n",
    "# Compare methods\n",
    "print(f\"\\nAll methods agree: {np.allclose(coef_normal, coef_solve) and np.allclose(coef_solve, coef_lstsq)}\")"
   ]
  },
  {
   "cell_type": "markdown",
   "metadata": {},
   "source": [
    "## Performance Benefits of Modern Approach\n",
    "\n",
    "The modern NumPy array approach is not only more flexible but also more performant than the deprecated matrix class."
   ]
  },
  {
   "cell_type": "code",
   "execution_count": 64,
   "metadata": {},
   "outputs": [
    {
     "name": "stdout",
     "output_type": "stream",
     "text": [
      "PERFORMANCE COMPARISON\n",
      "========================================\n",
      "Matrix size: 1000x1000\n",
      "\n",
      "Matrix multiplication methods:\n",
      "A @ B (recommended): 19.00 ms\n",
      "np.dot(A, B): 15.47 ms\n",
      "np.matmul(A, B): 15.73 ms\n",
      "\n",
      "Key advantages of modern approach:\n",
      "- Better performance due to optimized BLAS routines\n",
      "- More explicit and readable code\n",
      "- Better integration with other NumPy functions\n",
      "- Consistent behavior with array broadcasting\n",
      "- No confusion between element-wise and matrix operations\n"
     ]
    },
    {
     "name": "stdout",
     "output_type": "stream",
     "text": [
      "A @ B (recommended): 43.62 ms\n",
      "np.dot(A, B): 21.81 ms\n",
      "np.matmul(A, B): 29.66 ms\n",
      "\n",
      "Key advantages of modern approach:\n",
      "- Better performance due to optimized BLAS routines\n",
      "- More explicit and readable code\n",
      "- Better integration with other NumPy functions\n",
      "- Consistent behavior with array broadcasting\n",
      "- No confusion between element-wise and matrix operations\n",
      "np.dot(A, B): 21.81 ms\n",
      "np.matmul(A, B): 29.66 ms\n",
      "\n",
      "Key advantages of modern approach:\n",
      "- Better performance due to optimized BLAS routines\n",
      "- More explicit and readable code\n",
      "- Better integration with other NumPy functions\n",
      "- Consistent behavior with array broadcasting\n",
      "- No confusion between element-wise and matrix operations\n"
     ]
    }
   ],
   "source": [
    "# Performance comparison: Modern arrays vs old matrix patterns\n",
    "import time\n",
    "\n",
    "# Create test data\n",
    "n = 1000\n",
    "np.random.seed(42)\n",
    "A_array = np.random.random((n, n))\n",
    "B_array = np.random.random((n, n))\n",
    "\n",
    "print(\"PERFORMANCE COMPARISON\")\n",
    "print(\"=\"*40)\n",
    "print(f\"Matrix size: {n}x{n}\")\n",
    "\n",
    "# Time different multiplication methods\n",
    "def time_operation(operation, name):\n",
    "    start = time.time()\n",
    "    result = operation()\n",
    "    end = time.time()\n",
    "    print(f\"{name}: {(end - start)*1000:.2f} ms\")\n",
    "    return result\n",
    "\n",
    "print(\"\\nMatrix multiplication methods:\")\n",
    "\n",
    "# Method 1: @ operator (modern, recommended)\n",
    "time_operation(lambda: A_array @ B_array, \"A @ B (recommended)\")\n",
    "\n",
    "# Method 2: np.dot() \n",
    "time_operation(lambda: np.dot(A_array, B_array), \"np.dot(A, B)\")\n",
    "\n",
    "# Method 3: np.matmul()\n",
    "time_operation(lambda: np.matmul(A_array, B_array), \"np.matmul(A, B)\")\n",
    "\n",
    "print(\"\\nKey advantages of modern approach:\")\n",
    "print(\"- Better performance due to optimized BLAS routines\")\n",
    "print(\"- More explicit and readable code\")\n",
    "print(\"- Better integration with other NumPy functions\")\n",
    "print(\"- Consistent behavior with array broadcasting\")\n",
    "print(\"- No confusion between element-wise and matrix operations\")"
   ]
  },
  {
   "cell_type": "markdown",
   "metadata": {},
   "source": [
    "## Summary\n",
    "\n",
    "The deprecation of `np.matrix` represents NumPy's evolution toward cleaner, more consistent APIs. Modern NumPy provides:\n",
    "\n",
    "- **Better Performance**: Optimized array operations and BLAS integration\n",
    "- **Greater Flexibility**: Works with n-dimensional arrays, not just 2D\n",
    "- **Clearer Semantics**: Explicit operators and function calls\n",
    "- **Consistent Behavior**: No special cases or surprising behaviors\n",
    "- **Future-Proof**: Actively maintained and developed\n",
    "\n",
    "**Recommendation**: Always use regular NumPy arrays with explicit linear algebra functions from `np.linalg` for matrix operations. This approach is more powerful, clearer, and will be supported long-term."
   ]
  },
  {
   "cell_type": "markdown",
   "metadata": {
    "id": "NVTqzsc5hhaA",
    "lang": "en"
   },
   "source": [
    "---\n",
    "\n",
    "# Reading and Writing Arrays "
   ]
  },
  {
   "cell_type": "markdown",
   "metadata": {
    "id": "r6rV30hqhhaA",
    "lang": "en"
   },
   "source": [
    "NumPy has many ways to handle the writing and reading of array objects:\n",
    "\n",
    "* Write arrays in NumPy's own binary format NPY / NPZ.\n",
    "* Text files with values row by row.\n",
    "* Direct reading and writing of binary files."
   ]
  },
  {
   "cell_type": "markdown",
   "metadata": {
    "id": "iLflUx98hhaC",
    "lang": "en"
   },
   "source": [
    "## Reading and writing NPY / NPZ files"
   ]
  },
  {
   "cell_type": "markdown",
   "metadata": {
    "id": "yOvzHbYthhaC",
    "lang": "en"
   },
   "source": [
    "### Writing NPY files"
   ]
  },
  {
   "cell_type": "code",
   "execution_count": 65,
   "metadata": {
    "id": "q-INhBioJ_L_"
   },
   "outputs": [],
   "source": [
    "x = np.linspace(0.0, 1.0, 100)\n",
    "y = np.random.uniform(0.0, 1.0, 100)\n",
    "\n",
    "np.save(\"x.npy\", x)\n",
    "np.save(\"y.npy\", y)"
   ]
  },
  {
   "cell_type": "code",
   "execution_count": 66,
   "metadata": {
    "id": "y7fVrMb1aj6O"
   },
   "outputs": [
    {
     "name": "stdout",
     "output_type": "stream",
     "text": [
      "['x.npy', 'y.npy']\n"
     ]
    }
   ],
   "source": [
    "import os\n",
    "print([f for f in os.listdir('.') if f.endswith('.npy')])"
   ]
  },
  {
   "cell_type": "markdown",
   "metadata": {
    "id": "76MiZyn8hhaF",
    "lang": "en"
   },
   "source": [
    "### Reading NPY files"
   ]
  },
  {
   "cell_type": "code",
   "execution_count": 67,
   "metadata": {
    "id": "PSxxVJe0J_MC"
   },
   "outputs": [
    {
     "data": {
      "image/png": "[encoded data removed]",
      "text/plain": [
       "<Figure size 800x600 with 1 Axes>"
      ]
     },
     "metadata": {},
     "output_type": "display_data"
    }
   ],
   "source": [
    "import matplotlib.pyplot as plt\n",
    "\n",
    "x = np.load(\"x.npy\")\n",
    "y = np.load(\"y.npy\")\n",
    "\n",
    "plt.figure(figsize=(8, 6))\n",
    "plt.plot(x, y, 'o')\n",
    "plt.xlabel('x')\n",
    "plt.ylabel('y')\n",
    "plt.title('Loaded data from NPY files')\n",
    "plt.show()"
   ]
  },
  {
   "cell_type": "markdown",
   "metadata": {
    "id": "E7bTIRfjhhaI",
    "lang": "en"
   },
   "source": [
    "### Using file objects with NPY files"
   ]
  },
  {
   "cell_type": "code",
   "execution_count": 68,
   "metadata": {
    "id": "ZtBIE_2DJ_MH"
   },
   "outputs": [],
   "source": [
    "x = np.linspace(0.0, 1.0, 100)\n",
    "y = np.random.uniform(0.0, 1.0, 100)\n",
    "\n",
    "with open(\"xy.dat\", \"wb\") as f:\n",
    "    np.save(f, x)\n",
    "    np.save(f, y)"
   ]
  },
  {
   "cell_type": "code",
   "execution_count": 69,
   "metadata": {
    "id": "efbmJfkEJ_MJ"
   },
   "outputs": [
    {
     "data": {
      "image/png": "[encoded data removed]",
      "text/plain": [
       "<Figure size 800x600 with 1 Axes>"
      ]
     },
     "metadata": {},
     "output_type": "display_data"
    }
   ],
   "source": [
    "with open(\"xy.dat\", \"rb\") as f:\n",
    "    x = np.load(f)\n",
    "    y = np.load(f)\n",
    "\n",
    "plt.figure(figsize=(8, 6))\n",
    "plt.plot(x, y, 'o')\n",
    "plt.xlabel('x')\n",
    "plt.ylabel('y')\n",
    "plt.title('Loaded data from binary file')\n",
    "plt.show()"
   ]
  },
  {
   "cell_type": "markdown",
   "metadata": {
    "id": "eMonmZvIhhaV",
    "lang": "en"
   },
   "source": [
    "---\n",
    "\n",
    "# Solve Equation Systems "
   ]
  },
  {
   "cell_type": "markdown",
   "metadata": {
    "id": "QkMau46KhhaV",
    "lang": "en"
   },
   "source": [
    "A common operation in linear algebra and engineering tasks is solving equation systems of the form:\n",
    "\n",
    "**Ax = b**\n",
    "\n",
    "where:\n",
    "- **A** is a coefficient matrix\n",
    "- **x** is the vector of unknowns\n",
    "- **b** is the result vector\n",
    "\n",
    "NumPy contains a function for this: **np.linalg.solve()**."
   ]
  },
  {
   "cell_type": "code",
   "execution_count": 70,
   "metadata": {
    "colab": {
     "base_uri": "https://localhost:8080/"
    },
    "id": "tPRmFPXOJ_MP",
    "outputId": "367e5c27-1054-4656-ace8-0185a6171c71"
   },
   "outputs": [
    {
     "name": "stdout",
     "output_type": "stream",
     "text": [
      "Coefficient matrix A:\n",
      "[[ 1.  2.  3.]\n",
      " [11. 12. 13.]\n",
      " [21. 22. 23.]]\n",
      "\n",
      "Result vector b:\n",
      "[1. 2. 3.]\n",
      "\n",
      "Solution vector x:\n",
      "[-0.01981424 -0.66037152  0.78018576]\n",
      "\n",
      "Verification (A @ x should equal b):\n",
      "A @ x = [1. 2. 3.]\n",
      "b = [1. 2. 3.]\n",
      "Difference: [2.22044605e-16 0.00000000e+00 1.77635684e-15]\n"
     ]
    }
   ],
   "source": [
    "# Define coefficient matrix A\n",
    "A = np.array([\n",
    "    [1, 2, 3],\n",
    "    [11, 12, 13],\n",
    "    [21, 22, 23]\n",
    "], dtype=float)\n",
    "\n",
    "# Define result vector b\n",
    "b = np.array([1, 2, 3], dtype=float)\n",
    "\n",
    "print(\"Coefficient matrix A:\")\n",
    "print(A)\n",
    "print(\"\\nResult vector b:\")\n",
    "print(b)\n",
    "\n",
    "# Solve the system Ax = b\n",
    "try:\n",
    "    x = np.linalg.solve(A, b)\n",
    "    print(\"\\nSolution vector x:\")\n",
    "    print(x)\n",
    "    \n",
    "    # Verify the solution\n",
    "    print(\"\\nVerification (A @ x should equal b):\")\n",
    "    print(\"A @ x =\", A @ x)\n",
    "    print(\"b =\", b)\n",
    "    print(\"Difference:\", np.abs(A @ x - b))\n",
    "    \n",
    "except np.linalg.LinAlgError:\n",
    "    print(\"Matrix is singular and cannot be solved\")"
   ]
  },
  {
   "cell_type": "markdown",
   "metadata": {},
   "source": [
    "## Advanced Equation System Examples\n",
    "\n",
    "### 1. Overdetermined Systems (More Equations than Unknowns)\n",
    "\n",
    "When you have more equations than unknowns, the system may not have an exact solution. We use least squares methods to find the best approximate solution."
   ]
  },
  {
   "cell_type": "code",
   "execution_count": 71,
   "metadata": {},
   "outputs": [
    {
     "name": "stdout",
     "output_type": "stream",
     "text": [
      "OVERDETERMINED SYSTEM EXAMPLE\n",
      "==================================================\n",
      "System: 5 equations, 3 unknowns\n",
      "Coefficient matrix A:\n",
      "[[ 0.49671415 -0.1382643   0.64768854]\n",
      " [ 1.52302986 -0.23415337 -0.23413696]\n",
      " [ 1.57921282  0.76743473 -0.46947439]\n",
      " [ 0.54256004 -0.46341769 -0.46572975]\n",
      " [ 0.24196227 -1.91328024 -1.72491783]]\n",
      "\n",
      "Right-hand side b: [ 3.01852947  2.4765191   1.01399248  0.06054611 -2.91877908]\n",
      "True solution (used to generate b): [ 2 -1  3]\n",
      "\n",
      "Least squares solution: [ 1.9473633  -0.88912926  2.95787933]\n",
      "Residual sum of squares: 0.001326\n",
      "Matrix rank: 3\n",
      "Normal equation solution: [ 1.9473633  -0.88912926  2.95787933]\n",
      "Solutions agree: True\n",
      "\n",
      "Residual vector magnitude: 0.036409\n"
     ]
    }
   ],
   "source": [
    "print(\"OVERDETERMINED SYSTEM EXAMPLE\")\n",
    "print(\"=\"*50)\n",
    "\n",
    "# Create an overdetermined system (5 equations, 3 unknowns)\n",
    "np.random.seed(42)\n",
    "A_over = np.random.randn(5, 3)  # 5x3 matrix\n",
    "x_true = np.array([2, -1, 3])   # True solution\n",
    "b_over = A_over @ x_true + 0.1 * np.random.randn(5)  # Add some noise\n",
    "\n",
    "print(f\"System: {A_over.shape[0]} equations, {A_over.shape[1]} unknowns\")\n",
    "print(\"Coefficient matrix A:\")\n",
    "print(A_over)\n",
    "print(f\"\\nRight-hand side b: {b_over}\")\n",
    "print(f\"True solution (used to generate b): {x_true}\")\n",
    "\n",
    "# Method 1: Least squares solution using lstsq\n",
    "x_lstsq, residuals, rank, singular_values = np.linalg.lstsq(A_over, b_over, rcond=None)\n",
    "print(f\"\\nLeast squares solution: {x_lstsq}\")\n",
    "print(f\"Residual sum of squares: {residuals[0]:.6f}\")\n",
    "print(f\"Matrix rank: {rank}\")\n",
    "\n",
    "# Method 2: Normal equation (A.T @ A) @ x = A.T @ b\n",
    "A_normal = A_over.T @ A_over\n",
    "b_normal = A_over.T @ b_over\n",
    "x_normal = np.linalg.solve(A_normal, b_normal)\n",
    "print(f\"Normal equation solution: {x_normal}\")\n",
    "print(f\"Solutions agree: {np.allclose(x_lstsq, x_normal)}\")\n",
    "\n",
    "# Verify the quality of fit\n",
    "residual_vector = A_over @ x_lstsq - b_over\n",
    "print(f\"\\nResidual vector magnitude: {np.linalg.norm(residual_vector):.6f}\")"
   ]
  },
  {
   "cell_type": "markdown",
   "metadata": {},
   "source": [
    "### 2. Underdetermined Systems (More Unknowns than Equations)\n",
    "\n",
    "When there are fewer equations than unknowns, there are infinitely many solutions. We typically find the minimum norm solution."
   ]
  },
  {
   "cell_type": "code",
   "execution_count": 72,
   "metadata": {},
   "outputs": [
    {
     "name": "stdout",
     "output_type": "stream",
     "text": [
      "UNDERDETERMINED SYSTEM EXAMPLE\n",
      "==================================================\n",
      "System: 2 equations, 4 unknowns\n",
      "Coefficient matrix A:\n",
      "[[ 1.  2.  3.  4.]\n",
      " [ 2.  1. -1.  2.]]\n",
      "Right-hand side b: [10.  5.]\n",
      "\n",
      "Minimum norm solution: [0.79908676 0.77625571 0.47945205 1.55251142]\n",
      "Solution norm: 1.970096\n",
      "Verification A @ x = [10.  5.]\n",
      "Target b = [10.  5.]\n",
      "Error: 0.0000000000\n",
      "\n",
      "Pseudoinverse solution: [0.79908676 0.77625571 0.47945205 1.55251142]\n",
      "Solutions agree: True\n"
     ]
    }
   ],
   "source": [
    "print(\"UNDERDETERMINED SYSTEM EXAMPLE\")\n",
    "print(\"=\"*50)\n",
    "\n",
    "# Create an underdetermined system (2 equations, 4 unknowns)\n",
    "A_under = np.array([\n",
    "    [1, 2, 3, 4],\n",
    "    [2, 1, -1, 2]\n",
    "], dtype=float)\n",
    "b_under = np.array([10, 5], dtype=float)\n",
    "\n",
    "print(f\"System: {A_under.shape[0]} equations, {A_under.shape[1]} unknowns\")\n",
    "print(\"Coefficient matrix A:\")\n",
    "print(A_under)\n",
    "print(f\"Right-hand side b: {b_under}\")\n",
    "\n",
    "# Find the minimum norm solution using least squares\n",
    "x_min_norm, residuals, rank, s = np.linalg.lstsq(A_under, b_under, rcond=None)\n",
    "print(f\"\\nMinimum norm solution: {x_min_norm}\")\n",
    "print(f\"Solution norm: {np.linalg.norm(x_min_norm):.6f}\")\n",
    "\n",
    "# Verify the solution\n",
    "verification = A_under @ x_min_norm\n",
    "print(f\"Verification A @ x = {verification}\")\n",
    "print(f\"Target b = {b_under}\")\n",
    "print(f\"Error: {np.linalg.norm(verification - b_under):.10f}\")\n",
    "\n",
    "# Alternative: Using pseudoinverse\n",
    "A_pinv = np.linalg.pinv(A_under)\n",
    "x_pinv = A_pinv @ b_under\n",
    "print(f\"\\nPseudoinverse solution: {x_pinv}\")\n",
    "print(f\"Solutions agree: {np.allclose(x_min_norm, x_pinv)}\")"
   ]
  },
  {
   "cell_type": "markdown",
   "metadata": {},
   "source": [
    "### 3. Ill-Conditioned Systems\n",
    "\n",
    "Some systems are numerically challenging to solve due to nearly singular coefficient matrices. Understanding condition numbers is crucial."
   ]
  },
  {
   "cell_type": "code",
   "execution_count": 73,
   "metadata": {},
   "outputs": [
    {
     "name": "stdout",
     "output_type": "stream",
     "text": [
      "ILL-CONDITIONED SYSTEM EXAMPLE\n",
      "==================================================\n",
      "1. Well-conditioned system:\n",
      "Coefficient matrix A:\n",
      "[[4. 1.]\n",
      " [1. 3.]]\n",
      "Condition number: 1.94\n",
      "\n",
      "2. Ill-conditioned system (Hilbert matrix 4x4):\n",
      "Coefficient matrix A:\n",
      "[[1.         0.5        0.33333333 0.25      ]\n",
      " [0.5        0.33333333 0.25       0.2       ]\n",
      " [0.33333333 0.25       0.2        0.16666667]\n",
      " [0.25       0.2        0.16666667 0.14285714]]\n",
      "Condition number: 1.55e+04\n",
      "\n",
      "Solutions:\n",
      "Well-conditioned: [0.18181818 0.27272727]\n",
      "Ill-conditioned: [  -4.   60. -180.  140.]\n",
      "\n",
      "Sensitivity test (tiny perturbation in b):\n",
      "Relative error in solution: 3.96e-09\n",
      "\n",
      "Interpretation:\n",
      "- Condition number < 100: Well-conditioned\n",
      "- Condition number > 1e12: Ill-conditioned\n",
      "- Rule of thumb: lose ~log10(condition_number) digits of precision\n"
     ]
    }
   ],
   "source": [
    "print(\"ILL-CONDITIONED SYSTEM EXAMPLE\")\n",
    "print(\"=\"*50)\n",
    "\n",
    "# Create a well-conditioned system\n",
    "A_good = np.array([\n",
    "    [4, 1],\n",
    "    [1, 3]\n",
    "], dtype=float)\n",
    "\n",
    "# Create an ill-conditioned system (Hilbert matrix)\n",
    "n = 4\n",
    "A_hilbert = np.array([[1/(i+j+1) for j in range(n)] for i in range(n)])\n",
    "\n",
    "print(\"1. Well-conditioned system:\")\n",
    "print(\"Coefficient matrix A:\")\n",
    "print(A_good)\n",
    "cond_good = np.linalg.cond(A_good)\n",
    "print(f\"Condition number: {cond_good:.2f}\")\n",
    "\n",
    "print(f\"\\n2. Ill-conditioned system (Hilbert matrix {n}x{n}):\")\n",
    "print(\"Coefficient matrix A:\")\n",
    "print(A_hilbert)\n",
    "cond_hilbert = np.linalg.cond(A_hilbert)\n",
    "print(f\"Condition number: {cond_hilbert:.2e}\")\n",
    "\n",
    "# Solve both systems with the same right-hand side\n",
    "b_test = np.ones(A_good.shape[0])\n",
    "x_good = np.linalg.solve(A_good, b_test[:2])\n",
    "\n",
    "b_hilbert = np.ones(n)\n",
    "x_hilbert = np.linalg.solve(A_hilbert, b_hilbert)\n",
    "\n",
    "print(f\"\\nSolutions:\")\n",
    "print(f\"Well-conditioned: {x_good}\")\n",
    "print(f\"Ill-conditioned: {x_hilbert}\")\n",
    "\n",
    "# Show sensitivity to perturbations\n",
    "b_perturbed = b_hilbert + 1e-10 * np.random.randn(n)\n",
    "x_perturbed = np.linalg.solve(A_hilbert, b_perturbed)\n",
    "relative_error = np.linalg.norm(x_perturbed - x_hilbert) / np.linalg.norm(x_hilbert)\n",
    "print(f\"\\nSensitivity test (tiny perturbation in b):\")\n",
    "print(f\"Relative error in solution: {relative_error:.2e}\")\n",
    "\n",
    "# Interpretation\n",
    "print(f\"\\nInterpretation:\")\n",
    "print(f\"- Condition number < 100: Well-conditioned\")\n",
    "print(f\"- Condition number > 1e12: Ill-conditioned\")\n",
    "print(f\"- Rule of thumb: lose ~log10(condition_number) digits of precision\")"
   ]
  },
  {
   "cell_type": "markdown",
   "metadata": {},
   "source": [
    "### 4. Sparse Systems and Iterative Methods\n",
    "\n",
    "For large systems with mostly zero entries, sparse methods are more efficient. While NumPy doesn't have built-in sparse solvers, we can demonstrate the concepts."
   ]
  },
  {
   "cell_type": "code",
   "execution_count": 74,
   "metadata": {},
   "outputs": [
    {
     "name": "stdout",
     "output_type": "stream",
     "text": [
      "SPARSE SYSTEM EXAMPLE\n",
      "==================================================\n",
      "Tridiagonal system size: 100x100\n",
      "Matrix structure (first 5x5 block):\n",
      "[[ 2. -1.  0.  0.  0.]\n",
      " [-1.  2. -1.  0.  0.]\n",
      " [ 0. -1.  2. -1.  0.]\n",
      " [ 0.  0. -1.  2. -1.]\n",
      " [ 0.  0.  0. -1.  2.]]\n",
      "Matrix sparsity: 0.030 (fraction of non-zero elements)\n",
      "\n",
      "Direct solver time: 0.0054 seconds\n",
      "\n",
      "Iterative solver (Jacobi method):\n",
      "Converged in 1000 iterations\n",
      "Iterative solver time: 0.1680 seconds\n",
      "Solution error: 5.76e+03\n",
      "\n",
      "Note: For production sparse systems, use scipy.sparse with:\n",
      "- scipy.sparse.csc_matrix() or csr_matrix() for storage\n",
      "- scipy.sparse.linalg.spsolve() for direct solving\n",
      "- scipy.sparse.linalg.cg() for conjugate gradient\n"
     ]
    }
   ],
   "source": [
    "print(\"SPARSE SYSTEM EXAMPLE\")\n",
    "print(\"=\"*50)\n",
    "\n",
    "# Create a tridiagonal system (common in differential equations)\n",
    "n = 100\n",
    "# Create tridiagonal matrix: -1 on sub-diagonal, 2 on diagonal, -1 on super-diagonal\n",
    "A_sparse = np.zeros((n, n))\n",
    "np.fill_diagonal(A_sparse, 2)\n",
    "np.fill_diagonal(A_sparse[1:], -1)\n",
    "np.fill_diagonal(A_sparse[:, 1:], -1)\n",
    "\n",
    "# Right-hand side vector\n",
    "b_sparse = np.ones(n)\n",
    "\n",
    "print(f\"Tridiagonal system size: {n}x{n}\")\n",
    "print(\"Matrix structure (first 5x5 block):\")\n",
    "print(A_sparse[:5, :5])\n",
    "\n",
    "# Calculate sparsity\n",
    "sparsity = np.count_nonzero(A_sparse) / (n * n)\n",
    "print(f\"Matrix sparsity: {sparsity:.3f} (fraction of non-zero elements)\")\n",
    "\n",
    "# Solve using direct method\n",
    "import time\n",
    "start = time.time()\n",
    "x_direct = np.linalg.solve(A_sparse, b_sparse)\n",
    "time_direct = time.time() - start\n",
    "print(f\"\\nDirect solver time: {time_direct:.4f} seconds\")\n",
    "\n",
    "# Simple Jacobi iteration (for demonstration)\n",
    "def jacobi_iteration(A, b, x0, max_iter=1000, tol=1e-8):\n",
    "    \"\"\"Simple Jacobi iterative solver.\"\"\"\n",
    "    x = x0.copy()\n",
    "    n = len(b)\n",
    "    \n",
    "    for iteration in range(max_iter):\n",
    "        x_new = np.zeros_like(x)\n",
    "        for i in range(n):\n",
    "            x_new[i] = (b[i] - np.dot(A[i], x) + A[i, i] * x[i]) / A[i, i]\n",
    "        \n",
    "        # Check convergence\n",
    "        if np.linalg.norm(x_new - x) < tol:\n",
    "            return x_new, iteration + 1\n",
    "        x = x_new\n",
    "    \n",
    "    return x, max_iter\n",
    "\n",
    "print(f\"\\nIterative solver (Jacobi method):\")\n",
    "x0 = np.zeros(n)  # Initial guess\n",
    "start = time.time()\n",
    "x_iterative, iterations = jacobi_iteration(A_sparse, b_sparse, x0)\n",
    "time_iterative = time.time() - start\n",
    "\n",
    "print(f\"Converged in {iterations} iterations\")\n",
    "print(f\"Iterative solver time: {time_iterative:.4f} seconds\")\n",
    "print(f\"Solution error: {np.linalg.norm(x_direct - x_iterative):.2e}\")\n",
    "\n",
    "# For very large sparse systems, consider scipy.sparse\n",
    "print(f\"\\nNote: For production sparse systems, use scipy.sparse with:\")\n",
    "print(f\"- scipy.sparse.csc_matrix() or csr_matrix() for storage\")\n",
    "print(f\"- scipy.sparse.linalg.spsolve() for direct solving\")\n",
    "print(f\"- scipy.sparse.linalg.cg() for conjugate gradient\")"
   ]
  },
  {
   "cell_type": "markdown",
   "metadata": {},
   "source": [
    "### 6. Numerical Considerations and Best Practices\n",
    "\n",
    "Understanding when and how to use different solving methods is crucial for robust numerical computing."
   ]
  },
  {
   "cell_type": "code",
   "execution_count": 76,
   "metadata": {},
   "outputs": [
    {
     "name": "stdout",
     "output_type": "stream",
     "text": [
      "NUMERICAL CONSIDERATIONS SUMMARY\n",
      "==================================================\n",
      "System Analysis:\n",
      "------------------------------\n",
      "\n",
      "Well-conditioned:\n",
      "  Shape: 2x2\n",
      "  Determinant: 1.10e+01\n",
      "  Condition number: 1.94e+00\n",
      "  Symmetric: Yes\n",
      "  Positive definite: True\n",
      "  Recommended: Cholesky decomposition\n",
      "\n",
      "Symmetric positive definite:\n",
      "  Shape: 2x2\n",
      "  Determinant: 1.60e+01\n",
      "  Condition number: 2.69e+00\n",
      "  Symmetric: Yes\n",
      "  Positive definite: True\n",
      "  Recommended: Cholesky decomposition\n",
      "\n",
      "Nearly singular:\n",
      "  Shape: 2x2\n",
      "  Determinant: 1.00e-04\n",
      "  Condition number: 4.00e+04\n",
      "  Symmetric: Yes\n",
      "  Positive definite: True\n",
      "  Recommended: Cholesky decomposition\n",
      "\n",
      "Rectangular (tall):\n",
      "  Shape: 5x3\n",
      "  Rank: 3\n",
      "  Full rank: True\n",
      "  Type: Overdetermined (least squares)\n",
      "  Recommended: np.linalg.lstsq\n",
      "\n",
      "Rectangular (wide):\n",
      "  Shape: 3x5\n",
      "  Rank: 3\n",
      "  Full rank: True\n",
      "  Type: Underdetermined (minimum norm)\n",
      "  Recommended: np.linalg.lstsq or pseudoinverse\n",
      "\n",
      "============================================================\n",
      "SOLVER SELECTION GUIDE:\n",
      "============================================================\n",
      "1. Well-conditioned square system:\n",
      "   → Use np.linalg.solve() (LU decomposition)\n",
      "\n",
      "2. Symmetric positive definite:\n",
      "   → Use scipy.linalg.solve() with assume_a='pos'\n",
      "   → Or manual Cholesky: scipy.linalg.cholesky_solve()\n",
      "\n",
      "3. Overdetermined system (m > n):\n",
      "   → Use np.linalg.lstsq() for least squares solution\n",
      "\n",
      "4. Underdetermined system (m < n):\n",
      "   → Use np.linalg.lstsq() for minimum norm solution\n",
      "\n",
      "5. Ill-conditioned or singular:\n",
      "   → Use np.linalg.lstsq() with appropriate rcond\n",
      "   → Consider regularization (Ridge regression)\n",
      "\n",
      "6. Large sparse system:\n",
      "   → Use scipy.sparse.linalg.spsolve() (direct)\n",
      "   → Use scipy.sparse.linalg.cg() (iterative)\n",
      "\n",
      "7. Very large system:\n",
      "   → Use iterative methods (CG, GMRES, BiCGSTAB)\n",
      "   → Consider preconditioning\n"
     ]
    }
   ],
   "source": [
    "print(\"NUMERICAL CONSIDERATIONS SUMMARY\")\n",
    "print(\"=\"*50)\n",
    "\n",
    "# Create test cases for different scenarios\n",
    "scenarios = {\n",
    "    \"Well-conditioned\": np.array([[4, 1], [1, 3]], dtype=float),\n",
    "    \"Symmetric positive definite\": np.array([[4, 2], [2, 5]], dtype=float),\n",
    "    \"Nearly singular\": np.array([[1, 1], [1, 1.0001]], dtype=float),\n",
    "    \"Rectangular (tall)\": np.random.randn(5, 3),\n",
    "    \"Rectangular (wide)\": np.random.randn(3, 5)\n",
    "}\n",
    "\n",
    "print(\"System Analysis:\")\n",
    "print(\"-\" * 30)\n",
    "\n",
    "for name, A in scenarios.items():\n",
    "    m, n = A.shape\n",
    "    print(f\"\\n{name}:\")\n",
    "    print(f\"  Shape: {m}x{n}\")\n",
    "    \n",
    "    if m == n:  # Square matrix\n",
    "        det = np.linalg.det(A)\n",
    "        cond = np.linalg.cond(A)\n",
    "        print(f\"  Determinant: {det:.2e}\")\n",
    "        print(f\"  Condition number: {cond:.2e}\")\n",
    "        \n",
    "        # Check if positive definite (for symmetric matrices)\n",
    "        if np.allclose(A, A.T):\n",
    "            eigenvals = np.linalg.eigvals(A)\n",
    "            is_pos_def = np.all(eigenvals > 0)\n",
    "            print(f\"  Symmetric: Yes\")\n",
    "            print(f\"  Positive definite: {is_pos_def}\")\n",
    "        \n",
    "        # Recommend solver\n",
    "        if cond < 1e12:\n",
    "            if np.allclose(A, A.T) and np.all(np.linalg.eigvals(A) > 0):\n",
    "                print(f\"  Recommended: Cholesky decomposition\")\n",
    "            else:\n",
    "                print(f\"  Recommended: LU decomposition (np.linalg.solve)\")\n",
    "        else:\n",
    "            print(f\"  Recommended: SVD-based solver (lstsq) or regularization\")\n",
    "    else:\n",
    "        rank = np.linalg.matrix_rank(A)\n",
    "        print(f\"  Rank: {rank}\")\n",
    "        print(f\"  Full rank: {rank == min(m, n)}\")\n",
    "        \n",
    "        if m > n:\n",
    "            print(f\"  Type: Overdetermined (least squares)\")\n",
    "            print(f\"  Recommended: np.linalg.lstsq\")\n",
    "        else:\n",
    "            print(f\"  Type: Underdetermined (minimum norm)\")\n",
    "            print(f\"  Recommended: np.linalg.lstsq or pseudoinverse\")\n",
    "\n",
    "print(f\"\\n\" + \"=\"*60)\n",
    "print(\"SOLVER SELECTION GUIDE:\")\n",
    "print(\"=\"*60)\n",
    "print(\"1. Well-conditioned square system:\")\n",
    "print(\"   → Use np.linalg.solve() (LU decomposition)\")\n",
    "print(\"\\n2. Symmetric positive definite:\")\n",
    "print(\"   → Use scipy.linalg.solve() with assume_a='pos'\")\n",
    "print(\"   → Or manual Cholesky: scipy.linalg.cholesky_solve()\")\n",
    "print(\"\\n3. Overdetermined system (m > n):\")\n",
    "print(\"   → Use np.linalg.lstsq() for least squares solution\")\n",
    "print(\"\\n4. Underdetermined system (m < n):\")\n",
    "print(\"   → Use np.linalg.lstsq() for minimum norm solution\")\n",
    "print(\"\\n5. Ill-conditioned or singular:\")\n",
    "print(\"   → Use np.linalg.lstsq() with appropriate rcond\")\n",
    "print(\"   → Consider regularization (Ridge regression)\")\n",
    "print(\"\\n6. Large sparse system:\")\n",
    "print(\"   → Use scipy.sparse.linalg.spsolve() (direct)\")\n",
    "print(\"   → Use scipy.sparse.linalg.cg() (iterative)\")\n",
    "print(\"\\n7. Very large system:\")\n",
    "print(\"   → Use iterative methods (CG, GMRES, BiCGSTAB)\")\n",
    "print(\"   → Consider preconditioning\")"
   ]
  },
  {
   "cell_type": "markdown",
   "metadata": {},
   "source": [
    "## Summary: Equation Systems in NumPy\n",
    "\n",
    "This expanded section covers the full spectrum of linear system solving:\n",
    "\n",
    "### Key Functions:\n",
    "- **`np.linalg.solve(A, b)`**: For well-conditioned square systems\n",
    "- **`np.linalg.lstsq(A, b)`**: For over/underdetermined systems  \n",
    "- **`np.linalg.pinv(A)`**: Moore-Penrose pseudoinverse\n",
    "- **`np.linalg.cond(A)`**: Condition number analysis\n",
    "\n",
    "### System Types:\n",
    "1. **Square Systems**: Unique solution (if well-conditioned)\n",
    "2. **Overdetermined**: Least squares approximate solution\n",
    "3. **Underdetermined**: Minimum norm solution from infinite solutions\n",
    "4. **Ill-conditioned**: Requires careful numerical treatment\n",
    "\n",
    "### Best Practices:\n",
    "- Always check the condition number before solving\n",
    "- Use `lstsq` for robustness with rectangular matrices\n",
    "- Consider the physical meaning of your problem when choosing methods\n",
    "- For large systems, explore sparse methods in scipy.sparse\n",
    "\n",
    "Understanding these concepts is essential for robust scientific computing and numerical analysis at the PhD level."
   ]
  },
  {
   "cell_type": "markdown",
   "metadata": {},
   "source": [
    "---\n",
    "# Vectorization vs Pure Python Performance\n",
    "\n",
    "One of NumPy's key advantages is vectorization - operations on entire arrays without explicit Python loops. Let's demonstrate the performance difference:"
   ]
  },
  {
   "cell_type": "code",
   "execution_count": 77,
   "metadata": {},
   "outputs": [
    {
     "name": "stdout",
     "output_type": "stream",
     "text": [
      "Performance Comparison:\n",
      "========================================\n",
      "\n",
      "1. Addition (1M elements):\n",
      "Pure Python: 128.95 ms\n",
      "NumPy vectorized: 2.39 ms\n",
      "\n",
      "2. Square root:\n",
      "Pure Python (100k): 37.44 ms\n",
      "NumPy vectorized (1M): 3.08 ms\n",
      "\n",
      "3. Complex operations (sin(x²) + cos(y²)):\n",
      "Pure Python (10k): 61.79 ms\n",
      "NumPy vectorized (1M): 26.07 ms\n",
      "\n",
      "Key Takeaways:\n",
      "- NumPy is typically 10-100x faster than pure Python\n",
      "- Performance difference increases with array size\n",
      "- Complex mathematical operations show the biggest speedup\n"
     ]
    }
   ],
   "source": [
    "import time\n",
    "import math\n",
    "import matplotlib.pyplot as plt\n",
    "\n",
    "# Create large arrays for performance testing\n",
    "n = 1000000\n",
    "a = np.random.random(n)\n",
    "b = np.random.random(n)\n",
    "\n",
    "# Pure Python approach\n",
    "def python_add(x, y):\n",
    "    result = []\n",
    "    for i in range(len(x)):\n",
    "        result.append(x[i] + y[i])\n",
    "    return result\n",
    "\n",
    "def python_sqrt(x):\n",
    "    result = []\n",
    "    for val in x:\n",
    "        result.append(val ** 0.5)\n",
    "    return result\n",
    "\n",
    "def python_complex_math(x, y):\n",
    "    result = []\n",
    "    for i in range(len(x)):\n",
    "        result.append(math.sin(x[i]**2) + math.cos(y[i]**2))\n",
    "    return result\n",
    "\n",
    "# Timing function\n",
    "def time_function(func, name=\"Operation\"):\n",
    "    start = time.time()\n",
    "    result = func()\n",
    "    end = time.time()\n",
    "    print(f\"{name}: {(end - start)*1000:.2f} ms\")\n",
    "    return result\n",
    "\n",
    "print(\"Performance Comparison:\")\n",
    "print(\"=\"*40)\n",
    "\n",
    "# Addition comparison\n",
    "print(\"\\n1. Addition (1M elements):\")\n",
    "time_function(lambda: python_add(a.tolist(), b.tolist()), \"Pure Python\")\n",
    "time_function(lambda: a + b, \"NumPy vectorized\")\n",
    "\n",
    "# Square root comparison  \n",
    "print(\"\\n2. Square root:\")\n",
    "time_function(lambda: python_sqrt(a.tolist()[:100000]), \"Pure Python (100k)\")\n",
    "time_function(lambda: np.sqrt(a), \"NumPy vectorized (1M)\")\n",
    "\n",
    "# Complex mathematical operations\n",
    "print(\"\\n3. Complex operations (sin(x²) + cos(y²)):\")\n",
    "# Use smaller subset for pure Python due to performance\n",
    "subset_size = 10000\n",
    "time_function(\n",
    "    lambda: python_complex_math(a.tolist()[:subset_size], b.tolist()[:subset_size]), \n",
    "    f\"Pure Python ({subset_size//1000}k)\"\n",
    ")\n",
    "time_function(\n",
    "    lambda: np.sin(a**2) + np.cos(b**2), \n",
    "    \"NumPy vectorized (1M)\"\n",
    ")\n",
    "\n",
    "print(\"\\nKey Takeaways:\")\n",
    "print(\"- NumPy is typically 10-100x faster than pure Python\")\n",
    "print(\"- Performance difference increases with array size\")\n",
    "print(\"- Complex mathematical operations show the biggest speedup\")"
   ]
  },
  {
   "cell_type": "markdown",
   "metadata": {},
   "source": [
    "---\n",
    "# Exercises\n",
    "\n",
    "These exercises will help you practice the concepts covered in this notebook. They range from basic array operations to advanced PhD-level computational problems. Try to solve them before looking at the solutions.\n",
    "\n",
    "## Exercise 1 - Basic Array Creation\n",
    "\n",
    "Create an integer array, `a`, with the values 1, 2, 3. Create a floating point array, `b` with values from 1.0 to 7.0. Print both arrays.\n",
    "\n",
    "### Give your answer below"
   ]
  },
  {
   "cell_type": "code",
   "execution_count": 78,
   "metadata": {},
   "outputs": [],
   "source": [
    "# Your solution here"
   ]
  },
  {
   "cell_type": "code",
   "execution_count": 79,
   "metadata": {},
   "outputs": [
    {
     "name": "stdout",
     "output_type": "stream",
     "text": [
      "[1 2 3]\n",
      "[1. 2. 3. 4. 5. 6. 7.]\n"
     ]
    }
   ],
   "source": [
    "#@title Click below for a solution\n",
    "\n",
    "a = np.array([1, 2, 3])\n",
    "b = np.array([1.0, 2.0, 3.0, 4.0, 5.0, 6.0, 7.0])\n",
    "print(a)\n",
    "print(b)"
   ]
  },
  {
   "cell_type": "markdown",
   "metadata": {},
   "source": [
    "---\n",
    "## Exercise 2 - Array Properties\n",
    "\n",
    "Write code to display all information on the following array:\n",
    "\n",
    "    b = np.array([\n",
    "        [1, 2, 3],\n",
    "        [4, 5, 6]], float\n",
    "    )\n",
    "\n",
    "### Give your answer below:"
   ]
  },
  {
   "cell_type": "code",
   "execution_count": 80,
   "metadata": {},
   "outputs": [],
   "source": [
    "# Your solution here"
   ]
  },
  {
   "cell_type": "code",
   "execution_count": 81,
   "metadata": {},
   "outputs": [
    {
     "name": "stdout",
     "output_type": "stream",
     "text": [
      "array shape = (2, 3)\n",
      "array ndim = 2\n",
      "array dtype = float64\n",
      "array size = 6\n",
      "array itemsize = 8\n"
     ]
    }
   ],
   "source": [
    "# @title Click below for a solution\n",
    "\n",
    "b = np.array([\n",
    "    [1, 2, 3],\n",
    "    [4, 5, 6]], float\n",
    ")\n",
    "\n",
    "print(\"array shape =\", b.shape)     # Size\n",
    "print(\"array ndim =\", b.ndim)       # Number of dimensions\n",
    "print(\"array dtype =\", b.dtype)     # Data type\n",
    "print(\"array size =\", b.size)       # Number of elements in the array\n",
    "print(\"array itemsize =\", b.itemsize) # Size of an element in bytes"
   ]
  },
  {
   "cell_type": "markdown",
   "metadata": {},
   "source": [
    "---\n",
    "## Exercise 3 - Array Reshaping\n",
    "\n",
    "Change the shape of the 2-dimensional array below to a one-dimensional array without changing the values in the array:\n",
    "\n",
    "    a = np.array([\n",
    "        [1, 2, 3, 4, 5, 6],\n",
    "        [7, 8, 9, 10, 11, 12]\n",
    "    ])\n",
    "\n",
    "### Give your answer below"
   ]
  },
  {
   "cell_type": "code",
   "execution_count": 82,
   "metadata": {},
   "outputs": [],
   "source": [
    "a = np.array([\n",
    "    [1, 2, 3, 4, 5, 6],\n",
    "    [7, 8, 9, 10, 11, 12]\n",
    "])\n",
    "\n",
    "# Use the np.reshape function - your solution here"
   ]
  },
  {
   "cell_type": "code",
   "execution_count": 83,
   "metadata": {},
   "outputs": [
    {
     "name": "stdout",
     "output_type": "stream",
     "text": [
      "[ 1  2  3  4  5  6  7  8  9 10 11 12]\n"
     ]
    }
   ],
   "source": [
    "# @title Click below for a solution\n",
    "\n",
    "a = np.array([\n",
    "    [1, 2, 3, 4, 5, 6],\n",
    "    [7, 8, 9, 10, 11, 12]\n",
    "])\n",
    "\n",
    "b = np.reshape(a, (12,))\n",
    "\n",
    "print(b)"
   ]
  },
  {
   "cell_type": "markdown",
   "metadata": {},
   "source": [
    "---\n",
    "## Exercise 4 - Advanced Broadcasting\n",
    "\n",
    "Create a function that computes the pairwise Euclidean distances between all points in a dataset using broadcasting. Given an array of shape (n, d) representing n points in d-dimensional space, return a (n, n) distance matrix.\n",
    "\n",
    "**Hint**: Use the formula: ||x - y||² = ||x||² + ||y||² - 2x·y\n",
    "\n",
    "### Give your answer below:"
   ]
  },
  {
   "cell_type": "code",
   "execution_count": 84,
   "metadata": {},
   "outputs": [
    {
     "name": "stdout",
     "output_type": "stream",
     "text": [
      "Sample points:\n",
      "[[0.37454012 0.95071431 0.73199394]\n",
      " [0.59865848 0.15601864 0.15599452]\n",
      " [0.05808361 0.86617615 0.60111501]\n",
      " [0.70807258 0.02058449 0.96990985]\n",
      " [0.83244264 0.21233911 0.18182497]]\n"
     ]
    }
   ],
   "source": [
    "# Test with sample data\n",
    "np.random.seed(42)\n",
    "points = np.random.random((5, 3))  # 5 points in 3D space\n",
    "print(\"Sample points:\")\n",
    "print(points)\n",
    "\n",
    "# Your solution here"
   ]
  },
  {
   "cell_type": "code",
   "execution_count": 85,
   "metadata": {},
   "outputs": [
    {
     "name": "stdout",
     "output_type": "stream",
     "text": [
      "Distance matrix (broadcasting method):\n",
      "[[0.         1.00675001 0.35273321 1.01636084 1.02837666]\n",
      " [1.00675001 0.         0.99733501 0.83232927 0.24185582]\n",
      " [0.35273321 0.99733501 0.         1.12850367 1.09678572]\n",
      " [1.01636084 0.83232927 1.12850367 0.         0.82055806]\n",
      " [1.02837666 0.24185582 1.09678572 0.82055806 0.        ]]\n",
      "\n",
      "Distance matrix (dot product method):\n",
      "[[0.00000000e+00 1.00675001e+00 3.52733207e-01 1.01636084e+00\n",
      "  1.02837666e+00]\n",
      " [1.00675001e+00 0.00000000e+00 9.97335012e-01 8.32329273e-01\n",
      "  2.41855823e-01]\n",
      " [3.52733207e-01 9.97335012e-01 2.10734243e-08 1.12850367e+00\n",
      "  1.09678572e+00]\n",
      " [1.01636084e+00 8.32329273e-01 1.12850367e+00 0.00000000e+00\n",
      "  8.20558061e-01]\n",
      " [1.02837666e+00 2.41855823e-01 1.09678572e+00 8.20558061e-01\n",
      "  0.00000000e+00]]\n",
      "\n",
      "Methods agree: False\n",
      "Scipy comparison: True\n"
     ]
    },
    {
     "name": "stdout",
     "output_type": "stream",
     "text": [
      "Scipy comparison: True\n"
     ]
    }
   ],
   "source": [
    "# @title Click for solution\n",
    "\n",
    "def pairwise_distances_broadcasting(points):\n",
    "    \"\"\"\n",
    "    Compute pairwise Euclidean distances using broadcasting.\n",
    "    \n",
    "    Args:\n",
    "        points: array of shape (n, d) representing n points in d dimensions\n",
    "        \n",
    "    Returns:\n",
    "        distance_matrix: array of shape (n, n) with pairwise distances\n",
    "    \"\"\"\n",
    "    # Reshape for broadcasting: (n, 1, d) and (1, n, d)\n",
    "    p1 = points[:, np.newaxis, :]  # Shape: (n, 1, d)\n",
    "    p2 = points[np.newaxis, :, :]  # Shape: (1, n, d)\n",
    "    \n",
    "    # Compute squared differences and sum over last axis\n",
    "    squared_distances = np.sum((p1 - p2) ** 2, axis=2)\n",
    "    \n",
    "    # Return distances (not squared)\n",
    "    return np.sqrt(squared_distances)\n",
    "\n",
    "# Alternative efficient implementation using dot products\n",
    "def pairwise_distances_dot(points):\n",
    "    \"\"\"More efficient implementation using dot products.\"\"\"\n",
    "    # Compute squared norms for each point\n",
    "    squared_norms = np.sum(points ** 2, axis=1)\n",
    "    \n",
    "    # Use broadcasting: ||x||² + ||y||² - 2x·y\n",
    "    distances_squared = (squared_norms[:, np.newaxis] + \n",
    "                        squared_norms[np.newaxis, :] - \n",
    "                        2 * np.dot(points, points.T))\n",
    "    \n",
    "    # Handle numerical precision issues\n",
    "    distances_squared = np.maximum(distances_squared, 0)\n",
    "    \n",
    "    return np.sqrt(distances_squared)\n",
    "\n",
    "# Test both implementations\n",
    "dist1 = pairwise_distances_broadcasting(points)\n",
    "dist2 = pairwise_distances_dot(points)\n",
    "\n",
    "print(\"Distance matrix (broadcasting method):\")\n",
    "print(dist1)\n",
    "print(\"\\nDistance matrix (dot product method):\")\n",
    "print(dist2)\n",
    "print(f\"\\nMethods agree: {np.allclose(dist1, dist2)}\")\n",
    "\n",
    "# Verify with scipy for correctness\n",
    "from scipy.spatial.distance import pdist, squareform\n",
    "scipy_distances = squareform(pdist(points))\n",
    "print(f\"Scipy comparison: {np.allclose(dist1, scipy_distances)}\")"
   ]
  },
  {
   "cell_type": "markdown",
   "metadata": {},
   "source": [
    "---\n",
    "## Exercise 5 - Memory-Efficient Image Processing\n",
    "\n",
    "You're working with a large dataset of images (represented as 3D arrays: height × width × channels). Write a function that:\n",
    "\n",
    "1. Normalizes each image to have zero mean and unit variance\n",
    "2. Applies a simple edge detection filter (Sobel operator)\n",
    "3. Uses memory views and in-place operations where possible to minimize memory usage\n",
    "\n",
    "Test your implementation on a batch of random \"images\" of size (10, 100, 100, 3).\n",
    "\n",
    "### Give your answer below:"
   ]
  },
  {
   "cell_type": "code",
   "execution_count": 12,
   "metadata": {},
   "outputs": [],
   "source": [
    "import numpy as np\n",
    "from scipy import ndimage\n",
    "import matplotlib.pyplot as plt\n",
    "\n",
    "def create_test_batch():\n",
    "    \"\"\"\n",
    "    Create a batch of test images with some patterns for better edge detection visualization.\n",
    "    \"\"\"\n",
    "    batch_size, height, width, channels = 10, 100, 100, 3\n",
    "    images = np.random.rand(batch_size, height, width, channels).astype(np.float32)\n",
    "    \n",
    "    # Add some structured patterns to make edge detection more visible\n",
    "\n",
    "    for i in range(batch_size):\n",
    "\n",
    "        # Add some geometric shapes for better edge detection\n",
    "\n",
    "        if i % 3 == 0:\n",
    "            \n",
    "            # Add a rectangle\n",
    "\n",
    "            images[i, 20:80, 30:70, :] += 0.5\n",
    "        elif i % 3 == 1:\n",
    "\n",
    "            # Add a circle-like pattern\n",
    "\n",
    "            y, x = np.ogrid[:height, :width]\n",
    "            center_y, center_x = height // 2, width // 2\n",
    "            mask = (x - center_x)**2 + (y - center_y)**2 < 30**2\n",
    "            images[i][mask] += 0.3\n",
    "        else:\n",
    "\n",
    "            # Add diagonal lines\n",
    "\n",
    "            for j in range(0, width, 10):\n",
    "                if j < height:\n",
    "                    images[i, j, :, :] += 0.4\n",
    "    \n",
    "    return images"
   ]
  },
  {
   "cell_type": "code",
   "execution_count": 14,
   "metadata": {},
   "outputs": [
    {
     "name": "stderr",
     "output_type": "stream",
     "text": [
      "Clipping input data to the valid range for imshow with RGB data ([0..1] for floats or [0..255] for integers). Got range [-1.733291..2.4560854].\n",
      "Clipping input data to the valid range for imshow with RGB data ([0..1] for floats or [0..255] for integers). Got range [-1.8483554..2.252725].\n",
      "Clipping input data to the valid range for imshow with RGB data ([0..1] for floats or [0..255] for integers). Got range [-1.7164218..2.728095].\n",
      "Clipping input data to the valid range for imshow with RGB data ([0..1] for floats or [0..255] for integers). Got range [-1.8483554..2.252725].\n",
      "Clipping input data to the valid range for imshow with RGB data ([0..1] for floats or [0..255] for integers). Got range [-1.7164218..2.728095].\n"
     ]
    },
    {
     "name": "stdout",
     "output_type": "stream",
     "text": [
      "Creating test batch of images...\n",
      "Input shape: (10, 100, 100, 3)\n",
      "Input data type: float32\n",
      "Memory Usage Analysis:\n",
      "Original batch size: 1.14 MB\n",
      "Processed batch size: 0.38 MB\n",
      "Memory efficiency: Using views and in-place operations\n",
      "Peak memory usage: ~1.53 MB\n",
      "\n",
      "Processing images...\n",
      "Output shape: (10, 100, 100)\n",
      "Output data type: float32\n",
      "\n",
      "Processing Statistics:\n",
      "Edge detection range: [0.010, 12.642]\n",
      "Mean edge magnitude: 2.818\n",
      "Std edge magnitude: 1.623\n"
     ]
    },
    {
     "data": {
      "image/png": "[encoded data removed]",
      "text/plain": [
       "<Figure size 1200x800 with 6 Axes>"
      ]
     },
     "metadata": {},
     "output_type": "display_data"
    },
    {
     "name": "stdout",
     "output_type": "stream",
     "text": [
      "\n",
      "Memory-efficient processing completed!\n",
      "\n",
      "Normalization verification (first image, first channel):\n",
      "Mean: -0.000000 (should be ~0)\n",
      "Std: 1.000000 (should be ~1)\n"
     ]
    }
   ],
   "source": [
    "# @title Click for solution\n",
    "\n",
    "import numpy as np\n",
    "from scipy import ndimage\n",
    "import matplotlib.pyplot as plt\n",
    "\n",
    "def create_test_batch():\n",
    "    \"\"\"\n",
    "    Create a batch of test images with some patterns for better edge detection visualization.\n",
    "    \"\"\"\n",
    "    batch_size, height, width, channels = 10, 100, 100, 3\n",
    "    images = np.random.rand(batch_size, height, width, channels).astype(np.float32)\n",
    "    \n",
    "    # Add some structured patterns to make edge detection more visible\n",
    "\n",
    "    for i in range(batch_size):\n",
    "\n",
    "        # Add some geometric shapes for better edge detection\n",
    "\n",
    "        if i % 3 == 0:\n",
    "            \n",
    "            # Add a rectangle\n",
    "\n",
    "            images[i, 20:80, 30:70, :] += 0.5\n",
    "        elif i % 3 == 1:\n",
    "\n",
    "            # Add a circle-like pattern\n",
    "\n",
    "            y, x = np.ogrid[:height, :width]\n",
    "            center_y, center_x = height // 2, width // 2\n",
    "            mask = (x - center_x)**2 + (y - center_y)**2 < 30**2\n",
    "            images[i][mask] += 0.3\n",
    "        else:\n",
    "\n",
    "            # Add diagonal lines\n",
    "\n",
    "            for j in range(0, width, 10):\n",
    "                if j < height:\n",
    "                    images[i, j, :, :] += 0.4\n",
    "    \n",
    "    return images\n",
    "\n",
    "def process_images_batch(images):\n",
    "\n",
    "    batch_size, height, width, channels = images.shape\n",
    "    \n",
    "    # Create output array for processed images (grayscale after edge detection)\n",
    "\n",
    "    processed_images = np.empty((batch_size, height, width), dtype=np.float32)\n",
    "    \n",
    "    # Process each image in the batch\n",
    "\n",
    "    for i in range(batch_size):\n",
    "\n",
    "        # Get a view of the current image (no copying)\n",
    "\n",
    "        img = images[i]  # Shape: (height, width, channels)\n",
    "        \n",
    "        # Step 1: Normalize each channel to zero mean and unit variance\n",
    "\n",
    "        normalize_image_inplace(img)\n",
    "        \n",
    "        # Step 2: Convert to grayscale for edge detection\n",
    "        # Using standard RGB weights: 0.299*R + 0.587*G + 0.114*B\n",
    "\n",
    "        grayscale = 0.299 * img[:, :, 0] + 0.587 * img[:, :, 1] + 0.114 * img[:, :, 2]\n",
    "\n",
    "        # Step 3: Apply Sobel edge detection\n",
    "\n",
    "        processed_images[i] = apply_sobel_edge_detection(grayscale)\n",
    "    \n",
    "    return processed_images\n",
    "\n",
    "def normalize_image_inplace(img):\n",
    "\n",
    "    # Normalize each channel independently\n",
    "    \n",
    "    for c in range(img.shape[2]):\n",
    "\n",
    "        channel = img[:, :, c]  # This creates a view, not a copy\n",
    "        \n",
    "        # Calculate mean and std for this channel\n",
    "\n",
    "        mean_val = np.mean(channel)\n",
    "        std_val = np.std(channel)\n",
    "        \n",
    "        # Avoid division by zero\n",
    "\n",
    "        if std_val > 1e-8:\n",
    "\n",
    "            # In-place normalization: (x - mean) / std\n",
    "\n",
    "            channel -= mean_val\n",
    "            channel /= std_val\n",
    "        else:\n",
    "\n",
    "            # If std is too small, just center the data\n",
    "            \n",
    "            channel -= mean_val\n",
    "\n",
    "def apply_sobel_edge_detection(grayscale_img):\n",
    "\n",
    "    # Sobel kernels for x and y directions\n",
    "\n",
    "    sobel_x = np.array([[-1, 0, 1],\n",
    "                       [-2, 0, 2],\n",
    "                       [-1, 0, 1]], dtype=np.float32)\n",
    "    \n",
    "    sobel_y = np.array([[-1, -2, -1],\n",
    "                       [ 0,  0,  0],\n",
    "                       [ 1,  2,  1]], dtype=np.float32)\n",
    "    \n",
    "    # Apply convolution with Sobel kernels\n",
    "\n",
    "    grad_x = ndimage.convolve(grayscale_img, sobel_x)\n",
    "    grad_y = ndimage.convolve(grayscale_img, sobel_y)\n",
    "    \n",
    "    # Calculate edge magnitude: sqrt(grad_x² + grad_y²)\n",
    "\n",
    "    edge_magnitude = np.sqrt(grad_x**2 + grad_y**2)\n",
    "    \n",
    "    return edge_magnitude\n",
    "\n",
    "def visualize_results(original_batch, processed_batch, num_samples=3):\n",
    "    \"\"\"\n",
    "    Visualize original images and their processed versions.\n",
    "    \"\"\"\n",
    "    fig, axes = plt.subplots(2, num_samples, figsize=(12, 8))\n",
    "    \n",
    "    for i in range(num_samples):\n",
    "\n",
    "        # Original image (show as RGB)\n",
    "\n",
    "        axes[0, i].imshow(original_batch[i])\n",
    "        axes[0, i].set_title(f'Original Image {i+1}')\n",
    "        axes[0, i].axis('off')\n",
    "        \n",
    "        # Processed image (edge detection result)\n",
    "\n",
    "        axes[1, i].imshow(processed_batch[i], cmap='gray')\n",
    "        axes[1, i].set_title(f'Sobel Edge Detection {i+1}')\n",
    "        axes[1, i].axis('off')\n",
    "    \n",
    "    plt.tight_layout()\n",
    "    plt.show()\n",
    "\n",
    "def analyze_memory_usage(images):\n",
    "    \"\"\"\n",
    "    Analyze memory usage and provide statistics.\n",
    "    \"\"\"\n",
    "    batch_size, height, width, channels = images.shape\n",
    "    \n",
    "    # Calculate memory usage\n",
    "\n",
    "    original_size_mb = images.nbytes / (1024 * 1024)\n",
    "    processed_size_mb = (batch_size * height * width * 4) / (1024 * 1024)  # float32\n",
    "    \n",
    "    print(f\"Memory Usage Analysis:\")\n",
    "    print(f\"Original batch size: {original_size_mb:.2f} MB\")\n",
    "    print(f\"Processed batch size: {processed_size_mb:.2f} MB\")\n",
    "    print(f\"Memory efficiency: Using views and in-place operations\")\n",
    "    print(f\"Peak memory usage: ~{original_size_mb + processed_size_mb:.2f} MB\")\n",
    "\n",
    "# Main execution\n",
    "if __name__ == \"__main__\":\n",
    "    print(\"Creating test batch of images...\")\n",
    "    test_images = create_test_batch()\n",
    "    \n",
    "    print(f\"Input shape: {test_images.shape}\")\n",
    "    print(f\"Input data type: {test_images.dtype}\")\n",
    "    \n",
    "    # Analyze memory usage\n",
    "\n",
    "    analyze_memory_usage(test_images)\n",
    "    \n",
    "    print(\"\\nProcessing images...\")\n",
    "    processed_images = process_images_batch(test_images)\n",
    "    \n",
    "    print(f\"Output shape: {processed_images.shape}\")\n",
    "    print(f\"Output data type: {processed_images.dtype}\")\n",
    "    \n",
    "    # Display statistics\n",
    "\n",
    "    print(f\"\\nProcessing Statistics:\")\n",
    "    print(f\"Edge detection range: [{processed_images.min():.3f}, {processed_images.max():.3f}]\")\n",
    "    print(f\"Mean edge magnitude: {processed_images.mean():.3f}\")\n",
    "    print(f\"Std edge magnitude: {processed_images.std():.3f}\")\n",
    "    \n",
    "    # Visualize results (uncomment to see plots)\n",
    "\n",
    "    visualize_results(test_images, processed_images)\n",
    "    \n",
    "    print(\"\\nMemory-efficient processing completed!\")\n",
    "    \n",
    "    # Verify normalization worked (check a few samples)\n",
    "\n",
    "    print(f\"\\nNormalization verification (first image, first channel):\")\n",
    "    first_img_first_channel = test_images[0, :, :, 0]\n",
    "    print(f\"Mean: {first_img_first_channel.mean():.6f} (should be ~0)\")\n",
    "    print(f\"Std: {first_img_first_channel.std():.6f} (should be ~1)\")"
   ]
  }
 ],
 "metadata": {
  "colab": {
   "provenance": []
  },
  "kernelspec": {
   "display_name": "compute-env-v3",
   "language": "python",
   "name": "python3"
  },
  "language_info": {
   "codemirror_mode": {
    "name": "ipython",
    "version": 3
   },
   "file_extension": ".py",
   "mimetype": "text/x-python",
   "name": "python",
   "nbconvert_exporter": "python",
   "pygments_lexer": "ipython3",
   "version": "3.13.5"
  },
  "nbTranslate": {
   "displayLangs": [
    "en"
   ],
   "hotkey": "alt-t",
   "langInMainMenu": true,
   "sourceLang": "sv",
   "targetLang": "en",
   "useGoogleTranslate": true
  }
 },
 "nbformat": 4,
 "nbformat_minor": 4
}
