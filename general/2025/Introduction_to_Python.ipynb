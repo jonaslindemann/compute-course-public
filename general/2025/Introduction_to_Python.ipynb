{
  "cells": [
    {
      "cell_type": "markdown",
      "metadata": {
        "id": "view-in-github",
        "colab_type": "text"
      },
      "source": [
        "<a href=\"https://colab.research.google.com/github/jonaslindemann/compute-course-public/blob/master/general/2025/Introduction_to_Python.ipynb\" target=\"_parent\"><img src=\"https://colab.research.google.com/assets/colab-badge.svg\" alt=\"Open In Colab\"/></a>"
      ]
    },
    {
      "cell_type": "markdown",
      "metadata": {
        "id": "mO1RI4KNXdrT"
      },
      "source": [
        "<img src=\"https://github.com/jonaslindemann/compute-course-docs/blob/2b815899b4ff728c42dd330e0853412efb12e075/source/images/basic_python.png?raw=true\" width=\"600\">\n",
        "\n",
        "# Python Language"
      ]
    },
    {
      "cell_type": "markdown",
      "source": [
        "* Created by Guido van Rossum in 1991\n",
        "* Wanted a language that supported code readability, to be able to write large applications in a clear and logical style."
      ],
      "metadata": {
        "id": "dVTV6iH6mkRK"
      }
    },
    {
      "cell_type": "markdown",
      "source": [
        "## Features\n",
        "\n",
        "* Dynamically typed (described in detailed later in this notebook)\n",
        "* Supports multiple programming paradigms\n",
        "  * Structured/procedural\n",
        "  * object-oriented\n",
        "  * functional\n",
        "\n"
      ],
      "metadata": {
        "id": "mH62R1KZmt7r"
      }
    },
    {
      "cell_type": "markdown",
      "source": [
        "## Versions\n",
        "\n",
        "* Python version 2.0 released in 2000\n",
        "* Python version 3.0 released in 2008 (Not entirely backwards compatible)\n",
        "* Latest 2.x version is 2.7.18 have reached end of life and new developments on this version should be avoided.\n",
        "* Latest 3.x version is 3.13. We will be using 3.13 in this course.\n",
        "\n",
        "Main Python page: https://www.python.org\n",
        "\n",
        "Conda-forge Python distribution: https://conda-forge.org/\n",
        "\n"
      ],
      "metadata": {
        "id": "IxQ2yPuHmx_k"
      }
    },
    {
      "cell_type": "markdown",
      "source": [
        "## Philosophy\n",
        "\n",
        "* Beautiful is better than ugly.\n",
        "* Explicit is better than implicit.\n",
        "* Simple is better than complex.\n",
        "* Complex is better than complicated.\n",
        "* Readability counts.\n",
        "\n",
        "More information on Python history can be found here:\n",
        "\n",
        "https://en.wikipedia.org/wiki/Python_(programming_language)"
      ],
      "metadata": {
        "id": "Dv8WjvEFm1ng"
      }
    },
    {
      "cell_type": "markdown",
      "metadata": {
        "id": "Jl5r47mermbo"
      },
      "source": [
        "## Structure"
      ]
    },
    {
      "cell_type": "markdown",
      "metadata": {
        "id": "-3MWVUPRrmbt"
      },
      "source": [
        "* Python programs are text files that contain rows of statements.\n",
        "* The text files are translated into computer instructions using a Python interpreter.\n",
        "* Empty lines are ignored.\n",
        "* Lines preceeded with a #-symbol are treated as comments.\n",
        "* The text files with statements have the extension .py.\n",
        "* The text files with statements are also called source code files."
      ]
    },
    {
      "cell_type": "code",
      "execution_count": null,
      "metadata": {
        "id": "gmpLn2Pcrmbx"
      },
      "outputs": [],
      "source": [
        "#!/usr/bin/env python3\n",
        "# -*- coding: utf-8 -*-\n",
        "\n",
        "# This is a comment\n",
        "\n",
        "for i in range(8):\n",
        "    print(i)"
      ]
    },
    {
      "cell_type": "markdown",
      "metadata": {
        "id": "A20KXJtPrmb-"
      },
      "source": [
        "## Built-in functions"
      ]
    },
    {
      "cell_type": "markdown",
      "metadata": {
        "id": "x2uwLwvJrmcB"
      },
      "source": [
        "* Much of the functionality of a language is provided as functions.\n",
        "* Python contains a variety of function libraries for printing, numeric functions, string management and file management.\n",
        "* A function is called by giving its name followed by a list of parameters within parentheses ()."
      ]
    },
    {
      "cell_type": "code",
      "execution_count": null,
      "metadata": {
        "id": "Iq7qCIP7rmcE"
      },
      "outputs": [],
      "source": [
        "print(\"This is the print-function\", 42)"
      ]
    },
    {
      "cell_type": "markdown",
      "metadata": {
        "id": "G12vNJfOrmcO"
      },
      "source": [
        "Not all functions have parameters. In this case, an empty parenthesis indicates that no parameters are given."
      ]
    },
    {
      "cell_type": "code",
      "execution_count": null,
      "metadata": {
        "id": "Hfzyel4MrmcQ"
      },
      "outputs": [],
      "source": [
        "print()"
      ]
    },
    {
      "cell_type": "markdown",
      "metadata": {
        "id": "FT-z1B9Xrmce"
      },
      "source": [
        "All functions in Python can have return values. Return values are assigned by using an equal sign (=) to the left of the function call."
      ]
    },
    {
      "cell_type": "code",
      "execution_count": null,
      "metadata": {
        "id": "DcLDqMfzrmcg"
      },
      "outputs": [],
      "source": [
        "y = abs(-4)\n",
        "print(y)"
      ]
    },
    {
      "cell_type": "markdown",
      "metadata": {
        "id": "xmHkqwVKrmco"
      },
      "source": [
        "Functions can also have one or more return values. These are assigned through multiple variable references separated by commas to the left of the equal sign."
      ]
    },
    {
      "cell_type": "code",
      "execution_count": null,
      "metadata": {
        "id": "fuM4pAcMrmcr"
      },
      "outputs": [],
      "source": [
        "q, r = divmod(100,47)\n",
        "print(q, r)"
      ]
    },
    {
      "cell_type": "markdown",
      "metadata": {
        "id": "eQdTWxsgrmc0"
      },
      "source": [
        "---\n",
        "# Storing and referencing data"
      ]
    },
    {
      "cell_type": "markdown",
      "metadata": {
        "id": "COvUmQrPrmc6"
      },
      "source": [
        "A fundamental feature of programming is the ability to work with stored data in different ways. In Python, variables are used to refer to data. In Python, it is not the variable itself that stores data, but variables are references to data in the computer's memory. It can be compared to a wardrobe ticket (variable reference) that allows the wardrobe to find your clothes in the wardrobe (computer memory)\n",
        "\n",
        "Some key features of Python variable references:\n",
        "\n",
        "* Python does not need to specify data types when assigning variables.\n",
        "* The data type is determined by the data type in the assignment.\n",
        "* A variable reference can refer to different data types during program execution."
      ]
    },
    {
      "cell_type": "code",
      "execution_count": null,
      "metadata": {
        "id": "-kAz5nPurmc7"
      },
      "outputs": [],
      "source": [
        "# integer variables\n",
        "\n",
        "a = 1\n",
        "b = 15\n",
        "\n",
        "# floating point variables\n",
        "\n",
        "c = 14.2\n",
        "d = 42.32\n",
        "\n",
        "# Strings\n",
        "\n",
        "e = \"Hello\"\n",
        "\n",
        "# Lists\n",
        "\n",
        "f = [1, 2, 4, \"A\"]\n",
        "\n",
        "# Assignment of new type and value\n",
        "\n",
        "a = \"Hello, again!\""
      ]
    },
    {
      "cell_type": "markdown",
      "metadata": {
        "id": "3sRUirPprmdJ"
      },
      "source": [
        "## Naming of variables"
      ]
    },
    {
      "cell_type": "markdown",
      "metadata": {
        "id": "DoJoS6D5rmdL"
      },
      "source": [
        "The following rules apply when naming variables in Python:\n",
        "\n",
        "* Only letters from the English alphabet\n",
        "* Numbers\n",
        "* No special characters except underscores (_)\n",
        "* Can't start with a number.\n",
        "* Variables are case sensitive.\n",
        "\n",
        "Allowed variable names\n",
        "\n",
        "* first_name\n",
        "* last_name\n",
        "* number\n",
        "* i2\n",
        "\n",
        "Not allowed variable names\n",
        "\n",
        "* 1var\n",
        "* år"
      ]
    },
    {
      "cell_type": "markdown",
      "metadata": {
        "id": "i49AisqsrmdN"
      },
      "source": [
        "## More on variables"
      ]
    },
    {
      "cell_type": "markdown",
      "metadata": {
        "id": "oWlVNLgFrmdP"
      },
      "source": [
        "Variables in Python are always **references** to the underlying data\n",
        "\n",
        "When a variable is assigned a value, the following happens:\n",
        "\n",
        "1. Memory is allocated for the value to be stored.\n",
        "2. A named variable reference is created - the variable.\n",
        "3. The variable refers to the memory for the value.\n",
        "\n",
        "Look at the following code:"
      ]
    },
    {
      "cell_type": "code",
      "execution_count": null,
      "metadata": {
        "id": "diVyccCtrmdR"
      },
      "outputs": [],
      "source": [
        "a = 42\n",
        "b = 84"
      ]
    },
    {
      "cell_type": "markdown",
      "metadata": {
        "id": "khFmhG7Drmdc"
      },
      "source": [
        "In this example, variables **a** and **b** are assigned values 42 and 84. In memory, it will look like the following figure:\n",
        "\n",
        "![variable references 1](https://github.com/jonaslindemann/guide_to_python/blob/master/chapters/kapitel3/notebooks/images/variable1.png?raw=1)\n",
        "\n",
        "Two variable references pointing to 2 different memory locations.\n",
        "\n",
        "What happens in the following example:"
      ]
    },
    {
      "cell_type": "code",
      "execution_count": null,
      "metadata": {
        "id": "fTNUynNUrmdf"
      },
      "outputs": [],
      "source": [
        "a = b\n",
        "print(a)\n",
        "print(b)"
      ]
    },
    {
      "cell_type": "markdown",
      "metadata": {
        "id": "WI_F88jSrmdr"
      },
      "source": [
        "We get what we expected. **a** has the same value as **b**. Behind the scenes is the following:\n",
        "\n",
        "![variabla referenser 1](https://github.com/jonaslindemann/guide_to_python/blob/master/chapters/kapitel3/notebooks/images/variable2.png?raw=1)\n",
        "\n",
        "An assignment of a variable reference assigns the reference. **a** now points to the same data 84.\n",
        "\n",
        "The memory occupied by the value 42 will be automatically deleted by Python. If we now assign **a** another value:"
      ]
    },
    {
      "cell_type": "code",
      "execution_count": null,
      "metadata": {
        "id": "_bAAYLoMrmdt"
      },
      "outputs": [],
      "source": [
        "a = 21"
      ]
    },
    {
      "cell_type": "markdown",
      "metadata": {
        "id": "l9s1__JNrmdy"
      },
      "source": [
        " We get the following situation:\n",
        "\n",
        "![variable references 1](https://github.com/jonaslindemann/guide_to_python/blob/master/chapters/kapitel3/notebooks/images/variable3.png?raw=1)"
      ]
    },
    {
      "cell_type": "markdown",
      "metadata": {
        "id": "QXjMomtbrmdz"
      },
      "source": [
        "It is possible to check this with the **id()** function in Python. The function returns the unique identifier for the variable reference. We perform the previous operations and simultaneously print the id of the variables."
      ]
    },
    {
      "cell_type": "code",
      "execution_count": null,
      "metadata": {
        "id": "uIAERpxFrmd0"
      },
      "outputs": [],
      "source": [
        "a = 42\n",
        "b = 84\n",
        "\n",
        "print(a, id(a))\n",
        "print(b, id(b))\n",
        "\n",
        "a = b\n",
        "\n",
        "print('a = b')\n",
        "print(a, id(a))\n",
        "print(b, id(b))\n",
        "\n",
        "a = 21\n",
        "\n",
        "print('a = 21')\n",
        "print(a, id(a))\n",
        "print(b, id(b))\n"
      ]
    },
    {
      "cell_type": "markdown",
      "metadata": {
        "id": "jEoD3t96rmd8"
      },
      "source": [
        "We see the first assignments generate unique IDs. After the assignment **a = b** , the ID is the same for **a and b**. After **a = 21**, a gets a new ID and b retains its ID."
      ]
    },
    {
      "cell_type": "markdown",
      "metadata": {
        "id": "mDoJRfJNmPl3"
      },
      "source": [
        "### Quick Practice: Variables and References\n",
        "\n",
        "**Try this yourself:** Create two variables `x` and `y`, assign them the same value, then change one of them. Check their IDs using `id()` before and after the change."
      ]
    },
    {
      "cell_type": "code",
      "execution_count": null,
      "metadata": {
        "id": "tdIu_GRimPl3"
      },
      "outputs": [],
      "source": [
        "# Practice area - try the exercise above\n",
        "# Your code here:"
      ]
    },
    {
      "cell_type": "markdown",
      "metadata": {
        "id": "i_Qr1iubrmd-"
      },
      "source": [
        "---\n",
        "# Data types in Python"
      ]
    },
    {
      "cell_type": "markdown",
      "metadata": {
        "id": "K9OwgOhjrmeD"
      },
      "source": [
        "## Integer and floating point values"
      ]
    },
    {
      "cell_type": "code",
      "execution_count": null,
      "metadata": {
        "id": "mTxrx_pIrmeI"
      },
      "outputs": [],
      "source": [
        "a = 42 # integer variable\n",
        "a"
      ]
    },
    {
      "cell_type": "code",
      "execution_count": null,
      "metadata": {
        "id": "pcXmdr0ArmeT"
      },
      "outputs": [],
      "source": [
        "b = 42.0 # floating point variable\n",
        "b"
      ]
    },
    {
      "cell_type": "markdown",
      "metadata": {
        "id": "vG9vusMBrmec"
      },
      "source": [
        "## Operators and expressions\n",
        "\n",
        "Operators are evaluated in the following order:\n",
        "\n",
        "1. Exponentiation - (**\\****)\n",
        "2. Unary operations - (**+x**, **-x**)\n",
        "3. Multiplication, division, floor, modulus (**\\***, **/**, **//**, **%**)\n",
        "4. Addition, subtraction (**+**, **-**)\n",
        "5. Comparisons (**==**, **!=**, **<**, **<=**, **>**, **>=**, **is**, **is not**)\n",
        "6. Boolean **not**\n",
        "7. Boolean **and**\n",
        "8. Boolean **or**"
      ]
    },
    {
      "cell_type": "code",
      "execution_count": null,
      "metadata": {
        "id": "ORU7QPtArmef"
      },
      "outputs": [],
      "source": [
        "2+2"
      ]
    },
    {
      "cell_type": "code",
      "execution_count": null,
      "metadata": {
        "id": "Pc5QbvKPrmer"
      },
      "outputs": [],
      "source": [
        "(50-5*6)/4"
      ]
    },
    {
      "cell_type": "code",
      "execution_count": null,
      "metadata": {
        "id": "HMQiIBKkrmez"
      },
      "outputs": [],
      "source": [
        "7/3"
      ]
    },
    {
      "cell_type": "code",
      "execution_count": null,
      "metadata": {
        "id": "IIwJB4azrme9"
      },
      "outputs": [],
      "source": [
        "7/-3"
      ]
    },
    {
      "cell_type": "code",
      "execution_count": null,
      "metadata": {
        "id": "d7LNPu4ormfC"
      },
      "outputs": [],
      "source": [
        "3*3.75/1.5"
      ]
    },
    {
      "cell_type": "markdown",
      "metadata": {
        "id": "XDnwO0w4rmfI"
      },
      "source": [
        "## Flags and boolean variables"
      ]
    },
    {
      "cell_type": "markdown",
      "metadata": {
        "id": "jayc2oi4rmfI"
      },
      "source": [
        "* Indicates an off or on position or something is true or false.\n",
        "* **True** or **False** is used to assign a Boolean value to a variable reference."
      ]
    },
    {
      "cell_type": "code",
      "execution_count": null,
      "metadata": {
        "id": "GTVu6GFsrmfR"
      },
      "outputs": [],
      "source": [
        "c = True  # c now is a boolean variables\n",
        "c"
      ]
    },
    {
      "cell_type": "code",
      "execution_count": null,
      "metadata": {
        "id": "LzhVGhmPrmfV"
      },
      "outputs": [],
      "source": [
        "d = False\n",
        "d"
      ]
    },
    {
      "cell_type": "markdown",
      "metadata": {
        "id": "I7DIYOegrmfb"
      },
      "source": [
        "## Lists"
      ]
    },
    {
      "cell_type": "markdown",
      "metadata": {
        "id": "Af2m3VFZrmfc"
      },
      "source": [
        "List is a data type that can contain a list of values with different data types. Lists are defined with an initial \\[and an ending \\]. An empty list can be created by assigning an empty []."
      ]
    },
    {
      "cell_type": "code",
      "execution_count": null,
      "metadata": {
        "id": "BdyXvpsGrmfe"
      },
      "outputs": [],
      "source": [
        "values = [] # Empty list\n",
        "values"
      ]
    },
    {
      "cell_type": "markdown",
      "metadata": {
        "id": "228u5Ycurmfi"
      },
      "source": [
        "Initial values in the list can be assigned by listing values between \\[and \\]:"
      ]
    },
    {
      "cell_type": "code",
      "execution_count": null,
      "metadata": {
        "id": "sILJJ1y5rmfi"
      },
      "outputs": [],
      "source": [
        "values = [1, 3, 6, 4, 'hello', 1.0]\n",
        "values"
      ]
    },
    {
      "cell_type": "markdown",
      "metadata": {
        "id": "WRR0apw9rmfo"
      },
      "source": [
        "Individual values in a list are reached by entering the name of the list followed by an index between \\[and \\]."
      ]
    },
    {
      "cell_type": "code",
      "execution_count": null,
      "metadata": {
        "id": "1z4aMeIBrmfp"
      },
      "outputs": [],
      "source": [
        "print(values[2])"
      ]
    },
    {
      "cell_type": "markdown",
      "metadata": {
        "id": "iqPPBZztrmfv"
      },
      "source": [
        "Lists can be changed by assigning values to a specific index:"
      ]
    },
    {
      "cell_type": "code",
      "execution_count": null,
      "metadata": {
        "id": "wWnOe6IwpcBe"
      },
      "outputs": [],
      "source": []
    },
    {
      "cell_type": "code",
      "execution_count": null,
      "metadata": {
        "id": "5hKrDmCsrmfv"
      },
      "outputs": [],
      "source": [
        "values[4] = 'jump'\n",
        "print(values)"
      ]
    },
    {
      "cell_type": "markdown",
      "metadata": {
        "id": "4Bu1C0aErmfz"
      },
      "source": [
        "Indexes in lists start at 0. That is, the first element is 0. Negative indexes indicate values from the end of the list."
      ]
    },
    {
      "cell_type": "code",
      "execution_count": null,
      "metadata": {
        "id": "uUU-OHGRrmf1"
      },
      "outputs": [],
      "source": [
        "print(values[-1]) # Last element in list"
      ]
    },
    {
      "cell_type": "code",
      "execution_count": null,
      "metadata": {
        "id": "CGOICfJurmf6"
      },
      "outputs": [],
      "source": [
        "print(values[-3]) # Third last element in list."
      ]
    },
    {
      "cell_type": "code",
      "execution_count": null,
      "metadata": {
        "id": "7miKqS0yF5Bx"
      },
      "outputs": [],
      "source": [
        "print(values[10])"
      ]
    },
    {
      "cell_type": "markdown",
      "metadata": {
        "id": "b0az1calrmf_"
      },
      "source": [
        "### Lists and variable references"
      ]
    },
    {
      "cell_type": "markdown",
      "metadata": {
        "id": "71RT14lsrmgA"
      },
      "source": [
        "* A list consists of references to data in memory\n",
        "* Data is not stored in the list.\n",
        "\n",
        "The following figure and code example illustrate this:\n",
        "\n",
        "![variable references 1](https://github.com/jonaslindemann/guide_to_python/blob/master/chapters/kapitel3/notebooks/images/variable4.png?raw=1)\n",
        "\n"
      ]
    },
    {
      "cell_type": "code",
      "execution_count": null,
      "metadata": {
        "id": "Cnhl4txFrmgA"
      },
      "outputs": [],
      "source": [
        "values = [1, 3, 6, 4, 'hello', 1.0, 42]\n",
        "\n",
        "b = values[4]\n",
        "\n",
        "print(b, id(b))\n",
        "print(values[4], id(values[4]))"
      ]
    },
    {
      "cell_type": "markdown",
      "metadata": {
        "id": "eQGzOefQrmgK"
      },
      "source": [
        "In this example, b is assigned the reference stored in position 4 in the **values** list. After this assignment, b and **values[4]** point to the same data at the same memory location as in the following figure:\n",
        "\n",
        "![variable references 1](https://github.com/jonaslindemann/guide_to_python/blob/master/chapters/kapitel3/notebooks/images/variable5.png?raw=1)"
      ]
    },
    {
      "cell_type": "markdown",
      "metadata": {
        "id": "G50qkBI5rmgL"
      },
      "source": [
        "In most cases, variables work intuitively without the need for much thought, but it is good to know the underlying mechanisms."
      ]
    },
    {
      "cell_type": "markdown",
      "metadata": {
        "id": "OoalEahermgM"
      },
      "source": [
        "### Index-notation and lists"
      ]
    },
    {
      "cell_type": "markdown",
      "metadata": {
        "id": "58-qhdYlrmgM"
      },
      "source": [
        "It is possible to extract sub-areas of lists using index notation:"
      ]
    },
    {
      "cell_type": "code",
      "execution_count": null,
      "metadata": {
        "id": "d5EWjjTnrmgU"
      },
      "outputs": [],
      "source": [
        "# Range from 1 >= idx < 3\n",
        "print(values[1:3])\n",
        "\n",
        "# Range from 1 >= idx < len(values)-1\n",
        "print(values[1:-1])\n",
        "\n",
        "# Range idx >= 3\n",
        "print(values[3:])\n",
        "\n",
        "# All elements in the list\n",
        "print(values[:])\n",
        "\n",
        "# Range from 0 >= idx < len(values)-2\n",
        "print(values[:-2])\n",
        "\n",
        "# Range from len(values)-3 >= idx < len(values)-1\n",
        "print(values[-3:])"
      ]
    },
    {
      "cell_type": "markdown",
      "metadata": {
        "id": "yVT3Yz2T-xPn"
      },
      "source": [
        "The following figure illustrates the slicing in the previous example.\n",
        "\n",
        "![Python array slicing (1).svg](data:image/svg+xml;base64,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)"
      ]
    },
    {
      "cell_type": "markdown",
      "metadata": {
        "id": "yEC-Jaq5rmga"
      },
      "source": [
        "### Sizes of lists"
      ]
    },
    {
      "cell_type": "markdown",
      "metadata": {
        "id": "AvmGjw81rmge"
      },
      "source": [
        "The number of elements in a list can be obtained using the generic function **len()** in Python."
      ]
    },
    {
      "cell_type": "code",
      "execution_count": null,
      "metadata": {
        "id": "zE4nzcDqrmge"
      },
      "outputs": [],
      "source": [
        "print(len(values))"
      ]
    },
    {
      "cell_type": "markdown",
      "metadata": {
        "id": "oiVJdc3Lrmgj"
      },
      "source": [
        "### Adding values to lists"
      ]
    },
    {
      "cell_type": "markdown",
      "metadata": {
        "id": "rQbweAm3rmgk"
      },
      "source": [
        "Values can be added to a list using the **.append()** method"
      ]
    },
    {
      "cell_type": "code",
      "execution_count": null,
      "metadata": {
        "id": "E0F0sld1rmgk"
      },
      "outputs": [],
      "source": [
        "values.append(42)\n",
        "print(values)"
      ]
    },
    {
      "cell_type": "markdown",
      "metadata": {
        "id": "xWRQqefUrmgm"
      },
      "source": [
        "Values can be inserted into lists at specific positions using the **.insert()** method."
      ]
    },
    {
      "cell_type": "code",
      "execution_count": null,
      "metadata": {
        "id": "wFxqysTMrmgn"
      },
      "outputs": [],
      "source": [
        "values.insert(1, \"squeeze\")\n",
        "print(values)"
      ]
    },
    {
      "cell_type": "markdown",
      "metadata": {
        "id": "WJFCxDQarmgp"
      },
      "source": [
        "### Removing items from a list"
      ]
    },
    {
      "cell_type": "markdown",
      "metadata": {
        "id": "nHTPwP9armgq"
      },
      "source": [
        "Values in a list can be removed using the **.remove()** method."
      ]
    },
    {
      "cell_type": "code",
      "execution_count": null,
      "metadata": {
        "id": "a3JLn7Ltrmgq"
      },
      "outputs": [],
      "source": [
        "print(\"Before remove()\")\n",
        "print(values)\n",
        "\n",
        "values.remove(\"squeeze\") # first value with \"squeeze\"\n",
        "\n",
        "print(\"After remove()\")\n",
        "print(values)"
      ]
    },
    {
      "cell_type": "markdown",
      "metadata": {
        "id": "v2E9a_01rmgt"
      },
      "source": [
        "They are also possible to use the generic **del** function to delete values in a list."
      ]
    },
    {
      "cell_type": "code",
      "execution_count": null,
      "metadata": {
        "id": "oCqNiQ1grmgu"
      },
      "outputs": [],
      "source": [
        "print(\"Before del[0]\")\n",
        "print(values)\n",
        "\n",
        "del(values[0])\n",
        "\n",
        "print(\"After del[0]\")\n",
        "print(values)"
      ]
    },
    {
      "cell_type": "markdown",
      "metadata": {
        "id": "HSt8lycGrmgy"
      },
      "source": [
        "It is also possible to remove sub-ranges in a list with **del**."
      ]
    },
    {
      "cell_type": "code",
      "execution_count": null,
      "metadata": {
        "id": "OW-hB1Kcrmgy"
      },
      "outputs": [],
      "source": [
        "print(\"Före del[3:]\")\n",
        "print(values)\n",
        "\n",
        "del(values[3:])\n",
        "\n",
        "print(\"Efter del[3:]\")\n",
        "print(values)"
      ]
    },
    {
      "cell_type": "markdown",
      "metadata": {
        "id": "ZmnvRn6nrmg1"
      },
      "source": [
        "It is also possible to use the list as a \"stack\" data type, i.e. a data type where data is added and deleted from the end of the list. A Python list has a special method, **.pop()** for this purpose:"
      ]
    },
    {
      "cell_type": "code",
      "execution_count": null,
      "metadata": {
        "id": "SWE1DEfmrmg2"
      },
      "outputs": [],
      "source": [
        "print(\"List before pop()\")\n",
        "print(values)\n",
        "\n",
        "v = values.pop()\n",
        "\n",
        "print(\"Value returned from pop()\")\n",
        "print(v)\n",
        "print(\"List after pop()\")\n",
        "print(values)"
      ]
    },
    {
      "cell_type": "markdown",
      "metadata": {
        "id": "7EEFsVnlrmg5"
      },
      "source": [
        "### Clearing a list"
      ]
    },
    {
      "cell_type": "markdown",
      "metadata": {
        "id": "iKQ_19Xjrmg5"
      },
      "source": [
        "A list can be cleared by using the **.clear()** method or by assigning an empty list to a variable reference."
      ]
    },
    {
      "cell_type": "code",
      "execution_count": null,
      "metadata": {
        "colab": {
          "base_uri": "https://localhost:8080/"
        },
        "id": "dUtcUVv7rmg5",
        "outputId": "5bab5134-a683-44cf-91c0-cd69814d8a4c"
      },
      "outputs": [
        {
          "name": "stdout",
          "output_type": "stream",
          "text": [
            "[]\n"
          ]
        }
      ],
      "source": [
        "a = [4, 6, 3, 7, 9]\n",
        "a = []\n",
        "print(a) # Added print to show the empty list"
      ]
    },
    {
      "cell_type": "markdown",
      "metadata": {
        "id": "rvtgOzVsrmhA"
      },
      "source": [
        "However, it is important to understand that in the above example, there may still be variable references that point to values in the list. An example of this is shown below:"
      ]
    },
    {
      "cell_type": "code",
      "execution_count": null,
      "metadata": {
        "id": "zB7q2VjwrmhA"
      },
      "outputs": [],
      "source": [
        "a = [4, 6, 3, 7, 9]\n",
        "b = a\n",
        "a = []\n",
        "print(b)"
      ]
    },
    {
      "cell_type": "markdown",
      "metadata": {
        "id": "i7Xq5MtRrmhH"
      },
      "source": [
        "To really clear a list, the **.clear()** method is preferably used as follows:"
      ]
    },
    {
      "cell_type": "code",
      "execution_count": null,
      "metadata": {
        "id": "zrp2S8x7rmhI"
      },
      "outputs": [],
      "source": [
        "a = [4, 6, 3, 7, 9]\n",
        "b = a\n",
        "\n",
        "a.clear()\n",
        "\n",
        "print(b)"
      ]
    },
    {
      "cell_type": "markdown",
      "metadata": {
        "id": "d9LYutHwrmhK"
      },
      "source": [
        "### Nested lists"
      ]
    },
    {
      "cell_type": "markdown",
      "metadata": {
        "id": "rWuZg45GrmhK"
      },
      "source": [
        "Lists are a very flexible data type in Python, which can contain any data type, including other lists. In the following example, a list of 5 elements is created, the second element contains a list of 2 elements:"
      ]
    },
    {
      "cell_type": "code",
      "execution_count": null,
      "metadata": {
        "id": "7hH7Y-LwrmhK"
      },
      "outputs": [],
      "source": [
        "a = [1, 2, [3, 4], 5, 6]\n",
        "\n",
        "print(a[2])"
      ]
    },
    {
      "cell_type": "markdown",
      "metadata": {
        "id": "rrnVzzVIrmhQ"
      },
      "source": [
        "To reach a value in a nested list, you do this by adding an additional index operator as shown below:"
      ]
    },
    {
      "cell_type": "code",
      "execution_count": null,
      "metadata": {
        "id": "8_32QRsdrmhT"
      },
      "outputs": [],
      "source": [
        "a = [1, 2, [3, 4], 5, 6]\n",
        "\n",
        "print(a[2][0])\n",
        "print(a[2][1])"
      ]
    },
    {
      "cell_type": "markdown",
      "metadata": {
        "id": "fWus1eB6rmhX"
      },
      "source": [
        "In this way, we can quickly create two-dimensional data structures in a simple way:"
      ]
    },
    {
      "cell_type": "code",
      "execution_count": null,
      "metadata": {
        "id": "IBW5vNH8rmhX"
      },
      "outputs": [],
      "source": [
        "spread_sheet = []\n",
        "spread_sheet.append([0]*10)\n",
        "spread_sheet.append([0]*10)\n",
        "spread_sheet.append([0]*10)\n",
        "spread_sheet.append([0]*10)\n",
        "print(spread_sheet)\n",
        "print(len(spread_sheet))\n",
        "print(spread_sheet[0][5])"
      ]
    },
    {
      "cell_type": "code",
      "execution_count": null,
      "metadata": {
        "id": "SIiJloawLNv0"
      },
      "outputs": [],
      "source": [
        "a = [5]*6\n",
        "a"
      ]
    },
    {
      "cell_type": "markdown",
      "metadata": {
        "id": "T_lq9Nkzrmhb"
      },
      "source": [
        "It is important to remember that all values in lists are actually references to data in memory. This is illustrated in the following examples:"
      ]
    },
    {
      "cell_type": "code",
      "execution_count": null,
      "metadata": {
        "id": "WUrzMpmFrmhd"
      },
      "outputs": [],
      "source": [
        "b = [3, 4]\n",
        "a = [1, 2, b, 5, 6] # List b is added to list a\n",
        "b[0] = -1           # a values is assigned index 0 in b\n",
        "a[2][1]=-2\n",
        "print(b)\n",
        "print(a)"
      ]
    },
    {
      "cell_type": "markdown",
      "metadata": {
        "id": "2ddZ9PfQrmhh"
      },
      "source": [
        "In the example, the value in the list a also changes when b is assigned, which is illustrated in the following figure:\n",
        "\n",
        "![variable references 1](https://github.com/jonaslindemann/guide_to_python/blob/master/chapters/kapitel3/notebooks/images/variable6.png?raw=1)"
      ]
    },
    {
      "cell_type": "markdown",
      "metadata": {
        "id": "81u75NXMrmhn"
      },
      "source": [
        "If you do not want this effect, you can use the **.copy()** method to make a copy of the list you add."
      ]
    },
    {
      "cell_type": "code",
      "execution_count": null,
      "metadata": {
        "id": "GJpUGgG7rmho"
      },
      "outputs": [],
      "source": [
        "b = [3, 4]\n",
        "a = [1, 2, b.copy(), 5, 6]\n",
        "\n",
        "b[0] = -1\n",
        "\n",
        "print(b)\n",
        "print(a)"
      ]
    },
    {
      "cell_type": "markdown",
      "metadata": {
        "id": "Sxb5-gDOrmhr"
      },
      "source": [
        "The memory layout after the assignments is shown in the following figure:\n",
        "\n",
        "![variable references 1](https://github.com/jonaslindemann/guide_to_python/blob/master/chapters/kapitel3/notebooks/images/variable7.png?raw=1)"
      ]
    },
    {
      "cell_type": "markdown",
      "metadata": {
        "id": "x6o3akxG08-y"
      },
      "source": [
        "## Tuples\n",
        "\n",
        "Tuples is a special form of list. However, there are some properties that make it different from a list:\n",
        "\n",
        "* A Tuple is ordered.\n",
        "* A Tuple can't be changed (immutable).\n",
        "* Tuples are surrounded by parentesis (1, 2, 3)\n",
        "* Iteration is faster than lists.\n",
        "\n",
        "Tuples are accessed in the same way as lists using the []-operator."
      ]
    },
    {
      "cell_type": "code",
      "execution_count": null,
      "metadata": {
        "id": "hBd2aMYn1s97"
      },
      "outputs": [],
      "source": [
        "a = (4, 6, 3, 7, 9, 'hello')\n",
        "print(a)\n",
        "print(a[2])"
      ]
    },
    {
      "cell_type": "code",
      "execution_count": null,
      "metadata": {
        "id": "9sqH21zb1-3i"
      },
      "outputs": [],
      "source": [
        "a[0] = 42"
      ]
    },
    {
      "cell_type": "markdown",
      "metadata": {
        "id": "_x_h9HY62cg0"
      },
      "source": [
        "Consider the following statements:"
      ]
    },
    {
      "cell_type": "code",
      "execution_count": null,
      "metadata": {
        "id": "s6x6FKGc2Eug"
      },
      "outputs": [],
      "source": [
        "a = a + (42,)\n",
        "print(a)"
      ]
    },
    {
      "cell_type": "markdown",
      "metadata": {
        "id": "7L-XM9HN2kLP"
      },
      "source": [
        "Does this append to a tuple?\n",
        "\n",
        "Line 1 above creates a **new** tuple from to separate tuples. **a** is essentially a new tuple."
      ]
    },
    {
      "cell_type": "markdown",
      "metadata": {
        "id": "POVoq1KFrmhu"
      },
      "source": [
        "## Strings"
      ]
    },
    {
      "cell_type": "markdown",
      "metadata": {
        "id": "36Vtn9cRrmhu"
      },
      "source": [
        "* Stores sequences of letters.\n",
        "* Many ways to create strings in Python.\n",
        "* Strings cannot be changed when created (Immutable)"
      ]
    },
    {
      "cell_type": "code",
      "execution_count": null,
      "metadata": {
        "id": "S1zjVNBtrmhu"
      },
      "outputs": [],
      "source": [
        "full_name = \"Guido van Rossum\"\n",
        "print(full_name)"
      ]
    },
    {
      "cell_type": "code",
      "execution_count": null,
      "metadata": {
        "id": "8hm6MVnjrmhx"
      },
      "outputs": [],
      "source": [
        "full_name = 'Guido van Rossum'\n",
        "print(full_name)"
      ]
    },
    {
      "cell_type": "markdown",
      "metadata": {
        "id": "SDeB606Urmhz"
      },
      "source": [
        "If you need to use a particular quote character in a string, simply use the second quote character as a delimiter."
      ]
    },
    {
      "cell_type": "code",
      "execution_count": null,
      "metadata": {
        "id": "Xlfkemhkrmh0"
      },
      "outputs": [],
      "source": [
        "title = \"don't give up\"\n",
        "print(title)"
      ]
    },
    {
      "cell_type": "code",
      "execution_count": null,
      "metadata": {
        "id": "6jDCnhGBrmh2"
      },
      "outputs": [],
      "source": [
        "sentence = 'He used the \"Aguamenti\" spell.'\n",
        "print(sentence)"
      ]
    },
    {
      "cell_type": "markdown",
      "metadata": {
        "id": "o24ElnXtrmiF"
      },
      "source": [
        "Special control characters can be used to create special characters in a string. Some of these are shown in the following table:\n",
        "\n",
        "![variable references 1](https://github.com/jonaslindemann/guide_to_python/blob/master/chapters/kapitel3/notebooks/images/strings1.png?raw=1)"
      ]
    },
    {
      "cell_type": "code",
      "execution_count": null,
      "metadata": {
        "id": "CGaKTIG2rmiF"
      },
      "outputs": [],
      "source": [
        "full_name = \"Guido van Rossum\\nPython Creator\" # Newline control character\n",
        "print(full_name)"
      ]
    },
    {
      "cell_type": "markdown",
      "metadata": {
        "id": "k1nD2q4jrmiI"
      },
      "source": [
        "Sometimes it may be desirable that Python does not interpret any control characters in the string. This can be achieved with so-called raw strands. These are indicated by the **r** prefix."
      ]
    },
    {
      "cell_type": "code",
      "execution_count": null,
      "metadata": {
        "id": "7g32xVWKrmiJ"
      },
      "outputs": [],
      "source": [
        "raw_string = r\"Row1\\nRow2\"\n",
        "std_string = \"Row1\\nRow2\"\n",
        "print(raw_string)\n",
        "print(std_string)"
      ]
    },
    {
      "cell_type": "markdown",
      "metadata": {
        "id": "EzBh16_KrmiL"
      },
      "source": [
        "Another option for specifying more precisely how a string should be constructed is to use triple-quoted strings. These strings are interpreted by the control characters used when the string was created. Best illustrated with an example:"
      ]
    },
    {
      "cell_type": "code",
      "execution_count": null,
      "metadata": {
        "id": "rMLrHHE6rmiM"
      },
      "outputs": [],
      "source": [
        "full_name = \"\"\"Guido van Rossum\n",
        "Python Creator\n",
        "Python is fantastic\"\"\"\n",
        "print(full_name)"
      ]
    },
    {
      "cell_type": "markdown",
      "metadata": {
        "id": "En5RA4ojrmiO"
      },
      "source": [
        "In the example, the line breaks given when the string is assigned are retained."
      ]
    },
    {
      "cell_type": "markdown",
      "metadata": {
        "id": "Dt2I4jn_rmiP"
      },
      "source": [
        "### Length of strings"
      ]
    },
    {
      "cell_type": "markdown",
      "metadata": {
        "id": "mm28gH6frmiQ"
      },
      "source": [
        "The length of a string can be obtained by using the generic function **len()**, which is also can be used for lists:"
      ]
    },
    {
      "cell_type": "code",
      "execution_count": null,
      "metadata": {
        "id": "TwPXolf6rmiQ"
      },
      "outputs": [],
      "source": [
        "s1 = \"This is a string\"\n",
        "s2 = \"This is a longer string\"\n",
        "\n",
        "print(s1, len(s1))\n",
        "print(s2, len(s2))"
      ]
    },
    {
      "cell_type": "markdown",
      "metadata": {
        "id": "O6UPAdEIrmiW"
      },
      "source": [
        "### Concatenating strings"
      ]
    },
    {
      "cell_type": "markdown",
      "metadata": {
        "id": "ztgjMHFPrmiW"
      },
      "source": [
        "\\+ operator can be used to put together new strings of existing ones:\n"
      ]
    },
    {
      "cell_type": "code",
      "execution_count": null,
      "metadata": {
        "id": "jrNwOnaOrmiX"
      },
      "outputs": [],
      "source": [
        "s1 = \"It is fun with \"\n",
        "s2 = \"Python\"\n",
        "\n",
        "s3 = s1 + s2\n",
        "\n",
        "print(s3)"
      ]
    },
    {
      "cell_type": "markdown",
      "metadata": {
        "id": "yqeOxVkzrmiZ"
      },
      "source": [
        "### Repeating strings"
      ]
    },
    {
      "cell_type": "markdown",
      "metadata": {
        "id": "4LhCBwEkrmia"
      },
      "source": [
        "\\* operator can be used to repeat a string a number of times to create longer strings."
      ]
    },
    {
      "cell_type": "code",
      "execution_count": null,
      "metadata": {
        "id": "RcvWs44krmia"
      },
      "outputs": [],
      "source": [
        "s1 = \"This is a string we want to underline\"\n",
        "s2 = \"-\" * len(s1)\n",
        "\n",
        "print(s1)\n",
        "print(s2)"
      ]
    },
    {
      "cell_type": "markdown",
      "metadata": {
        "id": "g4wxdKaFrmid"
      },
      "source": [
        "### Splitting strings"
      ]
    },
    {
      "cell_type": "markdown",
      "metadata": {
        "id": "4HhHNhBFrmie"
      },
      "source": [
        "The string data type has a method, **.split()**, which can be used to split strings into smaller parts:"
      ]
    },
    {
      "cell_type": "code",
      "execution_count": null,
      "metadata": {
        "id": "soZ1copIrmie"
      },
      "outputs": [],
      "source": [
        "s = \"This is a sentence with a lot of words!\"\n",
        "\n",
        "word_list = s.split()\n",
        "\n",
        "print(word_list)"
      ]
    },
    {
      "cell_type": "markdown",
      "metadata": {
        "id": "9a1fqACHrmig"
      },
      "source": [
        "The argument to the function specifies which character should split the string."
      ]
    },
    {
      "cell_type": "code",
      "execution_count": null,
      "metadata": {
        "id": "Pk2ja4z8rmig"
      },
      "outputs": [],
      "source": [
        "s = \"123, 456, 123, 35456, 12, 34\"\n",
        "\n",
        "parts = s.split(\", \")\n",
        "\n",
        "print(parts)"
      ]
    },
    {
      "cell_type": "markdown",
      "metadata": {
        "id": "u0L2fegcrmii"
      },
      "source": [
        "### Creating strings from lists"
      ]
    },
    {
      "cell_type": "markdown",
      "metadata": {
        "id": "NMwVMIBOrmii"
      },
      "source": [
        "If you have lists of strings, you can combine them into strings using the **.join()** method."
      ]
    },
    {
      "cell_type": "code",
      "execution_count": null,
      "metadata": {
        "id": "jTvWULWormik"
      },
      "outputs": [],
      "source": [
        "list_of_strings = [\"This\", \"is\", \"a\", \"list\", \"with\", \"words\"]\n",
        "list_of_things = [\"tree\", \"house\", \"pencil\", \"eraser\"]\n",
        "\n",
        "s1 = \" \".join(list_of_strings) # Append with spaces\n",
        "s2 = \",\".join(list_of_things)  # Append with comma\n",
        "s3 = \"\".join(list_of_things)   # Append without spacing.\n",
        "\n",
        "print(s1)\n",
        "print(s2)\n",
        "print(s3)"
      ]
    },
    {
      "cell_type": "markdown",
      "metadata": {
        "id": "EDJHv9tqrmir"
      },
      "source": [
        "### Searching strings"
      ]
    },
    {
      "cell_type": "markdown",
      "metadata": {
        "id": "OoNzUSVlrmir"
      },
      "source": [
        "A very common operation on strings is to check if a sub string is found in a string. This is most easily done with the operator **in**. If the sub string is found in the string, **returns** **True** otherwise **False**."
      ]
    },
    {
      "cell_type": "code",
      "execution_count": null,
      "metadata": {
        "id": "cNGEbId6rmis"
      },
      "outputs": [],
      "source": [
        "s = \"Far far away, behind the word mountains, far from the countries \" \\\n",
        "\"Vokalia and Consonantia, there live the blind texts. Separated they \" \\\n",
        "\"live in Bookmarksgrove right at the coast of the Semantics, a large \" \\\n",
        "\"language ocean.\"\n",
        "print(\"Vokalia\" in s)"
      ]
    },
    {
      "cell_type": "markdown",
      "metadata": {
        "id": "pFZNGxTcrmiu"
      },
      "source": [
        "Another option is to use the **.find()** method, which also returns the location of where the string is found."
      ]
    },
    {
      "cell_type": "code",
      "execution_count": null,
      "metadata": {
        "id": "z9NfAJJzrmiu"
      },
      "outputs": [],
      "source": [
        "s = \"Far far away, behind the word mountains, far from the countries \" \\\n",
        "\"Vokalia and Consonantia, there live the blind texts. Separated they \" \\\n",
        "\"live in Bookmarksgrove right at the coast of the Semantics, a large \" \\\n",
        "\"language ocean.\"\n",
        "pos = s.find(\"far\")\n",
        "print(pos)\n",
        "\n",
        "pos = s.find(\"far\", pos+1)\n",
        "print(pos)\n",
        "\n",
        "pos = s.find(\"python\")\n",
        "print(pos)"
      ]
    },
    {
      "cell_type": "markdown",
      "metadata": {
        "id": "G_zO1LEcrmi-"
      },
      "source": [
        "### Stripping leading and trailing spaces"
      ]
    },
    {
      "cell_type": "markdown",
      "metadata": {
        "id": "ydv9-sztrmi_"
      },
      "source": [
        "In many cases when reading data from files, the lines often contain extra spaces that need to be cleared. This can be done with the **.strip()** method."
      ]
    },
    {
      "cell_type": "code",
      "execution_count": null,
      "metadata": {
        "id": "rp7mMzoirmjA"
      },
      "outputs": [],
      "source": [
        "s1 = \"     This is a string with extra whitespace. \"\n",
        "s2 = s1.strip()\n",
        "\n",
        "print(\">\" + s1 + \"<\")\n",
        "print(\">\" + s2 + \"<\")"
      ]
    },
    {
      "cell_type": "markdown",
      "metadata": {
        "id": "hsVoE1HjrmjC"
      },
      "source": [
        "There is the special version of this method that cleans the right and left sides of the string, respectively:"
      ]
    },
    {
      "cell_type": "code",
      "execution_count": null,
      "metadata": {
        "id": "wgGk22XdrmjD"
      },
      "outputs": [],
      "source": [
        "s1 = \" This is a string with extra whitespace. \"\n",
        "s2 = s1.rstrip()\n",
        "\n",
        "print(\">\" + s1 + \"<\")\n",
        "print(\">\" + s2 + \"<\")"
      ]
    },
    {
      "cell_type": "code",
      "execution_count": null,
      "metadata": {
        "id": "PNk1gYTnrmjH"
      },
      "outputs": [],
      "source": [
        "s1 = \" This is a string with extra whitespace. \"\n",
        "s2 = s1.lstrip()\n",
        "\n",
        "print(\">\" + s1 + \"<\")\n",
        "print(\">\" + s2 + \"<\")"
      ]
    },
    {
      "cell_type": "markdown",
      "metadata": {
        "id": "uGvXVOdvmPmG"
      },
      "source": [
        "### Quick Practice: String Operations\n",
        "\n",
        "**Try this yourself:**\n",
        "1. Create a string with your full name\n",
        "2. Split it into first and last name\n",
        "3. Create a formatted greeting using f-strings\n",
        "4. Convert the greeting to uppercase"
      ]
    },
    {
      "cell_type": "code",
      "execution_count": null,
      "metadata": {
        "id": "6U1tMXDYmPmG"
      },
      "outputs": [],
      "source": [
        "# Practice area - try the string exercise above\n",
        "# Your code here:"
      ]
    },
    {
      "cell_type": "markdown",
      "metadata": {
        "id": "5kHYbSXjrmjI"
      },
      "source": [
        "## Querying the underlying datatype of a variable reference"
      ]
    },
    {
      "cell_type": "markdown",
      "metadata": {
        "id": "IBeqH5JurmjJ"
      },
      "source": [
        "In some cases, you are interested in finding out the underlying data type that a variable refers to. This can be done using the **type()** function, which prints the actual data type."
      ]
    },
    {
      "cell_type": "code",
      "execution_count": null,
      "metadata": {
        "id": "JFeXrFYdrmjK"
      },
      "outputs": [],
      "source": [
        "a = 42\n",
        "b = 42.0\n",
        "c = True\n",
        "d = 'Hejsan'\n",
        "print(type(a))\n",
        "print(type(b))\n",
        "print(type(c))\n",
        "print(type(d))\n"
      ]
    },
    {
      "cell_type": "markdown",
      "metadata": {
        "id": "X0HYJBT-rmjL"
      },
      "source": [
        "## Dictionaries"
      ]
    },
    {
      "cell_type": "markdown",
      "metadata": {
        "id": "t4MkxuEPrmjM"
      },
      "source": [
        "Dictionaries in Python are a special form of data type where data is stored in key / value pairs. Finding a key in a dictionary is usually a quick operation.\n",
        "\n",
        "Dictionaries use \"curly\" brackets, \\ {\\} instead of [] to define the content.\n",
        "\n",
        "An empty dictionary is created with the following code:"
      ]
    },
    {
      "cell_type": "code",
      "execution_count": null,
      "metadata": {
        "colab": {
          "base_uri": "https://localhost:8080/"
        },
        "id": "FMtbcm3VrmjM",
        "outputId": "7daf5278-ab8b-4da1-d155-3b20bfb9470e"
      },
      "outputs": [
        {
          "name": "stdout",
          "output_type": "stream",
          "text": [
            "{}\n"
          ]
        }
      ],
      "source": [
        "values = {}\n",
        "print(values) # Added print to show the empty dictionary"
      ]
    },
    {
      "cell_type": "markdown",
      "metadata": {
        "id": "ctzwCdhbrmjP"
      },
      "source": [
        "Initial values can be assigned by listing key / value pairs separately with commas. The value pair is specified with the notation *key:value* notation."
      ]
    },
    {
      "cell_type": "code",
      "execution_count": null,
      "metadata": {
        "id": "khPMN0T5rmjP"
      },
      "outputs": [],
      "source": [
        "values = {\n",
        "    \"Petra\":\"9046112\", \"David\":\"1234145\",\n",
        "    \"Olle\":\"534532\"\n",
        "}\n",
        "print(values)"
      ]
    },
    {
      "cell_type": "markdown",
      "metadata": {
        "id": "MU3yb7PMrmjV"
      },
      "source": [
        "The values in a dictionary are reached by using \\[and \\], although the index value is replaced by the key value."
      ]
    },
    {
      "cell_type": "code",
      "execution_count": null,
      "metadata": {
        "id": "oIkjN7CyrmjW"
      },
      "outputs": [],
      "source": [
        "print(values[\"David\"])\n",
        "print(values[\"Petra\"])"
      ]
    },
    {
      "cell_type": "markdown",
      "metadata": {
        "id": "tiEnLdkTrmjY"
      },
      "source": [
        "Assigning values in a dictionary is done in the same way as assigning lists. The index value is now instead the key value:"
      ]
    },
    {
      "cell_type": "code",
      "execution_count": null,
      "metadata": {
        "id": "tZkvOw-VrmjY"
      },
      "outputs": [],
      "source": [
        "values[\"Peter\"] = \"734847\"\n",
        "print(values)"
      ]
    },
    {
      "cell_type": "markdown",
      "metadata": {
        "id": "urxsuxy4rmjc"
      },
      "source": [
        "### Finding values in a dictionary"
      ]
    },
    {
      "cell_type": "markdown",
      "metadata": {
        "id": "7HDsUIh6rmjd"
      },
      "source": [
        "Similar to lists, you can check if a particular key is in a dictionary by using the **in** operator. If the key is in the lookup list, **True** is returned, otherwise **False** is returned."
      ]
    },
    {
      "cell_type": "code",
      "execution_count": null,
      "metadata": {
        "id": "shUxrBivrmje"
      },
      "outputs": [],
      "source": [
        "idx = {\n",
        "    'Alice': '534532',\n",
        "    'David': '1234145',\n",
        "    'Emily': '9046112'\n",
        "}\n",
        "print('Emily' in idx)\n",
        "print('Bob' in idx)"
      ]
    },
    {
      "cell_type": "markdown",
      "metadata": {
        "id": "Qo__uGskrmjg"
      },
      "source": [
        "### Number of values in a dictionary"
      ]
    },
    {
      "cell_type": "markdown",
      "metadata": {
        "id": "6gc329Wermjg"
      },
      "source": [
        "As before, the number of values in a dictionary can be obtained by the function **len()**."
      ]
    },
    {
      "cell_type": "code",
      "execution_count": null,
      "metadata": {
        "id": "Z4wYsB_krmjg"
      },
      "outputs": [],
      "source": [
        "print(len(values))"
      ]
    },
    {
      "cell_type": "markdown",
      "metadata": {
        "id": "AJA4izfyrmji"
      },
      "source": [
        "### Adding values to a dictionary"
      ]
    },
    {
      "cell_type": "markdown",
      "metadata": {
        "id": "hE9QQOqgrmji"
      },
      "source": [
        "Values can be added to a list by assigning values to keys:"
      ]
    },
    {
      "cell_type": "code",
      "execution_count": null,
      "metadata": {
        "id": "xzINGU_yrmjj"
      },
      "outputs": [],
      "source": [
        "values[\"Guido\"] = \"187493\"\n",
        "print(values)"
      ]
    },
    {
      "cell_type": "markdown",
      "metadata": {
        "id": "3xqMq20grmjm"
      },
      "source": [
        "### Nested dictionaries"
      ]
    },
    {
      "cell_type": "markdown",
      "metadata": {
        "id": "pUvcGnC-rmjn"
      },
      "source": [
        "Similar to lists, dictionaries can also be nested and contain several different types of data structures:"
      ]
    },
    {
      "cell_type": "code",
      "execution_count": null,
      "metadata": {
        "id": "nhZebrGzrmjn"
      },
      "outputs": [],
      "source": [
        "config = {\n",
        "    \"general\":\n",
        "        {\n",
        "            \"username\":\"alice\",\n",
        "            \"temp_path\":\"C:\\\\TEMP\"\n",
        "        },\n",
        "    \"constants\":\n",
        "        {\n",
        "            \"pi\":3.14159,\n",
        "            \"g\":9.82\n",
        "        },\n",
        "    \"items\":\n",
        "        {\n",
        "            \"values\": [1, 2, 3, 4, 5]\n",
        "        }\n",
        "}\n",
        "\n",
        "print(config[\"general\"][\"username\"])\n",
        "print(config[\"constants\"][\"pi\"])\n",
        "print(config[\"items\"][\"values\"][1])"
      ]
    },
    {
      "cell_type": "markdown",
      "metadata": {
        "id": "wcDkDwfwmPmI"
      },
      "source": [
        "## Sets\n",
        "\n",
        "Sets are unordered collections of unique elements. They are useful for operations like membership testing, removing duplicates, and mathematical set operations (union, intersection, difference). Sets are created using curly braces `{}` or the `set()` constructor."
      ]
    },
    {
      "cell_type": "code",
      "execution_count": null,
      "metadata": {
        "id": "5JoZZC-MmPmI",
        "outputId": "3cdfba6f-85b5-4afb-90fa-4b5045c7e333"
      },
      "outputs": [
        {
          "name": "stdout",
          "output_type": "stream",
          "text": [
            "{1, 2, 3, 4, 5}\n",
            "set()\n"
          ]
        }
      ],
      "source": [
        "# Creating a set\n",
        "my_set = {1, 2, 3, 4, 4, 5} # Duplicate 4 is automatically removed\n",
        "print(my_set)\n",
        "\n",
        "# Creating an empty set (use set() for this, not {})\n",
        "empty_set = set()\n",
        "print(empty_set)"
      ]
    },
    {
      "cell_type": "markdown",
      "metadata": {
        "id": "-hbFSU5ImPmJ"
      },
      "source": [
        "### Set operations"
      ]
    },
    {
      "cell_type": "code",
      "execution_count": null,
      "metadata": {
        "id": "4BLaQvbUmPmJ",
        "outputId": "bd45683c-7cf6-4bab-88d9-c62319570577"
      },
      "outputs": [
        {
          "name": "stdout",
          "output_type": "stream",
          "text": [
            "Union: {1, 2, 3, 4, 5, 6}\n",
            "Union (method): {1, 2, 3, 4, 5, 6}\n",
            "Intersection: {3, 4}\n",
            "Intersection (method): {3, 4}\n",
            "Difference (set1 - set2): {1, 2}\n",
            "Difference (method): {1, 2}\n",
            "Symmetric Difference: {1, 2, 5, 6}\n",
            "Symmetric Difference (method): {1, 2, 5, 6}\n"
          ]
        }
      ],
      "source": [
        "set1 = {1, 2, 3, 4}\n",
        "set2 = {3, 4, 5, 6}\n",
        "\n",
        "# Union\n",
        "print(f\"Union: {set1 | set2}\")\n",
        "print(f\"Union (method): {set1.union(set2)}\")\n",
        "\n",
        "# Intersection\n",
        "print(f\"Intersection: {set1 & set2}\")\n",
        "print(f\"Intersection (method): {set1.intersection(set2)}\")\n",
        "\n",
        "# Difference\n",
        "print(f\"Difference (set1 - set2): {set1 - set2}\")\n",
        "print(f\"Difference (method): {set1.difference(set2)}\")\n",
        "\n",
        "# Symmetric difference\n",
        "print(f\"Symmetric Difference: {set1 ^ set2}\")\n",
        "print(f\"Symmetric Difference (method): {set1.symmetric_difference(set2)}\")"
      ]
    },
    {
      "cell_type": "markdown",
      "metadata": {
        "id": "DnGuIUQWmPmJ"
      },
      "source": [
        "### Adding and removing elements"
      ]
    },
    {
      "cell_type": "code",
      "execution_count": null,
      "metadata": {
        "id": "YG__XTaVmPmJ",
        "outputId": "1937dbc8-1948-4c95-e395-d616774e0179"
      },
      "outputs": [
        {
          "name": "stdout",
          "output_type": "stream",
          "text": [
            "After adding 4: {1, 2, 3, 4}\n",
            "After removing 2: {1, 3, 4}\n",
            "After discarding 10: {1, 3, 4}\n",
            "After pop(): {3, 4}\n"
          ]
        }
      ],
      "source": [
        "my_set = {1, 2, 3}\n",
        "my_set.add(4) # Add an element\n",
        "print(f\"After adding 4: {my_set}\")\n",
        "\n",
        "my_set.remove(2) # Remove an element (raises KeyError if not found)\n",
        "print(f\"After removing 2: {my_set}\")\n",
        "\n",
        "# my_set.remove(10) # Uncommenting this line will cause a KeyError\n",
        "\n",
        "my_set.discard(10) # Remove an element (does nothing if not found)\n",
        "print(f\"After discarding 10: {my_set}\")\n",
        "\n",
        "my_set.pop() # Remove and return an arbitrary element\n",
        "print(f\"After pop(): {my_set}\")"
      ]
    },
    {
      "cell_type": "markdown",
      "metadata": {
        "id": "e9jgzpWQmPmJ"
      },
      "source": [
        "### Checking membership"
      ]
    },
    {
      "cell_type": "code",
      "execution_count": null,
      "metadata": {
        "id": "Irp3yw40mPmJ",
        "outputId": "9b3e0ba8-f3b3-45b6-df63-52b600911cde"
      },
      "outputs": [
        {
          "name": "stdout",
          "output_type": "stream",
          "text": [
            "Is 3 in the set? True\n",
            "Is 5 in the set? False\n"
          ]
        }
      ],
      "source": [
        "my_set = {1, 2, 3, 4}\n",
        "print(f\"Is 3 in the set? {3 in my_set}\")\n",
        "print(f\"Is 5 in the set? {5 in my_set}\")"
      ]
    },
    {
      "cell_type": "markdown",
      "metadata": {
        "id": "ah3lYANGmPmK"
      },
      "source": [
        "## Tuples\n",
        "\n",
        "Tuples were briefly introduced earlier as immutable sequences. Here's a bit more detail.\n",
        "\n",
        "*   Tuples are ordered collections, similar to lists.\n",
        "*   Tuples are **immutable**, meaning their elements cannot be changed after creation.\n",
        "*   Tuples are defined using parentheses `()` or by simply separating values with commas.\n",
        "*   They are often used for heterogeneous collections (where elements have different data types) and for sequences that should not be modified."
      ]
    },
    {
      "cell_type": "code",
      "execution_count": null,
      "metadata": {
        "id": "qhkDQ7BYmPmK",
        "outputId": "d547a19e-5af1-4a2b-d251-b0509d9632d8"
      },
      "outputs": [
        {
          "name": "stdout",
          "output_type": "stream",
          "text": [
            "(1, 'hello', 3.14, [1, 2])\n",
            "(1, 'hello', 3.14)\n",
            "(5,)\n",
            "5\n"
          ]
        }
      ],
      "source": [
        "# Creating a tuple\n",
        "my_tuple = (1, 'hello', 3.14, [1, 2])\n",
        "print(my_tuple)\n",
        "\n",
        "# Tuple without parentheses\n",
        "another_tuple = 1, 'hello', 3.14\n",
        "print(another_tuple)\n",
        "\n",
        "# Creating a tuple with a single element (requires a trailing comma)\n",
        "single_element_tuple = (5,)\n",
        "print(single_element_tuple)\n",
        "\n",
        "# An integer in parentheses is just an integer\n",
        "not_a_tuple = (5)\n",
        "print(not_a_tuple)"
      ]
    },
    {
      "cell_type": "markdown",
      "metadata": {
        "id": "9bvntcZjmPmK"
      },
      "source": [
        "### Accessing tuple elements"
      ]
    },
    {
      "cell_type": "code",
      "execution_count": null,
      "metadata": {
        "id": "RuUFyog3mPmK",
        "outputId": "9be55879-e5dd-4271-e3fa-358d09b06fab"
      },
      "outputs": [
        {
          "name": "stdout",
          "output_type": "stream",
          "text": [
            "First element: 1\n",
            "Last element: [1, 2]\n",
            "Slice from index 1 to 3: ('hello', 3.14)\n"
          ]
        }
      ],
      "source": [
        "my_tuple = (1, 'hello', 3.14, [1, 2])\n",
        "\n",
        "# Accessing by index\n",
        "print(f\"First element: {my_tuple[0]}\")\n",
        "print(f\"Last element: {my_tuple[-1]}\")\n",
        "\n",
        "# Slicing\n",
        "print(f\"Slice from index 1 to 3: {my_tuple[1:3]}\")"
      ]
    },
    {
      "cell_type": "markdown",
      "metadata": {
        "id": "OqIRyYkCmPmK"
      },
      "source": [
        "### Immutability"
      ]
    },
    {
      "cell_type": "code",
      "execution_count": null,
      "metadata": {
        "id": "dbT2FaPlmPmK",
        "outputId": "ba681060-5527-4ea5-b14b-5d7971e2ef28"
      },
      "outputs": [
        {
          "name": "stdout",
          "output_type": "stream",
          "text": [
            "Original mutable tuple: (1, [1, 2], 3)\n",
            "Modified mutable element within tuple: (1, [100, 2], 3)\n"
          ]
        }
      ],
      "source": [
        "my_tuple = (1, 'hello', 3.14)\n",
        "\n",
        "# Trying to change an element will result in a TypeError\n",
        "# my_tuple[0] = 10 # Uncommenting this line will cause a TypeError\n",
        "\n",
        "# However, if a tuple contains a mutable object (like a list), the mutable object *can* be modified\n",
        "mutable_tuple = (1, [1, 2], 3)\n",
        "print(f\"Original mutable tuple: {mutable_tuple}\")\n",
        "mutable_tuple[1][0] = 100\n",
        "print(f\"Modified mutable element within tuple: {mutable_tuple}\")"
      ]
    },
    {
      "cell_type": "markdown",
      "metadata": {
        "id": "UJqaR9g2mPmL"
      },
      "source": [
        "### Tuple unpacking"
      ]
    },
    {
      "cell_type": "code",
      "execution_count": null,
      "metadata": {
        "id": "bXOnI_y1mPmL",
        "outputId": "c4a15179-fef2-4534-fcbd-c900d0c94d3d"
      },
      "outputs": [
        {
          "name": "stdout",
          "output_type": "stream",
          "text": [
            "x: 10, y: 20\n",
            "Name: Bob, Age: 25\n"
          ]
        }
      ],
      "source": [
        "coordinates = (10, 20)\n",
        "x, y = coordinates # Unpacking the tuple into variables\n",
        "print(f\"x: {x}, y: {y}\")\n",
        "\n",
        "# This is often used with functions that return multiple values\n",
        "def get_name_and_age():\n",
        "    return \"Bob\", 25\n",
        "\n",
        "name, age = get_name_and_age()\n",
        "print(f\"Name: {name}, Age: {age}\")"
      ]
    },
    {
      "cell_type": "markdown",
      "metadata": {
        "id": "LEi8PfrLHYkY"
      },
      "source": [
        "\n",
        "\n",
        "---\n",
        "# Short assignments\n",
        "\n",
        "\n",
        "\n",
        "\n"
      ]
    },
    {
      "cell_type": "markdown",
      "metadata": {
        "id": "6A_aw0c5H4sV"
      },
      "source": [
        "## Task 1\n",
        "\n",
        "Create a integer variable i with the value 47"
      ]
    },
    {
      "cell_type": "code",
      "execution_count": null,
      "metadata": {
        "id": "ZeqgQb06H_ic"
      },
      "outputs": [],
      "source": [
        "# @title Solution\n",
        "i = 47\n",
        "print(i)"
      ]
    },
    {
      "cell_type": "code",
      "execution_count": null,
      "metadata": {
        "cellView": "form",
        "id": "f2jeBmcVFwo6"
      },
      "outputs": [],
      "source": [
        "# @title Solution\n",
        "i = 47"
      ]
    },
    {
      "cell_type": "markdown",
      "metadata": {
        "id": "GWhpp-QMIAam"
      },
      "source": [
        "## Task 2\n",
        "\n",
        "Create a string variable, name, and assign it the string \"It is fun with Python\"."
      ]
    },
    {
      "cell_type": "code",
      "execution_count": null,
      "metadata": {
        "id": "9rKpLmeGIKE8"
      },
      "outputs": [],
      "source": [
        "# @title Solution\n",
        "name = \"It is fun with Python\"\n",
        "print(name)"
      ]
    },
    {
      "cell_type": "code",
      "execution_count": null,
      "metadata": {
        "cellView": "form",
        "id": "xwSxYhDOGHEz"
      },
      "outputs": [],
      "source": [
        "# @title Solution\n",
        "s = \"It is fun with Python\""
      ]
    },
    {
      "cell_type": "markdown",
      "metadata": {
        "id": "6wvw55pWIN6_"
      },
      "source": [
        "## Task 3\n",
        "\n",
        "Create a variable a with the value 42.0. Use the print-statement to print the value of a."
      ]
    },
    {
      "cell_type": "code",
      "execution_count": null,
      "metadata": {
        "id": "sA6ibrwYIWi2"
      },
      "outputs": [],
      "source": [
        "# @title Solution\n",
        "a = 42.0\n",
        "print(a)"
      ]
    },
    {
      "cell_type": "code",
      "execution_count": null,
      "metadata": {
        "cellView": "form",
        "id": "TFbTD3ZwGPrA"
      },
      "outputs": [],
      "source": [
        "# @title Solution\n",
        "a = 42.0\n",
        "print(a)"
      ]
    },
    {
      "cell_type": "markdown",
      "metadata": {
        "id": "kQpEvCZOIXLP"
      },
      "source": [
        "## Task 4\n",
        "\n",
        "Create a list variabel, l, containing the values 4, 6, 32."
      ]
    },
    {
      "cell_type": "code",
      "execution_count": null,
      "metadata": {
        "id": "Iq1yFul9IfLi"
      },
      "outputs": [],
      "source": [
        "# @title Solution\n",
        "l = [4, 6, 32]\n",
        "print(l)"
      ]
    },
    {
      "cell_type": "code",
      "execution_count": null,
      "metadata": {
        "cellView": "form",
        "id": "JVXBYiweGZnx"
      },
      "outputs": [],
      "source": [
        "# @title Solution\n",
        "l = [4, 6, 32]\n",
        "print(l)"
      ]
    },
    {
      "cell_type": "markdown",
      "metadata": {
        "id": "wkjN-fLgIgrd"
      },
      "source": [
        "## Task 5\n",
        "\n",
        "We have the following list:\n",
        "\n",
        "```python\n",
        "l = ['a', 2, 7, 3.0, 4.5]\n",
        "```\n",
        "\n",
        "Use the print-statement to print the last item without specifying the index of the last value."
      ]
    },
    {
      "cell_type": "code",
      "execution_count": null,
      "metadata": {
        "id": "vHkVH5G5JhqA"
      },
      "outputs": [],
      "source": [
        "# @title Solution\n",
        "l = ['a', 2, 7, 3.0, 4.5]\n",
        "print(l[-1])"
      ]
    },
    {
      "cell_type": "code",
      "execution_count": null,
      "metadata": {
        "cellView": "form",
        "id": "10JlnLZtGfxx"
      },
      "outputs": [],
      "source": [
        "# @title Solution\n",
        "l = ['a', 2, 7, 3.0, 4.5]\n",
        "print(l[-1])"
      ]
    },
    {
      "cell_type": "markdown",
      "metadata": {
        "id": "kb7wNPngIiWE"
      },
      "source": [
        "\n",
        "\n",
        "---\n",
        "\n",
        "\n",
        "\n"
      ]
    },
    {
      "cell_type": "markdown",
      "metadata": {
        "id": "QXtPpHSDrmjp"
      },
      "source": [
        "---\n",
        "# Loops and conditional statements"
      ]
    },
    {
      "cell_type": "markdown",
      "metadata": {
        "id": "PGjQvy_frmjp"
      },
      "source": [
        "## Code blocks in Python"
      ]
    },
    {
      "cell_type": "markdown",
      "metadata": {
        "id": "1kfaXEQOrmjp"
      },
      "source": [
        "In Python statements are grouped in codeblocks by the structure of the source file. A group of statements in considered grouped if it is proceeded by a : and the following statements are indented."
      ]
    },
    {
      "cell_type": "code",
      "execution_count": null,
      "metadata": {
        "id": "jJtmYgc1rmjr"
      },
      "outputs": [],
      "source": [
        "for i in range(5): # Marks start of code block\n",
        "    print(i)       # Indented code block.\n",
        "\n",
        "print(\"This statement does not belong to the code block\")"
      ]
    },
    {
      "cell_type": "markdown",
      "metadata": {
        "id": "qxAR-GeZrmjt"
      },
      "source": [
        "## Loops"
      ]
    },
    {
      "cell_type": "markdown",
      "metadata": {
        "id": "YK-ox5LRrmju"
      },
      "source": [
        "### Repeating a code block a given number of times - for"
      ]
    },
    {
      "cell_type": "code",
      "execution_count": null,
      "metadata": {
        "id": "jxVbv0s5rmju"
      },
      "outputs": [],
      "source": [
        "for i in range(10):  # Sequence 0 - 9\n",
        "    print(i)"
      ]
    },
    {
      "cell_type": "code",
      "execution_count": null,
      "metadata": {
        "id": "-XU-A9oHrmjw"
      },
      "outputs": [],
      "source": [
        "for i in range(5, 11): # Sequence 5 - 10\n",
        "    print(i)"
      ]
    },
    {
      "cell_type": "code",
      "execution_count": null,
      "metadata": {
        "id": "DaV37oJMrmjz"
      },
      "outputs": [],
      "source": [
        "for i in range(5,21,3): # Sequence with step size 3\n",
        "    print(i)"
      ]
    },
    {
      "cell_type": "markdown",
      "metadata": {
        "id": "V1ucTOJprmj0"
      },
      "source": [
        "### Iterating over a list"
      ]
    },
    {
      "cell_type": "code",
      "execution_count": null,
      "metadata": {
        "id": "cUUPWPMYrmj0"
      },
      "outputs": [],
      "source": [
        "values = [1, 3, 6, 4, 'hello', 1.0, 42]\n",
        "\n",
        "for value in values:\n",
        "    print(value)"
      ]
    },
    {
      "cell_type": "markdown",
      "metadata": {
        "id": "Bi0Vj6wDrmj6"
      },
      "source": [
        "### Iterating over a list with a loop variable"
      ]
    },
    {
      "cell_type": "code",
      "execution_count": null,
      "metadata": {
        "id": "M_h_qqGsrmj7"
      },
      "outputs": [],
      "source": [
        "a = [\"a\", \"b\", \"c\", \"d\", \"e\"]\n",
        "b = [5, 4, 3, 2, 1]\n",
        "for i in range(len(a)):\n",
        "    print(a[i], \",\", b[i])"
      ]
    },
    {
      "cell_type": "markdown",
      "metadata": {
        "id": "Pg_XFZF5ufvv"
      },
      "source": [
        "### Iterating with indices and the enumerate function"
      ]
    },
    {
      "cell_type": "code",
      "execution_count": null,
      "metadata": {
        "id": "yL_BvF_FvMfx"
      },
      "outputs": [],
      "source": [
        "a = [5, 4, 3, 2, 1]\n",
        "for i, value in enumerate(a):\n",
        "    print(i, ', ', value)\n",
        "\n",
        "#print(list(enumerate(a)))\n",
        "#print(enumerate(a))"
      ]
    },
    {
      "cell_type": "markdown",
      "metadata": {
        "id": "tZdLXiVErmkA"
      },
      "source": [
        "### Iterating over multiple lists"
      ]
    },
    {
      "cell_type": "code",
      "execution_count": null,
      "metadata": {
        "id": "r-dTxouGrmkA"
      },
      "outputs": [],
      "source": [
        "x_pos = [50, 130, 200, 250]\n",
        "y_pos = [50, 70, 220, 300]\n",
        "\n",
        "for x, y in zip(x_pos, y_pos):\n",
        "    print(x, y)\n",
        "\n",
        "print(list(zip(x_pos, y_pos)))"
      ]
    },
    {
      "cell_type": "markdown",
      "metadata": {
        "id": "7VQU4YwfrmkD"
      },
      "source": [
        "### Iterating over nested lists"
      ]
    },
    {
      "cell_type": "code",
      "execution_count": null,
      "metadata": {
        "id": "S45VKUJTrmkD"
      },
      "outputs": [],
      "source": [
        "points = [[50,50], [130,70], [200,220], [250,300]]\n",
        "\n",
        "for p in points:\n",
        "    for coord in p:\n",
        "        print(coord)"
      ]
    },
    {
      "cell_type": "markdown",
      "metadata": {
        "id": "NqIq_7OhvpNl"
      },
      "source": [
        "### Iterating over dictionaries"
      ]
    },
    {
      "cell_type": "code",
      "execution_count": null,
      "metadata": {
        "id": "8aunT4ZPvsS6"
      },
      "outputs": [],
      "source": [
        "name_dict = {'Emily': '9046112', 'David': '1234145', 'Alice': '534532', 'Peter': 734847}\n",
        "\n",
        "for key, value in name_dict.items():\n",
        "    print(key, ', ', value)\n",
        "\n",
        "#print(name_dict.items())"
      ]
    },
    {
      "cell_type": "code",
      "execution_count": null,
      "metadata": {
        "id": "dLYJQbKxwMZP"
      },
      "outputs": [],
      "source": [
        "name_dict = {'Emily': '9046112', 'David': '1234145', 'Alice': '534532', 'Peter': 734847}\n",
        "\n",
        "for key in name_dict.keys():\n",
        "    print(key, ', ', name_dict[key])"
      ]
    },
    {
      "cell_type": "code",
      "execution_count": null,
      "metadata": {
        "id": "y-_8H8sYwcu7"
      },
      "outputs": [],
      "source": [
        "name_dict = {'Emily': '9046112', 'David': '1234145', 'Alice': '534532', 'Peter': 734847}\n",
        "\n",
        "for value in name_dict.values():\n",
        "    print(value)"
      ]
    },
    {
      "cell_type": "markdown",
      "metadata": {
        "id": "mHLDlBrGrmkF"
      },
      "source": [
        "### Iterating using the while-statement"
      ]
    },
    {
      "cell_type": "code",
      "execution_count": null,
      "metadata": {
        "id": "kJxaygfMrmkF"
      },
      "outputs": [],
      "source": [
        "from math import *\n",
        "\n",
        "sum = 0.0\n",
        "err = 1e-2\n",
        "k = 1\n",
        "\n",
        "while abs(pi-4*sum)>err:\n",
        "    sum += pow(-1, k+1) / (2*k-1)\n",
        "    k = k + 1\n",
        "    print(\"Iteration\", k, \"pi = \", 4*sum, \"err = \", abs(-pi-4*sum))"
      ]
    },
    {
      "cell_type": "markdown",
      "metadata": {
        "id": "TrXaana3rmkJ"
      },
      "source": [
        "## Conditional statements"
      ]
    },
    {
      "cell_type": "code",
      "execution_count": null,
      "metadata": {
        "id": "ah8D8NCirmkJ"
      },
      "outputs": [],
      "source": [
        "i = 0\n",
        "if i == 0:\n",
        "    print(\"i = 0\")"
      ]
    },
    {
      "cell_type": "code",
      "execution_count": null,
      "metadata": {
        "id": "36Hp7-H4rmkL"
      },
      "outputs": [],
      "source": [
        "i = 0\n",
        "if i == 0:\n",
        "    print(\"i = 0\")\n",
        "else:\n",
        "    print(\"i is not 0\")"
      ]
    },
    {
      "cell_type": "code",
      "execution_count": null,
      "metadata": {
        "id": "UNT9WCs6rmkQ"
      },
      "outputs": [],
      "source": [
        "if i == 0:\n",
        "    print(\"i == 0\")\n",
        "elif i < 1:\n",
        "    print(\"i < 1\")\n",
        "elif i > 1:\n",
        "    print(\"i > 1\")\n",
        "else:\n",
        "    print(\"In between\")"
      ]
    },
    {
      "cell_type": "markdown",
      "metadata": {
        "id": "aYU7QWThrmkT"
      },
      "source": [
        "### Nested if-statements"
      ]
    },
    {
      "cell_type": "code",
      "execution_count": null,
      "metadata": {
        "id": "TWHWZuTWrmkT"
      },
      "outputs": [],
      "source": [
        "if i == 0:\n",
        "    print(\"i == 0\")\n",
        "else:\n",
        "    if i > 0:\n",
        "        print(\"i > 0\")\n",
        "    elif i < 0:\n",
        "        print(\"i < 0\")"
      ]
    },
    {
      "cell_type": "markdown",
      "metadata": {
        "id": "UaMItt6mrmkU"
      },
      "source": [
        "## Controlling loop-iterations\n",
        "\n",
        "An iteration can be controlled by:\n",
        "\n",
        "* break - exits the looop\n",
        "* continue - continue to next iteration"
      ]
    },
    {
      "cell_type": "code",
      "execution_count": null,
      "metadata": {
        "id": "CcxhLvuWrmkV"
      },
      "outputs": [],
      "source": [
        "for i in range(20):\n",
        "    if i == 10:\n",
        "        print(\"exits loop\")\n",
        "        break\n",
        "    if i == 5:\n",
        "        print(\"Go to next iteration\")\n",
        "        continue\n",
        "    print(i)\n",
        "\n",
        "print(\"...after the loop\")"
      ]
    },
    {
      "cell_type": "markdown",
      "metadata": {
        "id": "cPpf0Qn1Jpgm"
      },
      "source": [
        "\n",
        "\n",
        "---\n",
        "# Short assignments\n"
      ]
    },
    {
      "cell_type": "markdown",
      "metadata": {
        "id": "5F7_vd_dJtY3"
      },
      "source": [
        "## Task 1\n",
        "\n",
        "Find the errors in the following code:\n",
        "\n",
        "```python\n",
        "for i in range(10):\n",
        "    print(i)\n",
        "     for j in range(20)\n",
        "        print(j, end=\",\"\n",
        "    print()\n",
        "```\n"
      ]
    },
    {
      "cell_type": "markdown",
      "metadata": {
        "id": "0cf30ZJ7A88D"
      },
      "source": [
        "Here you can try your solution:"
      ]
    },
    {
      "cell_type": "code",
      "execution_count": null,
      "metadata": {
        "id": "pKl2IngnzYl2"
      },
      "outputs": [],
      "source": []
    },
    {
      "cell_type": "markdown",
      "metadata": {
        "id": "Qecf9O1bBFcz"
      },
      "source": [
        "If you want to show the solution to the task, click **Show code** below."
      ]
    },
    {
      "cell_type": "code",
      "execution_count": null,
      "metadata": {
        "id": "xza5K5z6J5Zk"
      },
      "outputs": [],
      "source": [
        "#@title Task 1 - Solution { display-mode: \"form\" }\n",
        "for i in range(10):\n",
        "    print(i)\n",
        "    for j in range(20):\n",
        "        print(j, end=\",\")\n",
        "    print()"
      ]
    },
    {
      "cell_type": "markdown",
      "metadata": {
        "id": "B7sbo3l9J8qK"
      },
      "source": [
        "## Task 2\n",
        "\n",
        "Write a for-loop that iterates over the values int the following list:\n",
        "\n",
        "```python\n",
        "l = [45, 78, 90, 34, 23]\n",
        "```"
      ]
    },
    {
      "cell_type": "markdown",
      "metadata": {
        "id": "X9osqIdGBe0X"
      },
      "source": [
        "Here you can try your solution:"
      ]
    },
    {
      "cell_type": "code",
      "execution_count": null,
      "metadata": {
        "id": "rFwIDTrfzhyV"
      },
      "outputs": [],
      "source": []
    },
    {
      "cell_type": "markdown",
      "metadata": {
        "id": "wsZgqcj5BjP_"
      },
      "source": [
        "If you want to show the solution to the task, click Show code below."
      ]
    },
    {
      "cell_type": "code",
      "execution_count": null,
      "metadata": {
        "cellView": "form",
        "id": "drX2KIjkN8e_"
      },
      "outputs": [],
      "source": [
        "#@title Task 2 - Solution\n",
        "l = [45, 78, 90, 34, 23]\n",
        "\n",
        "for value in l:\n",
        "    print(value)"
      ]
    },
    {
      "cell_type": "markdown",
      "metadata": {
        "id": "3tqbuypWKYXb"
      },
      "source": [
        "---\n",
        "\n",
        "\n",
        "\n"
      ]
    },
    {
      "cell_type": "markdown",
      "metadata": {
        "id": "mbQtp1s5rmkX"
      },
      "source": [
        "---\n",
        "# Functions and subroutines"
      ]
    },
    {
      "cell_type": "markdown",
      "metadata": {
        "id": "SaLByqeGrmkX"
      },
      "source": [
        "* Functions are defined with the keyword **def** followed by the function name and parameters in brackets () followed by a colon (:)\n",
        "* Function code is defined in subsequent code blocks"
      ]
    },
    {
      "cell_type": "code",
      "execution_count": null,
      "metadata": {
        "id": "4g4gCCEVrmkX"
      },
      "outputs": [],
      "source": [
        "def print_doc():\n",
        "    print(\"This is a printout from a function\")"
      ]
    },
    {
      "cell_type": "markdown",
      "metadata": {
        "id": "ebClcZ6ormka"
      },
      "source": [
        "Calling a function"
      ]
    },
    {
      "cell_type": "code",
      "execution_count": null,
      "metadata": {
        "id": "LkWsNpbwrmkb"
      },
      "outputs": [],
      "source": [
        "print_doc()"
      ]
    },
    {
      "cell_type": "markdown",
      "metadata": {
        "id": "18rMgMVxrmkd"
      },
      "source": [
        "Function with parameters"
      ]
    },
    {
      "cell_type": "code",
      "execution_count": null,
      "metadata": {
        "id": "Ck_N1yKdrmkd"
      },
      "outputs": [],
      "source": [
        "def print_value(a):\n",
        "    print(\"The value is \"+str(a))"
      ]
    },
    {
      "cell_type": "markdown",
      "metadata": {
        "id": "EToxQclxrmkf"
      },
      "source": [
        "Calling a function with parameters"
      ]
    },
    {
      "cell_type": "code",
      "execution_count": null,
      "metadata": {
        "id": "tSabWj9Jrmkg"
      },
      "outputs": [],
      "source": [
        "b = 42\n",
        "print_value(b)"
      ]
    },
    {
      "cell_type": "markdown",
      "metadata": {
        "id": "JOLFFQt1rmki"
      },
      "source": [
        "Changing parameters in function(?)"
      ]
    },
    {
      "cell_type": "code",
      "execution_count": null,
      "metadata": {
        "id": "NrH5aKtZrmkj"
      },
      "outputs": [],
      "source": [
        "def print_value(a):\n",
        "    print(\"Value is \"+str(a))\n",
        "    a = 84"
      ]
    },
    {
      "cell_type": "markdown",
      "metadata": {
        "id": "cCN1hI18rmkk"
      },
      "source": [
        "Calling a function"
      ]
    },
    {
      "cell_type": "code",
      "execution_count": null,
      "metadata": {
        "id": "M4hcDt0Rrmkl"
      },
      "outputs": [],
      "source": [
        "a = 42\n",
        "print_value(a)\n",
        "print(a)"
      ]
    },
    {
      "cell_type": "code",
      "execution_count": null,
      "metadata": {
        "id": "ZyLMFI2kSGBQ"
      },
      "outputs": [],
      "source": [
        "def modify_list(a):\n",
        "    #a=[1,2,3]\n",
        "    a[0] = 42\n",
        "\n",
        "a = [1, 2, 3]\n",
        "modify_list(a)\n",
        "print(a)\n"
      ]
    },
    {
      "cell_type": "markdown",
      "metadata": {
        "id": "KZMbBqZcrmkn"
      },
      "source": [
        "## Return values"
      ]
    },
    {
      "cell_type": "code",
      "execution_count": null,
      "metadata": {
        "id": "tKNnA1k0rmkn"
      },
      "outputs": [],
      "source": [
        "from math import *\n",
        "\n",
        "def f(x):\n",
        "    \"\"\"Calculate sine of x\"\"\"\n",
        "    return sin(x)\n",
        "\n",
        "def test(x):\n",
        "    \"\"\"Return both x and x/2 as a tuple\"\"\"\n",
        "    return x, x/2\n",
        "\n",
        "# Calculate sine of pi/2 (should be 1)\n",
        "x = pi/2\n",
        "y = f(x)\n",
        "print(f\"sin(π/2) = {y}\")\n",
        "\n",
        "# Demonstrate multiple return values\n",
        "x, y = test(42)\n",
        "print(f\"test(42) returns: x={x}, y={y}\")"
      ]
    },
    {
      "cell_type": "markdown",
      "metadata": {
        "id": "qtMpmBrxrmkp"
      },
      "source": [
        "Functions can be used in complex expressions."
      ]
    },
    {
      "cell_type": "markdown",
      "metadata": {
        "id": "oBBhJkoIKdv0"
      },
      "source": [
        "\n",
        "\n",
        "---\n",
        "\n",
        "# Short assignments\n"
      ]
    },
    {
      "cell_type": "markdown",
      "metadata": {
        "id": "Ho7tXGlNKhUC"
      },
      "source": [
        "## Task 1\n",
        "\n",
        "Write a function that takes x as input and returns $ f(x) = 2x^2 + 2x + 3$"
      ]
    },
    {
      "cell_type": "code",
      "execution_count": null,
      "metadata": {
        "id": "0YFmEz37yF2v"
      },
      "outputs": [],
      "source": []
    },
    {
      "cell_type": "code",
      "execution_count": null,
      "metadata": {
        "id": "JW7q2dgsK6JG"
      },
      "outputs": [],
      "source": [
        "def f(x):\n",
        "    return 2*x*x + 2*x + 3\n",
        "\n",
        "print(f(5))\n",
        "\n",
        "#@title Task 1 - Solution { display-mode: \"form\" }"
      ]
    },
    {
      "cell_type": "markdown",
      "metadata": {
        "id": "ZXx0lS6HK_N-"
      },
      "source": [
        "\n",
        "\n",
        "---\n",
        "\n"
      ]
    },
    {
      "cell_type": "markdown",
      "metadata": {
        "id": "WqoTNNXWrmkq"
      },
      "source": [
        "---\n",
        "# Organising code in modules"
      ]
    },
    {
      "cell_type": "markdown",
      "metadata": {
        "id": "VA2tUtoarmkq"
      },
      "source": [
        "## Using modules (import)"
      ]
    },
    {
      "cell_type": "markdown",
      "metadata": {
        "id": "e6MP3WUFrmkq"
      },
      "source": [
        "Modules are library of code in Python. They can be built-in or add-ons. To use a module, it must be imported. In the following example, we import the Python math module **math** with the **import** statement."
      ]
    },
    {
      "cell_type": "code",
      "execution_count": null,
      "metadata": {
        "id": "3KveY_43rmkq"
      },
      "outputs": [],
      "source": [
        "import math\n",
        "\n",
        "print(math.sin(math.pi/2))"
      ]
    },
    {
      "cell_type": "markdown",
      "metadata": {
        "id": "JJekp5j5rmkt"
      },
      "source": [
        "This form of import requires that all functions in the module are prefixed with the module name. In this case **math**. It is also possible to import all functions into a module without the prefix with the **from** import declaration."
      ]
    },
    {
      "cell_type": "code",
      "execution_count": null,
      "metadata": {
        "id": "AubIwk0mrmku"
      },
      "outputs": [],
      "source": [
        "from math import *\n",
        "\n",
        "print(sin(pi/2))"
      ]
    },
    {
      "cell_type": "code",
      "execution_count": null,
      "metadata": {
        "id": "R-xgWY6oXAun"
      },
      "outputs": [],
      "source": []
    },
    {
      "cell_type": "markdown",
      "metadata": {
        "id": "KU0RZ4q3rmkw"
      },
      "source": [
        "The \\* in the **from** statement specifies that Python will import all functions from the module. This can be a problem as the import of functions using **from** can collide with already imported functions. It is also possible to explicitly import certain functions by listing them after the import word in a **from** statement."
      ]
    },
    {
      "cell_type": "code",
      "execution_count": null,
      "metadata": {
        "id": "-0HcXC50rmkx"
      },
      "outputs": [],
      "source": [
        "from math import sin, sqrt\n",
        "\n",
        "print(sqrt(2))"
      ]
    },
    {
      "cell_type": "markdown",
      "metadata": {
        "id": "Gn2U0e3Rrmk1"
      },
      "source": [
        "All Python source files can be used as modules\n"
      ]
    },
    {
      "cell_type": "markdown",
      "metadata": {
        "id": "5g0hdvhMrmk1"
      },
      "source": [
        "The following code is an example of a module **prime.py** that contains the function **is_prime()** to check if an integer value is a prime number.\n",
        "\n",
        "    # -*- coding: utf-8 -*-\n",
        "\n",
        "    from math import sqrt\n",
        "\n",
        "    def is_prime(n):\n",
        "\n",
        "        prime = True\n",
        "\n",
        "        k = 2\n",
        "        while k<=sqrt(n) and prime:\n",
        "            if (n % k == 0):\n",
        "                prime = False\n",
        "                break\n",
        "            k+=1      \n",
        "\n",
        "        return prime\n",
        "        \n"
      ]
    },
    {
      "cell_type": "markdown",
      "metadata": {
        "id": "fMpQPI3-W5H0"
      },
      "source": [
        "Before we import it, we need to upload it to our notebook:"
      ]
    },
    {
      "cell_type": "code",
      "execution_count": null,
      "metadata": {
        "colab": {
          "base_uri": "https://localhost:8080/"
        },
        "id": "ndIIsZ9oV0dp",
        "outputId": "c057364f-dec0-4a8c-dd75-b68a028e412d"
      },
      "outputs": [
        {
          "name": "stdout",
          "output_type": "stream",
          "text": [
            "--2025-08-19 12:34:38--  https://raw.githubusercontent.com/jonaslindemann/guide_to_python/master/chapters/kapitel3/notebooks/prime.py\n",
            "Resolving raw.githubusercontent.com (raw.githubusercontent.com)... 185.199.109.133, 185.199.110.133, 185.199.111.133, ...\n",
            "Connecting to raw.githubusercontent.com (raw.githubusercontent.com)|185.199.109.133|:443... connected.\n",
            "HTTP request sent, awaiting response... 200 OK\n",
            "Length: 260 [text/plain]\n",
            "Saving to: ‘prime.py’\n",
            "\n",
            "prime.py            100%[===================>]     260  --.-KB/s    in 0s      \n",
            "\n",
            "2025-08-19 12:34:39 (8.47 MB/s) - ‘prime.py’ saved [260/260]\n",
            "\n"
          ]
        }
      ],
      "source": [
        "!wget https://raw.githubusercontent.com/jonaslindemann/guide_to_python/master/chapters/kapitel3/notebooks/prime.py"
      ]
    },
    {
      "cell_type": "markdown",
      "metadata": {
        "id": "tccFDPFDXDXz"
      },
      "source": [
        "We can now use this module with the following statements:"
      ]
    },
    {
      "cell_type": "code",
      "execution_count": null,
      "metadata": {
        "id": "ugMxigeirmk2"
      },
      "outputs": [],
      "source": [
        "import prime"
      ]
    },
    {
      "cell_type": "markdown",
      "metadata": {
        "id": "Oc8XeGwormk4"
      },
      "source": [
        "We can now use the function in the module:"
      ]
    },
    {
      "cell_type": "code",
      "execution_count": null,
      "metadata": {
        "id": "opF4jb1Nrmk5"
      },
      "outputs": [],
      "source": [
        "print(prime.is_prime(3))"
      ]
    },
    {
      "cell_type": "code",
      "execution_count": null,
      "metadata": {
        "id": "fO905reVrmk5"
      },
      "outputs": [],
      "source": [
        "print(prime.is_prime(8))"
      ]
    },
    {
      "cell_type": "markdown",
      "metadata": {
        "id": "ZsRCrGFqrmk7"
      },
      "source": [
        "## Main program and scripts in Python"
      ]
    },
    {
      "cell_type": "markdown",
      "metadata": {
        "id": "9zxL1nmwrmk7"
      },
      "source": [
        "Python executes all code in a module or source file. Most other languages often define a main function that is run by the operating system. In Python, some source file is often considered the main module where the program has its starting point. In many cases, Python modules can be executed as scripts or imported as a module. If a module is imported, you often only want access to the built-in functions and not executable statements to run.\n",
        "\n",
        "When a python source file is imported, a specific variable, **__main__**, is assigned the name of the module. If the same source file is executed as a script, the variable will contain \"main\".\n",
        "\n",
        "We modify copy our prime.py module and create prime_extra.py with an extra print declaration that prints the name variable.\n",
        "\n",
        "    # -*- coding: utf-8 -*-\n",
        "\n",
        "    from math import sqrt\n",
        "    \n",
        "    print(__name__)\n",
        "\n",
        "    def is_prime(n):\n",
        "\n",
        "        prime = True\n",
        "\n",
        "        k = 2\n",
        "        while k<=sqrt(n) and prime:\n",
        "            if (n % k == 0):\n",
        "                prime = False\n",
        "                break\n",
        "            k+=1      \n",
        "\n",
        "        return prime\n",
        "        \n"
      ]
    },
    {
      "cell_type": "code",
      "execution_count": null,
      "metadata": {
        "colab": {
          "base_uri": "https://localhost:8080/"
        },
        "id": "vLjmUnlpYBtP",
        "outputId": "df36b6ec-bfd1-4b2b-9426-2cfa422c7906"
      },
      "outputs": [
        {
          "name": "stdout",
          "output_type": "stream",
          "text": [
            "--2025-08-19 12:34:08--  https://raw.githubusercontent.com/jonaslindemann/guide_to_python/master/chapters/kapitel3/notebooks/prime_extra.py\n",
            "Resolving raw.githubusercontent.com (raw.githubusercontent.com)... 185.199.108.133, 185.199.109.133, 185.199.110.133, ...\n",
            "Connecting to raw.githubusercontent.com (raw.githubusercontent.com)|185.199.108.133|:443... connected.\n",
            "HTTP request sent, awaiting response... 200 OK\n",
            "Length: 260 [text/plain]\n",
            "Saving to: ‘prime_extra.py’\n",
            "\n",
            "prime_extra.py      100%[===================>]     260  --.-KB/s    in 0s      \n",
            "\n",
            "2025-08-19 12:34:09 (1.26 MB/s) - ‘prime_extra.py’ saved [260/260]\n",
            "\n"
          ]
        }
      ],
      "source": [
        "!wget https://raw.githubusercontent.com/jonaslindemann/guide_to_python/master/chapters/kapitel3/notebooks/prime_extra.py"
      ]
    },
    {
      "cell_type": "code",
      "execution_count": null,
      "metadata": {
        "colab": {
          "base_uri": "https://localhost:8080/"
        },
        "id": "zp5L9Y5DYX91",
        "outputId": "9191bd7c-ebfc-465f-f4f3-4c1e24205684"
      },
      "outputs": [
        {
          "name": "stdout",
          "output_type": "stream",
          "text": [
            "--2025-08-19 12:34:13--  https://raw.githubusercontent.com/jonaslindemann/guide_to_python/master/chapters/kapitel3/notebooks/prime_main.py\n",
            "Resolving raw.githubusercontent.com (raw.githubusercontent.com)... 185.199.110.133, 185.199.108.133, 185.199.111.133, ...\n",
            "Connecting to raw.githubusercontent.com (raw.githubusercontent.com)|185.199.110.133|:443... connected.\n",
            "HTTP request sent, awaiting response... 200 OK\n",
            "Length: 124 [text/plain]\n",
            "Saving to: ‘prime_main.py’\n",
            "\n",
            "prime_main.py       100%[===================>]     124  --.-KB/s    in 0s      \n",
            "\n",
            "2025-08-19 12:34:14 (1.72 MB/s) - ‘prime_main.py’ saved [124/124]\n",
            "\n"
          ]
        }
      ],
      "source": [
        "!wget https://raw.githubusercontent.com/jonaslindemann/guide_to_python/master/chapters/kapitel3/notebooks/prime_main.py"
      ]
    },
    {
      "cell_type": "code",
      "execution_count": null,
      "metadata": {
        "colab": {
          "base_uri": "https://localhost:8080/"
        },
        "id": "FFo58mOarmk9",
        "outputId": "23a0a00a-f5f9-4ad6-c467-43b5a4340944"
      },
      "outputs": [
        {
          "name": "stdout",
          "output_type": "stream",
          "text": [
            "prime_extra\n"
          ]
        }
      ],
      "source": [
        "import prime_extra"
      ]
    },
    {
      "cell_type": "markdown",
      "metadata": {
        "id": "tnP0zJLKrmk-"
      },
      "source": [
        "If we now execute the same file with the Python interpreter, we get a different result:"
      ]
    },
    {
      "cell_type": "code",
      "execution_count": null,
      "metadata": {
        "colab": {
          "base_uri": "https://localhost:8080/"
        },
        "id": "CT488Kozrmk-",
        "outputId": "344b9258-82a0-405c-c6f6-4d8d5c0bbdd7"
      },
      "outputs": [
        {
          "name": "stdout",
          "output_type": "stream",
          "text": [
            "__main__\n"
          ]
        }
      ],
      "source": [
        "run prime_extra"
      ]
    },
    {
      "cell_type": "markdown",
      "metadata": {
        "id": "BRX-MF27rmlA"
      },
      "source": [
        "That way we can create python source files that can both be imported and used as scripts. This is also a precaution to ensure that a python source file does not execute code incorrectly when imported as a module.\n",
        "\n",
        "Many Python projects often have a main python script to launch the main application. A typical master program (prime_main.py) is shown below:\n",
        "\n",
        "    # -*- coding: utf-8 -*-\n",
        "    \n",
        "    import prime\n",
        "    \n",
        "    if __name__ == \"__main__\":\n",
        "        \n",
        "        print(prime.is_prime(6))\n",
        "        print(prime.is_prime(5))\n",
        "        \n",
        "The code in the if-statement is only executed when run as a script."
      ]
    },
    {
      "cell_type": "code",
      "execution_count": null,
      "metadata": {
        "colab": {
          "base_uri": "https://localhost:8080/"
        },
        "id": "q8iIkAQvrmlA",
        "outputId": "e1db4dd9-bae1-4ada-a319-a36e3f62d1e0"
      },
      "outputs": [
        {
          "name": "stdout",
          "output_type": "stream",
          "text": [
            "prime\n",
            "False\n",
            "True\n"
          ]
        }
      ],
      "source": [
        "run prime_main"
      ]
    },
    {
      "cell_type": "code",
      "execution_count": null,
      "metadata": {
        "id": "MkgQmd2xrmlB"
      },
      "outputs": [],
      "source": [
        "import prime_main"
      ]
    },
    {
      "cell_type": "markdown",
      "metadata": {
        "id": "Sk4deUrlrmlD"
      },
      "source": [
        "---\n",
        "# Formatting output data"
      ]
    },
    {
      "cell_type": "markdown",
      "metadata": {
        "id": "zl_g_LW5rmlD"
      },
      "source": [
        "When printing, printing is often required in some way. Python contains many ways to do this. In Python 3, this is done using the **.format()** method of a string object. In the following example, values are placed in the string with placeholders \\{ \\}"
      ]
    },
    {
      "cell_type": "code",
      "execution_count": null,
      "metadata": {
        "id": "Cc36FPkKrmlD"
      },
      "outputs": [],
      "source": [
        "a = 2.0\n",
        "b = 45.0\n",
        "c = 1500\n",
        "d = \"My string\"\n",
        "\n",
        "form_string = \"{}, {}, {}, {}\".format(a, b, c, d)\n",
        "\n",
        "print(form_string)"
      ]
    },
    {
      "cell_type": "markdown",
      "metadata": {
        "id": "aN90vIudrmlF"
      },
      "source": [
        "You can also refer to the variable with indices in the placeholders."
      ]
    },
    {
      "cell_type": "code",
      "execution_count": null,
      "metadata": {
        "id": "L3CCs1JFrmlG"
      },
      "outputs": [],
      "source": [
        "form_string = \"{3}, {2}, {1}, {0}\".format(a, b, c, d)\n",
        "print(form_string)"
      ]
    },
    {
      "cell_type": "markdown",
      "metadata": {
        "id": "Ca0AptwJrmlI"
      },
      "source": [
        "## String formatting"
      ]
    },
    {
      "cell_type": "markdown",
      "metadata": {
        "id": "VisYAmLrrmlJ"
      },
      "source": [
        "For string variables, a width can be given for printing. The given string will then be placed within the specified width. By default, the string is left-aligned in the field. In the following example, the string \"Python 3\" is placed in a 15-character wide field with different formatting options"
      ]
    },
    {
      "cell_type": "code",
      "execution_count": null,
      "metadata": {
        "id": "aKgvkn5DrmlK"
      },
      "outputs": [],
      "source": [
        "form_string = \">{:15}<\".format(\"Python 3\")\n",
        "print(form_string)"
      ]
    },
    {
      "cell_type": "markdown",
      "metadata": {
        "id": "Bel7TNYTrmlL"
      },
      "source": [
        "Right alignment is done by using > in the placeholder.\n"
      ]
    },
    {
      "cell_type": "code",
      "execution_count": null,
      "metadata": {
        "id": "hOhWt8GxrmlL"
      },
      "outputs": [],
      "source": [
        "form_string = \">{:>15}<\".format(\"Python 3\")\n",
        "print(form_string)"
      ]
    },
    {
      "cell_type": "markdown",
      "metadata": {
        "id": "mmgbgwTXrmlO"
      },
      "source": [
        "Centering is achieved by using the ^ operator\n"
      ]
    },
    {
      "cell_type": "code",
      "execution_count": null,
      "metadata": {
        "id": "cmvKXekMrmlO"
      },
      "outputs": [],
      "source": [
        "form_string = \">{:^15}<\".format(\"Python 3\")\n",
        "print(form_string)"
      ]
    },
    {
      "cell_type": "markdown",
      "metadata": {
        "id": "qmDtDGuTrmlP"
      },
      "source": [
        "To fill in, enter a fill character in the placeholder:\n"
      ]
    },
    {
      "cell_type": "code",
      "execution_count": null,
      "metadata": {
        "id": "Y6Qb1GuwrmlQ"
      },
      "outputs": [],
      "source": [
        "form_string = \">{:_^15}<\".format(\"Python 3\")\n",
        "print(form_string)"
      ]
    },
    {
      "cell_type": "markdown",
      "metadata": {
        "id": "kOsdXBWtrmlR"
      },
      "source": [
        "## Formatting of integers\n"
      ]
    },
    {
      "cell_type": "markdown",
      "metadata": {
        "id": "1pwZ9FPhrmlS"
      },
      "source": [
        "Just as for strings, printing of integers can also be controlled with placeholders. The placeholder for integers is **\\{:d\\}** as shown in the example below:"
      ]
    },
    {
      "cell_type": "code",
      "execution_count": null,
      "metadata": {
        "id": "TnxO8WjFrmlS"
      },
      "outputs": [],
      "source": [
        "form_string = \">{:d}<\".format(42)\n",
        "print(form_string)"
      ]
    },
    {
      "cell_type": "markdown",
      "metadata": {
        "id": "nXZTsittrmlU"
      },
      "source": [
        "The field width can also be controlled just as for strings:"
      ]
    },
    {
      "cell_type": "code",
      "execution_count": null,
      "metadata": {
        "id": "qw7HRUIGrmlU"
      },
      "outputs": [],
      "source": [
        "print(\">{:10d}<\".format(42))\n",
        "print(\">{:>10d}<\".format(42))\n",
        "print(\">{:<10d}<\".format(42))\n",
        "print(\">{:^10d}<\".format(42))\n",
        "print(\">{:_<10d}<\".format(42))\n",
        "print(\">{:0>10d}<\".format(42))"
      ]
    },
    {
      "cell_type": "markdown",
      "metadata": {
        "id": "7_Si7LTxrmll"
      },
      "source": [
        "## Formatting floating point values"
      ]
    },
    {
      "cell_type": "markdown",
      "metadata": {
        "id": "oimO9vxJrmll"
      },
      "source": [
        "Fixed form of floating point is formatted using the **\\{:f\\}** placeholder. Field width and number of decimal places can be specified. In the following example, the field width 10 and the number of decimal places are varied from 2 to 6."
      ]
    },
    {
      "cell_type": "code",
      "execution_count": null,
      "metadata": {
        "id": "U2_UZntZrmll"
      },
      "outputs": [],
      "source": [
        "print(\">{:10.2f}<\".format(3.141592653589793))\n",
        "print(\">{:10.4f}<\".format(3.141592653589793))\n",
        "print(\">{:10.6f}<\".format(3.141592653589793))"
      ]
    },
    {
      "cell_type": "markdown",
      "metadata": {
        "id": "762ubqocrmlm"
      },
      "source": [
        "Scientific notation can be specified with the placeholder **{:e}**."
      ]
    },
    {
      "cell_type": "code",
      "execution_count": null,
      "metadata": {
        "id": "IDVT5x5Frmln"
      },
      "outputs": [],
      "source": [
        "print(\">{:15.2f}<\".format(3.141592653589793))\n",
        "print(\">{:15.4e}<\".format(3.141592653589793))\n",
        "print(\">{:15.6g}<\".format(3.141592653589793))"
      ]
    },
    {
      "cell_type": "code",
      "execution_count": null,
      "metadata": {
        "id": "h9-EYnX36Je6"
      },
      "outputs": [],
      "source": []
    },
    {
      "cell_type": "markdown",
      "metadata": {
        "id": "uq7z_nWBrmlo"
      },
      "source": [
        "## Named placeholders"
      ]
    },
    {
      "cell_type": "markdown",
      "metadata": {
        "id": "FN9umca0rmlo"
      },
      "source": [
        "To support more complex formatting, it is possible to use named placeholders with the **.format()** method. Parameters must then be named in the call to the **.format()** method:"
      ]
    },
    {
      "cell_type": "code",
      "execution_count": null,
      "metadata": {
        "id": "nLDhzqeSrmlp"
      },
      "outputs": [],
      "source": [
        "print(\"({x}, {y})\".format(x = 0.0, y = 2.0))"
      ]
    },
    {
      "cell_type": "markdown",
      "metadata": {
        "id": "m5uc2ebArmlq"
      },
      "source": [
        "It is also possible to directly use a dictionary in the **.format()** method.\n"
      ]
    },
    {
      "cell_type": "code",
      "execution_count": null,
      "metadata": {
        "id": "23XemrXPrmlq"
      },
      "outputs": [],
      "source": [
        "params = {\"value1\": 42, \"value2\": 3.14, \"value3\": \"Python\"}\n",
        "print(\"{value1}, {value2}, {value3}\".format(**params))"
      ]
    },
    {
      "cell_type": "markdown",
      "metadata": {
        "id": "tSBxEmuMrmls"
      },
      "source": [
        "Everything in Python is stored in lookup lists, even the variables are defined in a lookup list. In the following example, variables are defined in the script and the glossary of global variables can be returned with the **globals()** function."
      ]
    },
    {
      "cell_type": "code",
      "execution_count": null,
      "metadata": {
        "id": "nNPo1Pcs3Kjj"
      },
      "outputs": [],
      "source": [
        "print(globals())"
      ]
    },
    {
      "cell_type": "code",
      "execution_count": null,
      "metadata": {
        "id": "E7Ozao4Ormlt"
      },
      "outputs": [],
      "source": [
        "value1 = 34\n",
        "value2 = 84\n",
        "value3 = \"Easy as pie!\"\n",
        "print(\"{value1}, {value2}, {value3}\".format(**globals()))"
      ]
    },
    {
      "cell_type": "markdown",
      "metadata": {
        "id": "us7PxWM_PuKx"
      },
      "source": [
        "## f-strings"
      ]
    },
    {
      "cell_type": "markdown",
      "metadata": {
        "id": "FNvPfnBzQGnd"
      },
      "source": [
        "Since Python 3.6 there is an additional way that makes it even easier to format output, the f-string. The f-string is a special string prefixed with an **f** that can take any defined variables in the placeholders as shown in the example below:"
      ]
    },
    {
      "cell_type": "code",
      "execution_count": null,
      "metadata": {
        "id": "PO9wYHzJP1St"
      },
      "outputs": [],
      "source": [
        "value1 = 34\n",
        "value2 = 84\n",
        "value3 = \"Easy as pie!\"\n",
        "\n",
        "print(f\"{value1}, {value2}, {value3}\")\n",
        "print(f\"{value1:010d}, {value2}, {value3:>15}\")\n"
      ]
    },
    {
      "cell_type": "markdown",
      "metadata": {
        "id": "j-G13K92hGq1"
      },
      "source": [
        "f-strings use the same syntax as the placeholder syntax used by the .format(...) method, except for the variable name preceeding the format options."
      ]
    },
    {
      "cell_type": "code",
      "execution_count": null,
      "metadata": {
        "id": "05vhuRlBmPmV",
        "outputId": "a3edbbec-88e5-4a50-b933-75230f3f40aa"
      },
      "outputs": [
        {
          "name": "stdout",
          "output_type": "stream",
          "text": [
            "My name is Alice and I am 30 years old.\n"
          ]
        }
      ],
      "source": [
        "name = \"Alice\"\n",
        "age = 30\n",
        "print(f\"My name is {name} and I am {age} years old.\")"
      ]
    },
    {
      "cell_type": "markdown",
      "metadata": {
        "id": "z0YCTPBtmPmV"
      },
      "source": [
        "You can also include expressions and function calls directly within the curly braces:"
      ]
    },
    {
      "cell_type": "code",
      "execution_count": null,
      "metadata": {
        "id": "xwhp-DfomPmV",
        "outputId": "453649a0-79c7-4d59-9284-5e3c0ec7682f"
      },
      "outputs": [
        {
          "name": "stdout",
          "output_type": "stream",
          "text": [
            "The sum of 10 and 20 is 30.\n",
            "In uppercase: HELLO\n"
          ]
        }
      ],
      "source": [
        "x = 10\n",
        "y = 20\n",
        "print(f\"The sum of {x} and {y} is {x + y}.\")\n",
        "print(f\"In uppercase: {'hello'.upper()}\")"
      ]
    },
    {
      "cell_type": "markdown",
      "metadata": {
        "id": "nk3XcYTZmPmV"
      },
      "source": [
        "f-strings also support the same formatting options as the `.format()` method:"
      ]
    },
    {
      "cell_type": "code",
      "execution_count": null,
      "metadata": {
        "id": "rhEOfLZ7mPmV",
        "outputId": "2f3b70a7-5da0-411e-82a6-53f8873850f3"
      },
      "outputs": [
        {
          "name": "stdout",
          "output_type": "stream",
          "text": [
            "Pi to two decimal places: 3.14\n",
            "Formatted number: 123,456,789\n"
          ]
        }
      ],
      "source": [
        "pi = 3.14159\n",
        "print(f\"Pi to two decimal places: {pi:.2f}\")\n",
        "print(f\"Formatted number: {123456789:,}\")"
      ]
    },
    {
      "cell_type": "markdown",
      "metadata": {
        "id": "UmyGRDDmmPmV"
      },
      "source": [
        "### Advanced f-string Features\n",
        "\n",
        "f-strings can evaluate expressions and even include the variable name for debugging:"
      ]
    },
    {
      "cell_type": "code",
      "execution_count": null,
      "metadata": {
        "id": "CkH8Y_i3mPmV"
      },
      "outputs": [],
      "source": [
        "# Debug mode with f-strings (Python 3.8+)\n",
        "name = \"Alice\"\n",
        "age = 30\n",
        "score = 95.5\n",
        "\n",
        "# The = shows both the expression and its value\n",
        "print(f\"{name=}\")\n",
        "print(f\"{age=}\")\n",
        "print(f\"{score=}\")\n",
        "\n",
        "# Expressions can be evaluated inside f-strings\n",
        "print(f\"In 10 years, {name} will be {age + 10} years old\")\n",
        "print(f\"Average score: {(score + 87.3 + 92.1) / 3:.1f}\")\n",
        "\n",
        "# Date formatting with f-strings\n",
        "from datetime import datetime\n",
        "now = datetime.now()\n",
        "print(f\"Current time: {now:%Y-%m-%d %H:%M:%S}\")"
      ]
    },
    {
      "cell_type": "markdown",
      "metadata": {
        "id": "fq7QJVR3rmlu"
      },
      "source": [
        "---\n",
        "# Reading and writing files"
      ]
    },
    {
      "cell_type": "markdown",
      "metadata": {
        "id": "RzbheewRrmlv"
      },
      "source": [
        "One of the most important tasks in many applications is the ability to read and write files. To read and write files in Python, a special file object must be created. This file object creates a link between Python and a file in the file system. With this object you can then write and read from the selected file.\n",
        "\n",
        "A file object is created with the **open()** statement."
      ]
    },
    {
      "cell_type": "markdown",
      "metadata": {
        "id": "qKYfDI79rmlv"
      },
      "source": [
        "## Writing to a file"
      ]
    },
    {
      "cell_type": "markdown",
      "metadata": {
        "id": "rUjW7WwVrmlw"
      },
      "source": [
        "Text files are stored as rows of text. A text file can be opened for writing with the **open()** function.\n"
      ]
    },
    {
      "cell_type": "code",
      "execution_count": null,
      "metadata": {
        "colab": {
          "base_uri": "https://localhost:8080/"
        },
        "id": "D_zvm8lurmlx",
        "outputId": "b89fc52f-dc2a-45a3-9241-2449967e0ffd"
      },
      "outputs": [
        {
          "name": "stdout",
          "output_type": "stream",
          "text": [
            "Number of characters written in first write: 17\n",
            "Number of characters written in second write: 30\n",
            "Number of characters written in third write: 30\n"
          ]
        }
      ],
      "source": [
        "text_file = open(\"myfile.txt\", \"w\")\n",
        "# .write() returns the number of characters written\n",
        "num_chars_written = text_file.write(\"File content. \")\n",
        "print(f\"Number of characters written in first write: {num_chars_written}\") # Added print and explanation\n",
        "num_chars_written = text_file.write(\"This is written on the same line.\\n\")\n",
        "print(f\"Number of characters written in second write: {num_chars_written}\") # Added print and explanation\n",
        "num_chars_written = text_file.write(\"This text comes on a new line\")\n",
        "print(f\"Number of characters written in third write: {num_chars_written}\") # Added print and explanation"
      ]
    },
    {
      "cell_type": "markdown",
      "metadata": {
        "id": "-ufvtSabrmly"
      },
      "source": [
        "**text_file** is now our link to the file **myfile.txt** to which we will write.\n",
        "\n",
        "Writing to the file is done using the **.write()** method. The method basically acts as the **print()** function except that it adds aging to the control character for a new row after the call. New rows must specify the strings that are written to the file. In the following code writes to the file 3 times to print 2 lines."
      ]
    },
    {
      "cell_type": "code",
      "execution_count": null,
      "metadata": {
        "id": "3Mwbm2svrmly"
      },
      "outputs": [],
      "source": [
        "text_file.write(\"File content. \")\n",
        "text_file.write(\"This is written on the same line.\\n\")\n",
        "text_file.write(\"This text comes on a new line\")"
      ]
    },
    {
      "cell_type": "markdown",
      "metadata": {
        "id": "2jvPhDy5rml0"
      },
      "source": [
        "When we are ready to write to our file, it must be closed so that the operating system does not think it is still open. This is done with the meotden **.close()**."
      ]
    },
    {
      "cell_type": "code",
      "execution_count": null,
      "metadata": {
        "id": "7gtWJ2jRrml0"
      },
      "outputs": [],
      "source": [
        "text_file.close()"
      ]
    },
    {
      "cell_type": "markdown",
      "metadata": {
        "id": "MfoZXMTMrml2"
      },
      "source": [
        "The contents of the file is now:"
      ]
    },
    {
      "cell_type": "code",
      "execution_count": null,
      "metadata": {
        "id": "Dn_V6WJdrml2"
      },
      "outputs": [],
      "source": [
        "!cat myfile.txt"
      ]
    },
    {
      "cell_type": "markdown",
      "metadata": {
        "id": "PTYnxdfrrml3"
      },
      "source": [
        "## Reading from a file"
      ]
    },
    {
      "cell_type": "markdown",
      "metadata": {
        "id": "81FMnIktrml3"
      },
      "source": [
        "Opening a file for reading also happens with the **open()** function and the extra parameter \"r\""
      ]
    },
    {
      "cell_type": "code",
      "execution_count": null,
      "metadata": {
        "id": "-ch5fWW7rml3"
      },
      "outputs": [],
      "source": [
        "text_file = open(\"myfile.txt\", \"r\")"
      ]
    },
    {
      "cell_type": "markdown",
      "metadata": {
        "id": "AXbf5eKXrml6"
      },
      "source": [
        "The entire file can be read into a string using the **.read()** method."
      ]
    },
    {
      "cell_type": "code",
      "execution_count": null,
      "metadata": {
        "id": "KEuu8waCrml6"
      },
      "outputs": [],
      "source": [
        "content = text_file.read()\n",
        "text_file.close()\n",
        "\n",
        "print(content)"
      ]
    },
    {
      "cell_type": "markdown",
      "metadata": {
        "id": "Rwcua3Nbrml7"
      },
      "source": [
        "Using **.read()** for large files can be very inefficient as the entire file must be stored in a single string. Then it is better to use the **.readline()** method to read one line at a time."
      ]
    },
    {
      "cell_type": "code",
      "execution_count": null,
      "metadata": {
        "id": "Iit_IEvbrml7"
      },
      "outputs": [],
      "source": [
        "text_file = open(\"myfile.txt\", \"r\")\n",
        "\n",
        "line = text_file.readline()\n",
        "while line!='':\n",
        "    print(\">\"+line)\n",
        "    line = text_file.readline()\n",
        "\n",
        "text_file.close()"
      ]
    },
    {
      "cell_type": "markdown",
      "metadata": {
        "id": "aSFSkAT6rml9"
      },
      "source": [
        "The line between the print statements is because **.readline()** also reads any return characters from the files. We can use **.rstrip()** to remove these control characters."
      ]
    },
    {
      "cell_type": "code",
      "execution_count": null,
      "metadata": {
        "id": "ybHaxOWYrml9"
      },
      "outputs": [],
      "source": [
        "text_file = open(\"myfile.txt\", \"r\")\n",
        "\n",
        "line = text_file.readline().rstrip()\n",
        "\n",
        "while line!='':\n",
        "    print(\">\"+line)\n",
        "    line = text_file.readline().rstrip()\n",
        "\n",
        "text_file.close()"
      ]
    },
    {
      "cell_type": "markdown",
      "metadata": {
        "id": "0TDzNthxrmmA"
      },
      "source": [
        "It is also possible to iterate over a file using the statement:"
      ]
    },
    {
      "cell_type": "code",
      "execution_count": null,
      "metadata": {
        "id": "5wxta1ZPrmmA"
      },
      "outputs": [],
      "source": [
        "text_file = open(\"myfile.txt\", \"r\")\n",
        "\n",
        "for line in text_file:\n",
        "    print(\">\"+line.rstrip())\n",
        "\n",
        "text_file.close()"
      ]
    },
    {
      "cell_type": "markdown",
      "metadata": {
        "id": "x72QcNA7rmmB"
      },
      "source": [
        "It is possible to read the entire file into a list of strings by using the **.readlines()** method on the file object."
      ]
    },
    {
      "cell_type": "code",
      "execution_count": null,
      "metadata": {
        "id": "1fFm4zOcrmmB"
      },
      "outputs": [],
      "source": [
        "text_file = open(\"myfile.txt\", \"r\")\n",
        "lines = text_file.readlines()\n",
        "text_file.close()\n",
        "\n",
        "print(lines)"
      ]
    },
    {
      "cell_type": "markdown",
      "metadata": {
        "id": "_2ayLOWarmmE"
      },
      "source": [
        "## Open files using the with-statement"
      ]
    },
    {
      "cell_type": "markdown",
      "metadata": {
        "id": "BE9iHHorrmmE"
      },
      "source": [
        "Closing files after use is very important. To ensure that **.close()** will always be called, a special language construct, the **with** statement can be used. The code block for a ** with ** statement guarantees that the **.close()** method is always called.\n",
        "\n",
        "The following code opens a file with the **with** statement"
      ]
    },
    {
      "cell_type": "code",
      "execution_count": null,
      "metadata": {
        "id": "BXLY7oCirmmE"
      },
      "outputs": [],
      "source": [
        "with open(\"myfile.txt\", \"r\") as text_file:\n",
        "    lines = text_file.readlines()\n",
        "\n",
        "print(lines)"
      ]
    },
    {
      "cell_type": "markdown",
      "metadata": {
        "id": "riNMCKkOrmmG"
      },
      "source": [
        "---\n",
        "# Error handling"
      ]
    },
    {
      "cell_type": "markdown",
      "metadata": {
        "id": "zPyY2K1vrmmH"
      },
      "source": [
        "Error management is often handled by calling features to investigate error status and then taking action depending on what the function returns. Handling errors in this way often makes the code easily complex. The following example checks whether a file exists before opening it. However, there may be several reasons why a file cannot be opened, which is not handled by the example:"
      ]
    },
    {
      "cell_type": "code",
      "execution_count": null,
      "metadata": {
        "id": "ZopQbIMFrmmH"
      },
      "outputs": [],
      "source": [
        "import os\n",
        "\n",
        "filename = \"myfile.txt\"\n",
        "\n",
        "if os.path.exists(filename):\n",
        "    with open(filename, \"r\") as text_file:\n",
        "        lines = text_file.readlines()\n",
        "else:\n",
        "    print(\"The file \"+filename+\" was not found!\")"
      ]
    },
    {
      "cell_type": "markdown",
      "metadata": {
        "id": "XzTrhUn7rmmI"
      },
      "source": [
        "## Error handling with exceptions"
      ]
    },
    {
      "cell_type": "markdown",
      "metadata": {
        "id": "MZDFc4ukrmmI"
      },
      "source": [
        "The most common way to handle errors in Python is through exceptions. Most features in Python generate exceptions when an error occurs. You probably have these when your code doesn't work. If you run the following example, an exception is generated."
      ]
    },
    {
      "cell_type": "code",
      "execution_count": null,
      "metadata": {
        "id": "M2BxYDGGrmmI"
      },
      "outputs": [],
      "source": [
        "with open(\"myfil.txt\", \"r\") as text_file:\n",
        "    lines = text_file.readlines()"
      ]
    },
    {
      "cell_type": "markdown",
      "metadata": {
        "id": "Cpn-EjFQrmmK"
      },
      "source": [
        "FileNotFoundError is an exception. We can improve our code to handle all exceptions by using the **try..except** statement."
      ]
    },
    {
      "cell_type": "code",
      "execution_count": null,
      "metadata": {
        "id": "H1U0XwdirmmK"
      },
      "outputs": [],
      "source": [
        "try:\n",
        "    with open(\"myfil.txt\", \"r\") as text_file:\n",
        "        lines = text_file.readlines()\n",
        "except:\n",
        "    print(\"Filen kunde inte öppnas\")"
      ]
    },
    {
      "cell_type": "markdown",
      "metadata": {
        "id": "kurLt5-KrmmL"
      },
      "source": [
        "The problem with the above code is it captures **all** exceptions. The errors cannot be distinguished."
      ]
    },
    {
      "cell_type": "markdown",
      "metadata": {
        "id": "fay28tKJrmmL"
      },
      "source": [
        "## Handling specific exceptions\n"
      ]
    },
    {
      "cell_type": "markdown",
      "metadata": {
        "id": "NOzaavuZrmmL"
      },
      "source": [
        "You can specify which exceptions you are interested in by modifying the **try..except** statement according to:\n"
      ]
    },
    {
      "cell_type": "code",
      "execution_count": null,
      "metadata": {
        "id": "nT5IYQSSrmmM"
      },
      "outputs": [],
      "source": [
        "try:\n",
        "    with open(\"myfil.txt\", \"r\") as text_file:\n",
        "        lines = text_file.readlines()\n",
        "except FileNotFoundError:\n",
        "    print(\"Filen hittades inte.\")"
      ]
    },
    {
      "cell_type": "markdown",
      "metadata": {
        "id": "kd83jHw1rmmN"
      },
      "source": [
        "The code can be extended to even handle the PermissionDenied exception that is generated if you do not have permission to read a file. More exceptions are specified with more **except** blocks in the code for the specific exceptions."
      ]
    },
    {
      "cell_type": "code",
      "execution_count": null,
      "metadata": {
        "id": "W1YwlL8zrmmO"
      },
      "outputs": [],
      "source": [
        "try:\n",
        "    a = float(\"hello\")\n",
        "    with open(\"myfil.txt\", \"r\") as text_file:\n",
        "        lines = text_file.readlines()\n",
        "except FileNotFoundError:\n",
        "    print(\"Filen hittades inte.\")\n",
        "except PermissionError:\n",
        "    print(\"Vi har inte rätt att läsa filen.\")\n",
        "except ValueError:\n",
        "    print(\"Couldn't convert to float.\")"
      ]
    },
    {
      "cell_type": "markdown",
      "metadata": {
        "id": "nOO8J2DRrmmP"
      },
      "source": [
        "In this way we can handle various exceptions more fine-grained."
      ]
    },
    {
      "cell_type": "markdown",
      "metadata": {
        "id": "8UDi1rKcrmmP"
      },
      "source": [
        "## Additional information from exceptions"
      ]
    },
    {
      "cell_type": "markdown",
      "metadata": {
        "id": "EBVQRcehrmmQ"
      },
      "source": [
        "Many exceptions send with extra information with the exception. To get this information, we need to add an exception item in the **try..except** statement:"
      ]
    },
    {
      "cell_type": "code",
      "execution_count": null,
      "metadata": {
        "id": "frmXcA-ormmQ"
      },
      "outputs": [],
      "source": [
        "try:\n",
        "    with open(\"myfile.txt\", \"r\") as text_file:\n",
        "        lines = text_file.readlines()\n",
        "except FileNotFoundError as e:\n",
        "    print(\"The file\", e.filename, \"could not be opened.\")\n",
        "except PermissionError as e:\n",
        "    print(\"The error message is '\"+e.strerror+\"'\")"
      ]
    },
    {
      "cell_type": "markdown",
      "metadata": {
        "id": "3a0Yrz-KrmmR"
      },
      "source": [
        "## Ensuring code execution after an execption"
      ]
    },
    {
      "cell_type": "markdown",
      "metadata": {
        "id": "SHnCdWZ3rmmR"
      },
      "source": [
        "Python also offers the **try..finally** statement, which ensures that the code in the **finally** block is always executed even if an exception is generated. The following examples illustrate this."
      ]
    },
    {
      "cell_type": "code",
      "execution_count": null,
      "metadata": {
        "id": "diLAl6t-f20i"
      },
      "outputs": [],
      "source": [
        "!wget https://raw.githubusercontent.com/jonaslindemann/guide_to_python/master/chapters/kapitel3/notebooks/numbers.txt"
      ]
    },
    {
      "cell_type": "code",
      "execution_count": null,
      "metadata": {
        "colab": {
          "base_uri": "https://localhost:8080/"
        },
        "id": "yBhh0hClrmmS",
        "outputId": "860c09f6-6723-4ecb-856b-392f4b32f920"
      },
      "outputs": [
        {
          "name": "stdout",
          "output_type": "stream",
          "text": [
            "Input file not found.\n",
            "Finished processing file.\n"
          ]
        }
      ],
      "source": [
        "try:\n",
        "    with open(\"numbers.txt\", \"r\") as input_file, open(\"sums.txt\", \"w\") as output_file:\n",
        "        for line in input_file:\n",
        "            items = line.strip().split()\n",
        "            numbers = []\n",
        "            for item in items:\n",
        "                try:\n",
        "                    numbers.append(int(item))\n",
        "                except ValueError:\n",
        "                    print(f\"Skipping invalid data '{item}' on line: {line.strip()}\")\n",
        "                    # Decide how to handle the invalid data: skip the line, use a default, etc.\n",
        "                    # For this example, we'll skip the rest of the items on this line for summation.\n",
        "                    numbers = [] # Clear numbers for this line if any invalid data is found\n",
        "                    break # Exit the inner loop\n",
        "            if numbers: # Only process if there are valid numbers\n",
        "                output_file.write(f\"{sum(numbers)}\\n\")\n",
        "except FileNotFoundError:\n",
        "    print(\"Input file not found.\")\n",
        "except PermissionError:\n",
        "    print(\"Permission denied to access file.\")\n",
        "# A general except might still be useful for unexpected errors, but specific exceptions are preferred.\n",
        "# except Exception as e:\n",
        "#     print(f\"An unexpected error occurred: {e}\")\n",
        "finally:\n",
        "    print(\"Finished processing file.\")"
      ]
    },
    {
      "cell_type": "markdown",
      "metadata": {
        "id": "jxDJe8eimPmY"
      },
      "source": [
        "---\n",
        "# Best Practices and Debugging\n",
        "\n",
        "## Code Style Guidelines (PEP 8)\n",
        "\n",
        "Python has official style guidelines that make code more readable and maintainable:\n",
        "\n",
        "### Variable and Function Naming\n",
        "- Use lowercase with underscores for variables and functions: `my_variable`, `calculate_sum()`\n",
        "- Use descriptive names: `student_count` instead of `n`\n",
        "- Constants should be UPPERCASE: `MAX_SIZE = 100`\n",
        "\n",
        "### Import Organization\n",
        "- Standard library imports first\n",
        "- Third-party imports second  \n",
        "- Local application imports last\n",
        "- Separate each group with a blank line\n",
        "\n",
        "## Debugging Techniques\n",
        "\n",
        "### Using Print Statements Effectively"
      ]
    },
    {
      "cell_type": "code",
      "execution_count": null,
      "metadata": {
        "id": "X6UBn3iMmPmY"
      },
      "outputs": [],
      "source": [
        "# Good debugging practice - add context to print statements\n",
        "def calculate_average(numbers):\n",
        "    print(f\"Input numbers: {numbers}\")  # Show what we're working with\n",
        "    total = sum(numbers)\n",
        "    print(f\"Total sum: {total}\")        # Show intermediate calculation\n",
        "    count = len(numbers)\n",
        "    print(f\"Count: {count}\")            # Show another intermediate value\n",
        "    average = total / count\n",
        "    print(f\"Calculated average: {average}\")  # Show final result\n",
        "    return average\n",
        "\n",
        "# Example usage\n",
        "test_numbers = [10, 20, 30, 40, 50]\n",
        "result = calculate_average(test_numbers)\n",
        "print(f\"Final result: {result}\")"
      ]
    },
    {
      "cell_type": "markdown",
      "metadata": {
        "id": "yIzdVu5FmPmY"
      },
      "source": [
        "## Common Programming Patterns\n",
        "\n",
        "### Input Validation\n",
        "Always validate user input to prevent errors:\n",
        "\n",
        "```python\n",
        "def get_positive_number():\n",
        "    while True:\n",
        "        try:\n",
        "            value = float(input(\"Enter a positive number: \"))\n",
        "            if value > 0:\n",
        "                return value\n",
        "            else:\n",
        "                print(\"Please enter a positive number.\")\n",
        "        except ValueError:\n",
        "            print(\"Please enter a valid number.\")\n",
        "```\n",
        "\n",
        "### Working with Files Safely\n",
        "Always use context managers when working with files:"
      ]
    },
    {
      "cell_type": "code",
      "execution_count": null,
      "metadata": {
        "id": "iuOhvH16mPmZ"
      },
      "outputs": [],
      "source": [
        "# Safe file handling pattern\n",
        "def read_data_file(filename):\n",
        "    \"\"\"Safely read data from a file with error handling.\"\"\"\n",
        "    try:\n",
        "        with open(filename, 'r') as file:\n",
        "            return file.read().strip()\n",
        "    except FileNotFoundError:\n",
        "        print(f\"Error: File '{filename}' not found\")\n",
        "        return None\n",
        "    except PermissionError:\n",
        "        print(f\"Error: Permission denied to read '{filename}'\")\n",
        "        return None\n",
        "\n",
        "# Example usage\n",
        "data = read_data_file(\"example.txt\")\n",
        "if data:\n",
        "    print(\"Data loaded successfully\")\n",
        "else:\n",
        "    print(\"Failed to load data\")"
      ]
    },
    {
      "cell_type": "markdown",
      "metadata": {
        "id": "evA00SgJmPmZ"
      },
      "source": [
        "### Common Python Mistakes and How to Avoid Them\n",
        "\n",
        "Here are some common pitfalls that beginners encounter:\n",
        "\n",
        "#### 1. Mutable Default Arguments\n",
        "**Don't do this:**\n",
        "```python\n",
        "def add_item(item, target_list=[]):  # BAD: mutable default\n",
        "    target_list.append(item)\n",
        "    return target_list\n",
        "```\n",
        "\n",
        "**Do this instead:**\n",
        "```python\n",
        "def add_item(item, target_list=None):  # GOOD: use None\n",
        "    if target_list is None:\n",
        "        target_list = []\n",
        "    target_list.append(item)\n",
        "    return target_list\n",
        "```\n",
        "\n",
        "#### 2. Understanding Variable References\n",
        "Remember that variables are references to objects, not the objects themselves."
      ]
    },
    {
      "cell_type": "code",
      "execution_count": null,
      "metadata": {
        "id": "OOdHjDQimPmZ"
      },
      "outputs": [],
      "source": [
        "# Example of variable reference issue\n",
        "original_list = [1, 2, 3]\n",
        "copied_list = original_list  # This creates a reference, not a copy\n",
        "copied_list.append(4)\n",
        "print(\"Original:\", original_list)  # Will show [1, 2, 3, 4]\n",
        "print(\"Copied:\", copied_list)      # Will show [1, 2, 3, 4]\n",
        "\n",
        "# Correct way to copy a list\n",
        "original_list = [1, 2, 3]\n",
        "copied_list = original_list.copy()  # or list(original_list)\n",
        "copied_list.append(4)\n",
        "print(\"Original:\", original_list)  # Will show [1, 2, 3]\n",
        "print(\"Copied:\", copied_list)      # Will show [1, 2, 3, 4]"
      ]
    },
    {
      "cell_type": "markdown",
      "metadata": {
        "id": "PHO-UoM_mPmZ"
      },
      "source": [
        "## Modern Python Features\n",
        "\n",
        "### List Comprehensions\n",
        "\n",
        "List comprehensions provide a concise way to create lists. They are more readable and often faster than traditional loops."
      ]
    },
    {
      "cell_type": "code",
      "execution_count": null,
      "metadata": {
        "id": "Gvr3k0rNmPmZ"
      },
      "outputs": [],
      "source": [
        "# Traditional way with loops\n",
        "squares = []\n",
        "for x in range(10):\n",
        "    squares.append(x**2)\n",
        "print(\"Traditional way:\", squares)\n",
        "\n",
        "# List comprehension way (more Pythonic)\n",
        "squares = [x**2 for x in range(10)]\n",
        "print(\"List comprehension:\", squares)\n",
        "\n",
        "# With conditional\n",
        "even_squares = [x**2 for x in range(10) if x % 2 == 0]\n",
        "print(\"Even squares:\", even_squares)\n",
        "\n",
        "# Processing strings\n",
        "words = [\"hello\", \"world\", \"python\", \"programming\"]\n",
        "uppercase_words = [word.upper() for word in words]\n",
        "print(\"Uppercase:\", uppercase_words)\n",
        "\n",
        "# Nested comprehensions (be careful not to overuse)\n",
        "matrix = [[i*j for j in range(3)] for i in range(3)]\n",
        "print(\"Matrix:\", matrix)"
      ]
    },
    {
      "cell_type": "markdown",
      "metadata": {
        "id": "Enh4OVVfmPmZ"
      },
      "source": [
        "---\n",
        "# Summary and Next Steps\n",
        "\n",
        "## What You've Learned\n",
        "\n",
        "Congratulations! You've covered the fundamental concepts of Python programming:\n",
        "\n",
        "### Core Concepts\n",
        "- **Variables and Data Types**: integers, floats, strings, booleans, lists, tuples, dictionaries, sets\n",
        "- **Control Flow**: if/elif/else statements, for and while loops\n",
        "- **Functions**: defining, calling, parameters, return values\n",
        "- **File Handling**: reading from and writing to files safely\n",
        "- **Error Handling**: try/except blocks and exception types\n",
        "- **String Formatting**: f-strings and .format() method\n",
        "- **Modules**: importing and using external code\n",
        "\n",
        "### Best Practices You've Learned\n",
        "- Use meaningful variable names\n",
        "- Follow PEP 8 style guidelines\n",
        "- Handle errors gracefully with try/except\n",
        "- Use context managers (with statements) for files\n",
        "- Add comments to explain complex code\n",
        "- Validate user input\n",
        "- Use list comprehensions for cleaner code\n",
        "\n",
        "## Common Patterns to Remember\n",
        "\n",
        "### Safe File Reading\n",
        "\n",
        "```python\n",
        "try:\n",
        "    with open('filename.txt', 'r') as file:\n",
        "        content = file.read()\n",
        "except FileNotFoundError:\n",
        "    print(\"File not found\")\n",
        "```\n",
        "\n",
        "### Input Validation\n",
        "\n",
        "```python\n",
        "while True:\n",
        "    try:\n",
        "        value = int(input(\"Enter a number: \"))\n",
        "        break\n",
        "    except ValueError:\n",
        "        print(\"Please enter a valid number\")\n",
        "```\n",
        "\n",
        "### Dictionary Operations\n",
        "\n",
        "```python\n",
        "# Safe dictionary access\n",
        "value = my_dict.get('key', 'default_value')\n",
        "```\n",
        "\n",
        "## What's Next?\n",
        "\n",
        "Now that you have the fundamentals, consider exploring:\n",
        "- **Object-Oriented Programming**: classes, objects, inheritance\n",
        "- **Popular Libraries**: numpy, pandas, matplotlib, requests\n",
        "- **Web Development**: flask, django, fastapi\n",
        "- **Data Science**: jupyter notebooks, data analysis workflows\n",
        "- **Testing**: unittest, pytest for code reliability\n",
        "\n",
        "Keep practicing by building small projects that interest you!"
      ]
    },
    {
      "cell_type": "markdown",
      "metadata": {
        "id": "xqeJIoKXmPmZ"
      },
      "source": []
    }
  ],
  "metadata": {
    "colab": {
      "provenance": [],
      "include_colab_link": true
    },
    "kernelspec": {
      "display_name": "Python 3",
      "language": "python",
      "name": "python3"
    },
    "language_info": {
      "codemirror_mode": {
        "name": "ipython",
        "version": 3
      },
      "file_extension": ".py",
      "mimetype": "text/x-python",
      "name": "python",
      "nbconvert_exporter": "python",
      "pygments_lexer": "ipython3",
      "version": "3.7.3"
    }
  },
  "nbformat": 4,
  "nbformat_minor": 0
}