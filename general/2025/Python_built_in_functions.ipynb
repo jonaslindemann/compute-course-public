{
  "cells": [
    {
      "cell_type": "markdown",
      "metadata": {
        "id": "OODwR6sIk555"
      },
      "source": [
        "# Python Built-in Functions and Runtime Library\n",
        "\n",
        "This notebook provides a comprehensive guide to Python's built-in functions and runtime library. You'll learn how to interact with the operating system, manage files and directories, execute external programs, handle logging, and work with various data formats.\n",
        "\n",
        "## Table of Contents\n",
        "\n",
        "1. **System Functions**\n",
        "   - Environment Variables\n",
        "   - System Path Management\n",
        "   - Working Directory Operations\n",
        "   - File and Directory Listing\n",
        "   - Directory Manipulation\n",
        "   - File Information Queries\n",
        "   - Path Management with `os.path` and `pathlib`\n",
        "   - Temporary Files\n",
        "\n",
        "2. **Process Management**\n",
        "   - Executing External Programs\n",
        "   - Subprocess Module\n",
        "   - Process Communication and Control\n",
        "\n",
        "3. **Logging**\n",
        "   - Basic Logging\n",
        "   - Custom Loggers\n",
        "   - Log Formatting\n",
        "\n",
        "4. **Data Serialization**\n",
        "   - JSON Format\n",
        "   - Pickle Format\n",
        "   - Data Persistence Best Practices\n",
        "\n",
        "5. **Data Archiving and Compression**\n",
        "   - TAR Files\n",
        "   - ZIP Files\n",
        "   - Compression Techniques\n",
        "\n",
        "6. **Special File Formats**\n",
        "   - Configuration Files (INI)\n",
        "   - CSV Files\n",
        "   - Advanced File Processing\n",
        "\n",
        "## Learning Objectives\n",
        "\n",
        "By the end of this notebook, you will be able to:\n",
        "- Interact with the operating system using Python\n",
        "- Manage files and directories programmatically\n",
        "- Execute and control external processes\n",
        "- Implement structured logging in applications\n",
        "- Serialize and deserialize data in various formats\n",
        "- Work with compressed archives and special file formats\n",
        "\n",
        "---"
      ]
    },
    {
      "cell_type": "markdown",
      "metadata": {},
      "source": [
        "# System functions"
      ]
    },
    {
      "cell_type": "markdown",
      "metadata": {
        "id": "WgZp8PEvk558"
      },
      "source": [
        "## Environment variables\n",
        "\n",
        "Environment variables are variables defined in the operating environment. Users can modify these to control behavior of applications and software. In Python the dirctionary os.environ contains these variables."
      ]
    },
    {
      "cell_type": "code",
      "execution_count": null,
      "metadata": {
        "colab": {
          "base_uri": "https://localhost:8080/"
        },
        "id": "gLE-Divnk55-",
        "outputId": "1f3d46c7-7bba-4dfa-ffcb-048786feb143"
      },
      "outputs": [],
      "source": [
        "import os\n",
        "\n",
        "# Safe way to access environment variables with default values\n",
        "print(\"PATH:\", os.environ.get(\"PATH\", \"PATH not found\"))\n",
        "\n",
        "# Display only first few environment variables to avoid cluttering output\n",
        "print(\"\\nFirst 5 environment variables:\")\n",
        "for i, (variable, value) in enumerate(os.environ.items()):\n",
        "    if i < 5:\n",
        "        print(f\"{variable} = {value[:50]}{'...' if len(value) > 50 else ''}\")\n",
        "    else:\n",
        "        break\n",
        "\n",
        "print(f\"\\nTotal environment variables: {len(os.environ)}\")\n",
        "\n",
        "# Setting and getting custom environment variables\n",
        "os.environ[\"PYTHON_COURSE_DEMO\"] = \"Hello from Python!\"\n",
        "print(f\"\\nCustom variable: {os.environ.get('PYTHON_COURSE_DEMO')}\")\n",
        "\n",
        "# Best practice: Check if variable exists before accessing\n",
        "if \"HOME\" in os.environ:\n",
        "    print(f\"Home directory: {os.environ['HOME']}\")\n",
        "elif \"USERPROFILE\" in os.environ:  # Windows equivalent\n",
        "    print(f\"User profile: {os.environ['USERPROFILE']}\")\n",
        "else:\n",
        "    print(\"Home directory not found in environment variables\")"
      ]
    },
    {
      "cell_type": "markdown",
      "metadata": {
        "id": "Gy2lZ_fik56J"
      },
      "source": [
        "## Accessing the system path\n",
        "\n",
        "The system path controls how the operating system searches for executables in the file system. Python has a neutral way of querying these from the system."
      ]
    },
    {
      "cell_type": "code",
      "execution_count": null,
      "metadata": {
        "colab": {
          "base_uri": "https://localhost:8080/"
        },
        "id": "Fq1uC5Csk56L",
        "outputId": "1b6eb111-7ccd-43b1-ef80-8783ed1e2092"
      },
      "outputs": [],
      "source": [
        "import os\n",
        "\n",
        "exe_path_list = os.get_exec_path()\n",
        "\n",
        "for path in exe_path_list:\n",
        "    print(path)"
      ]
    },
    {
      "cell_type": "markdown",
      "metadata": {
        "id": "Flytb4lfk56Q"
      },
      "source": [
        "## Changing and querying the working directory\n",
        "\n",
        "The working directory is the directory where your application is started. Python has functions for changing and querying the working directory."
      ]
    },
    {
      "cell_type": "code",
      "execution_count": null,
      "metadata": {
        "colab": {
          "base_uri": "https://localhost:8080/"
        },
        "id": "TvvVK01Fk56a",
        "outputId": "29d2565e-5644-4afb-928f-407ab4928ea2"
      },
      "outputs": [],
      "source": [
        "import os\n",
        "\n",
        "cwd = os.getcwd()\n",
        "print(cwd)\n",
        "\n",
        "os.chdir(\"..\")\n",
        "print(os.getcwd())\n",
        "os.chdir(cwd)\n",
        "print(os.getcwd())"
      ]
    },
    {
      "cell_type": "markdown",
      "metadata": {
        "id": "6nM_Xp8xk56e"
      },
      "source": [
        "## Listing files in a directory\n",
        "\n",
        "For many applications it can be important to query what files and directories are available. The os.listdir() function implements this in Python."
      ]
    },
    {
      "cell_type": "code",
      "execution_count": null,
      "metadata": {
        "id": "AzDd_3FHGQPh"
      },
      "outputs": [],
      "source": [
        "# Create a test file using Python (cross-platform)\n",
        "with open(\"testfile\", \"w\") as f:\n",
        "    f.write(\"This is a test file created by Python\")"
      ]
    },
    {
      "cell_type": "code",
      "execution_count": null,
      "metadata": {
        "colab": {
          "base_uri": "https://localhost:8080/"
        },
        "id": "ujHpvBdyk56g",
        "outputId": "cd3f2fa8-5930-483c-dfc1-7b9d46e416a7"
      },
      "outputs": [],
      "source": [
        "import os\n",
        "\n",
        "for item in os.listdir():\n",
        "    print(item)\n",
        "\n",
        "for item in os.listdir():\n",
        "    if os.path.isdir(item):\n",
        "        print(\"Katalog:\", item)\n",
        "    if os.path.isfile(item):\n",
        "        print(\"Fil    :\", item)"
      ]
    },
    {
      "cell_type": "markdown",
      "metadata": {
        "id": "QW2guNh1k56k"
      },
      "source": [
        "## Directory manipulation\n",
        "\n",
        "Python also has a lot of functions for creating and manipulating directories."
      ]
    },
    {
      "cell_type": "code",
      "execution_count": null,
      "metadata": {
        "colab": {
          "base_uri": "https://localhost:8080/"
        },
        "id": "CvxAe9ujk56n",
        "outputId": "718904ef-98fe-4f3e-b304-40943ea914b3"
      },
      "outputs": [],
      "source": [
        "import os\n",
        "from pathlib import Path\n",
        "\n",
        "# Store current directory for cleanup\n",
        "cwd = os.getcwd()\n",
        "\n",
        "try:\n",
        "    # Create directory if it doesn't exist\n",
        "    test_dir = Path(\"demo_directory\")\n",
        "    test_dir.mkdir(exist_ok=True)\n",
        "    \n",
        "    # Change to the new directory\n",
        "    os.chdir(test_dir)\n",
        "    print(f\"Changed to: {os.getcwd()}\")\n",
        "    \n",
        "    # Create subdirectory and file\n",
        "    subdir = Path(\"testdir\")\n",
        "    subdir.mkdir(exist_ok=True)\n",
        "    \n",
        "    test_file = Path(\"testfile.txt\")\n",
        "    test_file.write_text(\"This is test content\")\n",
        "    \n",
        "    print(\"Directory contents after creation:\")\n",
        "    for item in os.listdir():\n",
        "        item_path = Path(item)\n",
        "        if item_path.is_dir():\n",
        "            print(f\"  📁 Directory: {item}\")\n",
        "        else:\n",
        "            print(f\"  📄 File: {item} ({item_path.stat().st_size} bytes)\")\n",
        "    \n",
        "    # Rename the file\n",
        "    new_name = Path(\"renamed_testfile.txt\")\n",
        "    test_file.rename(new_name)\n",
        "    \n",
        "    print(\"\\nDirectory contents after rename:\")\n",
        "    for item in os.listdir():\n",
        "        print(f\"  {item}\")\n",
        "    \n",
        "    # Cleanup\n",
        "    new_name.unlink()  # Remove file\n",
        "    subdir.rmdir()     # Remove empty directory\n",
        "    \n",
        "    print(\"\\nDirectory contents after cleanup:\")\n",
        "    print(f\"  Items remaining: {len(os.listdir())}\")\n",
        "    \n",
        "finally:\n",
        "    # Always return to original directory\n",
        "    os.chdir(cwd)\n",
        "    # Remove the demo directory if empty\n",
        "    try:\n",
        "        test_dir.rmdir()\n",
        "        print(\"Demo directory removed\")\n",
        "    except OSError as e:\n",
        "        print(f\"Could not remove demo directory: {e}\")"
      ]
    },
    {
      "cell_type": "markdown",
      "metadata": {
        "id": "c9Hr8du2k56s"
      },
      "source": [
        "## Listing and querying file information\n",
        "\n",
        "The os.scandir() function can be used to query more detailed information on the a file or directory."
      ]
    },
    {
      "cell_type": "code",
      "execution_count": null,
      "metadata": {
        "colab": {
          "base_uri": "https://localhost:8080/"
        },
        "id": "YSP78KjBk56t",
        "outputId": "2e2692f4-1218-44cc-8402-de2c4e50173f"
      },
      "outputs": [],
      "source": [
        "import os\n",
        "\n",
        "with os.scandir() as items:\n",
        "    for entry in items:\n",
        "        print(\"------------------------\")\n",
        "        print(\"name\", entry.name)\n",
        "        print(\"path\", entry.path)\n",
        "        print(\"is_dir\", entry.is_dir())\n",
        "        print(\"is_file\", entry.is_file())"
      ]
    },
    {
      "cell_type": "markdown",
      "metadata": {
        "id": "VMFpNgc4k56y"
      },
      "source": [
        "## Walking directories with os.walk()\n",
        "\n",
        "The os.walk() function enables you to traverse directories as an iteration using the for-statement."
      ]
    },
    {
      "cell_type": "code",
      "execution_count": null,
      "metadata": {
        "colab": {
          "base_uri": "https://localhost:8080/"
        },
        "id": "GDVZkfB-k560",
        "outputId": "908c110c-88db-4882-dd48-ec836694d23a"
      },
      "outputs": [],
      "source": [
        "import os\n",
        "\n",
        "for root, dirs, files in os.walk(\".\"):\n",
        "    print(\"--->\")\n",
        "    print(root)\n",
        "    print(dirs)\n",
        "    print(files)\n",
        "    print(\"<---\")"
      ]
    },
    {
      "cell_type": "markdown",
      "metadata": {
        "id": "16u6Vtmzk566"
      },
      "source": [
        "## Querying file information\n",
        "\n",
        "On Unix-based platform the os.stat() function can return detailed information on files and directories."
      ]
    },
    {
      "cell_type": "code",
      "execution_count": null,
      "metadata": {
        "colab": {
          "base_uri": "https://localhost:8080/"
        },
        "id": "0fBG_b4kk567",
        "outputId": "7e80d6d5-3d37-4a73-c873-a90c486068be"
      },
      "outputs": [],
      "source": [
        "import os\n",
        "\n",
        "with open(\"testfile\", \"w\") as f:\n",
        "    f.write(\"testfile\")\n",
        "\n",
        "os.mkdir(\"testdir2\")\n",
        "\n",
        "statinfo_file = os.stat(\"testfile\")\n",
        "statinfo_dir = os.stat(\"testdir2\")\n",
        "\n",
        "print(statinfo_file)\n",
        "print(statinfo_dir)\n",
        "print(statinfo_file.st_size)"
      ]
    },
    {
      "cell_type": "markdown",
      "metadata": {
        "id": "g4xHhx2tk57A"
      },
      "source": [
        "## Path information\n",
        "\n",
        "The os.path module contains even more functions for querying path and file information."
      ]
    },
    {
      "cell_type": "code",
      "execution_count": null,
      "metadata": {
        "colab": {
          "base_uri": "https://localhost:8080/"
        },
        "id": "autiiqIBk57C",
        "outputId": "a4bfbd4b-b0ce-47db-bee2-16d6cc660cc5"
      },
      "outputs": [],
      "source": [
        "import os\n",
        "\n",
        "print(os.path.abspath('.'))\n",
        "print(os.path.basename('/home/user/test.txt'))\n",
        "print(os.path.dirname('/home/user/test.txt'))\n",
        "\n",
        "with open(\"testfile_path\", \"w\") as f:\n",
        "    f.write(\"testfile\")\n",
        "\n",
        "if os.path.exists('/home/user/test.txt'):\n",
        "    print('test.txt is valid')\n",
        "else:\n",
        "    print('test.txt is not valid')\n",
        "\n",
        "print(os.path.expanduser('~'))\n",
        "\n",
        "print(os.path.getatime('testfile_path'))\n",
        "print(os.path.getmtime('testfile_path'))\n",
        "print(os.path.getctime('testfile_path'))\n",
        "\n",
        "print(os.path.getsize('testfile_path'))\n",
        "\n",
        "if os.path.isabs('testfile_path'):\n",
        "    print('Absolute path')\n",
        "else:\n",
        "    print('No absolute path')\n",
        "\n",
        "if os.path.isabs(\"C:/Users/jonas/Development/python_book/examples/rtl/ospath1.py\"):\n",
        "    print('Absolute path')\n",
        "else:\n",
        "    print('No absolute path')\n",
        "\n",
        "if os.path.isfile('testfile_path'):\n",
        "    print('ospath1.py is a file')\n",
        "else:\n",
        "    print('ospath1.py is not a file')\n",
        "\n",
        "if os.path.isdir('testfile_path'):\n",
        "    print('ospath1.py is a directory')\n",
        "else:\n",
        "    print('ospath1.py is not a directory')\n",
        "\n",
        "dir_name = 'c:\\\\Users\\\\jonas'\n",
        "file_name = 'test.txt'\n",
        "\n",
        "file_path = os.path.join(dir_name, file_name)\n",
        "\n",
        "print(file_path)\n",
        "print(os.path.split(file_path))\n",
        "dir_name, file_name = os.path.split(file_path)\n",
        "print(dir_name)\n",
        "print(file_name)\n",
        "print(os.path.splitdrive(file_path))\n",
        "print(os.path.splitext(file_path))"
      ]
    },
    {
      "cell_type": "markdown",
      "metadata": {
        "id": "Ujj6QCEak57F"
      },
      "source": [
        "## Path management using pathlib\n",
        "\n",
        "pathlib is a module implementing OO-based file and path management."
      ]
    },
    {
      "cell_type": "code",
      "execution_count": null,
      "metadata": {
        "colab": {
          "base_uri": "https://localhost:8080/"
        },
        "id": "C0UZgHozk57G",
        "outputId": "df37de30-e926-4a10-8f8d-a62c57db3ab9"
      },
      "outputs": [],
      "source": [
        "import pathlib as pl\n",
        "\n",
        "p = pl.Path('/contents')\n",
        "p = p / \"testfile\"\n",
        "print(p)\n",
        "\n",
        "print(p.exists())\n",
        "\n",
        "q = p.resolve()\n",
        "print(q)\n",
        "\n",
        "\n",
        "print(q.parts)\n",
        "print(q.drive)\n",
        "\n",
        "r = pl.Path.cwd()\n",
        "print(r)\n",
        "\n",
        "print(r.exists())\n",
        "print(r.is_dir())\n",
        "print(r.is_file())\n",
        "\n",
        "\n",
        "s = pl.Path.home()\n",
        "print(s)"
      ]
    },
    {
      "cell_type": "markdown",
      "metadata": {
        "id": "r42g0I1Qk57M"
      },
      "source": [
        "## Iterating with pathlib"
      ]
    },
    {
      "cell_type": "code",
      "execution_count": null,
      "metadata": {
        "colab": {
          "base_uri": "https://localhost:8080/"
        },
        "id": "L-1sZQL2k57P",
        "outputId": "a312d0dc-4d6e-44ee-8390-03f53ab938e6"
      },
      "outputs": [],
      "source": [
        "import pathlib as pl\n",
        "\n",
        "p = pl.Path(\".\")\n",
        "\n",
        "for x in p.iterdir():\n",
        "    if x.is_dir():\n",
        "        print(x,'- katalog')\n",
        "    else:\n",
        "        print(x,'- fil')"
      ]
    },
    {
      "cell_type": "markdown",
      "metadata": {
        "id": "mUXxwg5Fk57U"
      },
      "source": [
        "## Changing current path with pathlib"
      ]
    },
    {
      "cell_type": "code",
      "execution_count": null,
      "metadata": {
        "colab": {
          "base_uri": "https://localhost:8080/"
        },
        "id": "Bp6q29C7k57V",
        "outputId": "7575d8e9-4388-4855-f866-719aa1a2f2ed"
      },
      "outputs": [],
      "source": [
        "import os\n",
        "import pathlib as pl\n",
        "\n",
        "p = pl.Path('..')\n",
        "\n",
        "os.chdir(p)\n",
        "\n",
        "q = pl.Path.cwd()\n",
        "print(q)"
      ]
    },
    {
      "cell_type": "code",
      "execution_count": null,
      "metadata": {
        "colab": {
          "base_uri": "https://localhost:8080/"
        },
        "id": "Ig9LvYxMk57Z",
        "outputId": "87fd4aa7-94a4-4294-cfaa-df95c9351ded"
      },
      "outputs": [],
      "source": [
        "import os\n",
        "import pathlib as pl\n",
        "\n",
        "new_path = pl.Path('..')\n",
        "old_path = pl.Path.cwd()\n",
        "\n",
        "os.chdir(new_path)\n",
        "\n",
        "print(pl.Path.cwd())\n",
        "\n",
        "os.chdir(old_path)\n",
        "\n",
        "print(pl.Path.cwd())"
      ]
    },
    {
      "cell_type": "markdown",
      "metadata": {
        "id": "dd0Ju_91k57e"
      },
      "source": [
        "## Temporary files\n",
        "\n",
        "In many applications you need to create temporary files. In Python there are functions for securely creating temporary files."
      ]
    },
    {
      "cell_type": "code",
      "execution_count": null,
      "metadata": {
        "colab": {
          "base_uri": "https://localhost:8080/"
        },
        "id": "lD9ZYJwOk57f",
        "outputId": "9edfbc4b-cc15-44ce-be41-413be4f7c482"
      },
      "outputs": [],
      "source": [
        "import os\n",
        "import tempfile\n",
        "from pathlib import Path\n",
        "\n",
        "# Method 1: Using mkstemp (lower-level, more control)\n",
        "print(\"=== Method 1: Using mkstemp ===\")\n",
        "temp_fd, temp_path = tempfile.mkstemp(suffix='.txt', prefix='python_demo_')\n",
        "\n",
        "try:\n",
        "    print(f'Temporary file created: {temp_path}')\n",
        "    print(f'File exists: {os.path.isfile(temp_path)}')\n",
        "    print(f'File permissions: {oct(os.stat(temp_path).st_mode)[-3:]}')\n",
        "    \n",
        "    # Write to the temporary file using the file descriptor\n",
        "    with os.fdopen(temp_fd, 'w+t') as temp_file:\n",
        "        temp_file.write('This is written to the temporary file\\n')\n",
        "        temp_file.write('Line 2 of content\\n')\n",
        "        \n",
        "        # Read back the content\n",
        "        temp_file.seek(0)\n",
        "        content = temp_file.read()\n",
        "        print(f'File content:\\n{content}')\n",
        "        \n",
        "finally:\n",
        "    # Important: Always clean up temporary files\n",
        "    if os.path.exists(temp_path):\n",
        "        os.remove(temp_path)\n",
        "        print(f'Temporary file cleaned up: {not os.path.exists(temp_path)}')\n",
        "\n",
        "print(\"\\n=== Method 2: Using TemporaryFile (recommended) ===\")\n",
        "# Method 2: Using TemporaryFile (automatically cleaned up)\n",
        "with tempfile.TemporaryFile(mode='w+t', suffix='.txt') as temp_file:\n",
        "    temp_file.write('This content will be automatically cleaned up\\n')\n",
        "    temp_file.write('No manual cleanup required!\\n')\n",
        "    \n",
        "    # Read back\n",
        "    temp_file.seek(0)\n",
        "    content = temp_file.read()\n",
        "    print(f'Content: {content.strip()}')\n",
        "    \n",
        "    # File is automatically deleted when exiting the with block\n",
        "\n",
        "print(\"\\n=== Method 3: Using NamedTemporaryFile ===\")\n",
        "# Method 3: NamedTemporaryFile (has a name but still auto-cleaned)\n",
        "with tempfile.NamedTemporaryFile(mode='w+t', suffix='.txt', delete=True) as temp_file:\n",
        "    print(f'Named temporary file: {temp_file.name}')\n",
        "    temp_file.write('Named temporary file content\\n')\n",
        "    temp_file.flush()  # Ensure content is written\n",
        "    \n",
        "    # You can access the file by name while it's open\n",
        "    print(f'File size: {Path(temp_file.name).stat().st_size} bytes')\n",
        "\n",
        "print(\"\\n=== Temporary Directory ===\")\n",
        "# Bonus: Temporary directories\n",
        "with tempfile.TemporaryDirectory(prefix='python_demo_') as temp_dir:\n",
        "    print(f'Temporary directory: {temp_dir}')\n",
        "    \n",
        "    # Create files in the temporary directory\n",
        "    temp_file_path = Path(temp_dir) / 'example.txt'\n",
        "    temp_file_path.write_text('File in temporary directory')\n",
        "    \n",
        "    print(f'Files in temp dir: {list(Path(temp_dir).iterdir())}')\n",
        "    # Directory and all contents automatically cleaned up"
      ]
    },
    {
      "cell_type": "code",
      "execution_count": null,
      "metadata": {
        "colab": {
          "base_uri": "https://localhost:8080/"
        },
        "id": "uKsauPKIk57j",
        "outputId": "34ecd5c0-e176-42c0-ecef-62eae175e057"
      },
      "outputs": [],
      "source": [
        "import os, tempfile\n",
        "\n",
        "with tempfile.TemporaryFile() as temp_file:\n",
        "    print('Temporär fil', temp_file.name, 'skapad.')\n",
        "    print(os.path.isfile(temp_file.name))\n",
        "    temp_file.write(b'this is written to the temp file')\n",
        "    temp_file.seek(0)\n",
        "\n",
        "print(os.path.isfile(temp_file.name))"
      ]
    },
    {
      "cell_type": "code",
      "execution_count": null,
      "metadata": {
        "id": "MjH_wHkxiEN9"
      },
      "outputs": [],
      "source": [
        "result = os.system('ls -la')"
      ]
    },
    {
      "cell_type": "markdown",
      "metadata": {
        "id": "8iG2tOqZk57n"
      },
      "source": [
        "# Process management"
      ]
    },
    {
      "cell_type": "markdown",
      "metadata": {
        "id": "bFALBpiok57o"
      },
      "source": [
        "## Starting program using the subprocess module\n",
        "\n",
        "In many cases there is a need for a Python script to execute other applications and scripts. Python implements a multitude of functions for executing processes. Most of them are implemented in the subprocess module."
      ]
    },
    {
      "cell_type": "code",
      "execution_count": null,
      "metadata": {
        "colab": {
          "base_uri": "https://localhost:8080/"
        },
        "id": "aX1lQm9dk57r",
        "outputId": "b0fe5a66-209a-4098-8073-9ac6772e1b89"
      },
      "outputs": [],
      "source": [
        "import subprocess\n",
        "import sys\n",
        "import platform\n",
        "\n",
        "# Cross-platform directory listing command\n",
        "if platform.system() == \"Windows\":\n",
        "    cmd = ['dir']\n",
        "    shell_needed = True\n",
        "else:\n",
        "    cmd = ['ls', '-la']\n",
        "    shell_needed = False\n",
        "\n",
        "print(f\"Running on: {platform.system()}\")\n",
        "print(f\"Command: {' '.join(cmd) if not shell_needed else cmd[0]}\")\n",
        "\n",
        "try:\n",
        "    # Using subprocess.run() - the recommended modern approach\n",
        "    result = subprocess.run(\n",
        "        cmd, \n",
        "        shell=shell_needed,\n",
        "        capture_output=True,  # Capture both stdout and stderr\n",
        "        text=True,           # Return strings instead of bytes\n",
        "        timeout=10           # Prevent hanging\n",
        "    )\n",
        "    \n",
        "    print(f\"Return code: {result.returncode}\")\n",
        "    \n",
        "    if result.returncode == 0:\n",
        "        print(\"✅ Process completed successfully\")\n",
        "        print(f\"Output:\\n{result.stdout}\")\n",
        "    else:\n",
        "        print(\"❌ Process failed\")\n",
        "        print(f\"Error output:\\n{result.stderr}\")\n",
        "        \n",
        "except subprocess.TimeoutExpired:\n",
        "    print(\"❌ Process timed out\")\n",
        "except subprocess.SubprocessError as e:\n",
        "    print(f\"❌ Subprocess error: {e}\")\n",
        "except Exception as e:\n",
        "    print(f\"❌ Unexpected error: {e}\")\n",
        "\n",
        "# Demonstrate with Python command (cross-platform)\n",
        "print(\"\\n\" + \"=\"*50)\n",
        "print(\"Running Python version check:\")\n",
        "\n",
        "try:\n",
        "    result = subprocess.run(\n",
        "        [sys.executable, '--version'],\n",
        "        capture_output=True,\n",
        "        text=True,\n",
        "        timeout=5\n",
        "    )\n",
        "    \n",
        "    if result.returncode == 0:\n",
        "        print(f\"✅ {result.stdout.strip()}\")\n",
        "    else:\n",
        "        print(f\"❌ Failed: {result.stderr}\")\n",
        "        \n",
        "except Exception as e:\n",
        "    print(f\"❌ Error checking Python version: {e}\")"
      ]
    },
    {
      "cell_type": "code",
      "execution_count": null,
      "metadata": {
        "colab": {
          "base_uri": "https://localhost:8080/"
        },
        "id": "FvE7HCjpk57v",
        "outputId": "d9e9c593-4fae-43be-fe85-ea2e1fdee97b"
      },
      "outputs": [],
      "source": [
        "import subprocess\n",
        "\n",
        "result = subprocess.run('ls -la', shell=True, stdout=subprocess.PIPE, universal_newlines=True)\n",
        "\n",
        "if result.returncode == 0:\n",
        "    print('Processen returnerade 0')\n",
        "    print('Utdata:')\n",
        "    print(result.stdout)\n",
        "else:\n",
        "    print('Processen returnerade felkoden = ', result.returncode)"
      ]
    },
    {
      "cell_type": "code",
      "execution_count": null,
      "metadata": {
        "colab": {
          "base_uri": "https://localhost:8080/"
        },
        "id": "l5bAo28Pk57z",
        "outputId": "5ef11437-d261-48ca-91c8-2581b505b049"
      },
      "outputs": [],
      "source": [
        "import subprocess\n",
        "\n",
        "p = subprocess.Popen(['ls', '-la'])\n",
        "\n",
        "# Other processing here...\n",
        "\n",
        "p.wait()\n",
        "\n",
        "if p.returncode == 0:\n",
        "    print('Processen returnerade 0')\n",
        "else:\n",
        "    print('Processen returnerade felkoden = ', p.returncode)"
      ]
    },
    {
      "cell_type": "code",
      "execution_count": null,
      "metadata": {
        "colab": {
          "base_uri": "https://localhost:8080/"
        },
        "id": "w6x0QlC3k573",
        "outputId": "b5b40a94-29a1-4c59-c326-769ee7307358"
      },
      "outputs": [],
      "source": [
        "import subprocess, time\n",
        "\n",
        "p = subprocess.Popen(['sleep', '5'])\n",
        "\n",
        "while p.poll() is None:\n",
        "    print('Väntar...')\n",
        "    time.sleep(1)\n",
        "\n",
        "if p.returncode == 0:\n",
        "    print('Processen returnerade 0')\n",
        "else:\n",
        "    print('Processen returnerade felkoden = ', p.returncode)"
      ]
    },
    {
      "cell_type": "code",
      "execution_count": null,
      "metadata": {
        "colab": {
          "base_uri": "https://localhost:8080/"
        },
        "id": "xK6nTacsk577",
        "outputId": "5c78ee37-e869-430c-ada0-eb54ca939225"
      },
      "outputs": [],
      "source": [
        "import subprocess, time\n",
        "\n",
        "p = subprocess.Popen('ls -la; sleep 4', shell=True, stdout=subprocess.PIPE, stderr=subprocess.PIPE, universal_newlines=True)\n",
        "\n",
        "while p.poll() is None:\n",
        "    print('Väntar...')\n",
        "    time.sleep(1)\n",
        "\n",
        "stdout, stderr = p.communicate()\n",
        "\n",
        "if p.returncode == 0:\n",
        "    print('Processen returnerade 0')\n",
        "    print('standard output:')\n",
        "    print(stdout)\n",
        "    print('standard error:')\n",
        "    print(stderr)\n",
        "else:\n",
        "    print('Processen returnerade felkoden = ', p.returncode)"
      ]
    },
    {
      "cell_type": "code",
      "execution_count": null,
      "metadata": {
        "colab": {
          "base_uri": "https://localhost:8080/"
        },
        "id": "m4wGVh7ck579",
        "outputId": "9951e577-2625-451f-af3f-5fbf1d804ba1"
      },
      "outputs": [],
      "source": [
        "import subprocess\n",
        "\n",
        "with subprocess.Popen('ls -la', shell=True, stdout=subprocess.PIPE, stderr=subprocess.PIPE, universal_newlines=True) as p:\n",
        "    stdout, stderr = p.communicate()\n",
        "\n",
        "    if p.returncode == 0:\n",
        "        print('Processen returnerade 0')\n",
        "        print('standard output:')\n",
        "        print(stdout)\n",
        "        print('standard error:')\n",
        "        print(stderr)\n",
        "    else:\n",
        "        print('Processen returnerade felkoden = ', p.returncode)"
      ]
    },
    {
      "cell_type": "code",
      "execution_count": null,
      "metadata": {
        "colab": {
          "base_uri": "https://localhost:8080/"
        },
        "id": "nLRZk2Spk58C",
        "outputId": "330951af-72e1-4695-83d2-2940ade65ee1"
      },
      "outputs": [],
      "source": [
        "import subprocess\n",
        "\n",
        "\n",
        "def execute_with_output(cmd):\n",
        "\n",
        "    with subprocess.Popen(cmd, shell=True, stdout=subprocess.PIPE, universal_newlines=True) as p:\n",
        "        stdout, _ = p.communicate()\n",
        "\n",
        "        if p.returncode == 0:\n",
        "            return stdout\n",
        "        else:\n",
        "            return None\n",
        "\n",
        "\n",
        "if __name__ == \"__main__\":\n",
        "\n",
        "    output = execute_with_output('ls')\n",
        "\n",
        "    if output is not None:\n",
        "\n",
        "        lines = output.split(\"\\n\")\n",
        "\n",
        "        for line in lines:\n",
        "            print('>' + line)\n",
        "    else:\n",
        "        print('Ingen utdata returnerades.')"
      ]
    },
    {
      "cell_type": "markdown",
      "metadata": {
        "id": "mf-M4LOnk58G"
      },
      "source": [
        "# Logging\n",
        "\n",
        "For larger applications there is often a need to create log entries in a more structured way. The logging module in Python implements this functionality."
      ]
    },
    {
      "cell_type": "code",
      "execution_count": null,
      "metadata": {
        "colab": {
          "base_uri": "https://localhost:8080/"
        },
        "id": "jh42Byxok58G",
        "outputId": "66ffd6ec-24ef-4208-a6bc-e865d1131a5b"
      },
      "outputs": [],
      "source": [
        "import logging\n",
        "import sys\n",
        "from datetime import datetime\n",
        "\n",
        "# Configure logging with a better format\n",
        "logging.basicConfig(\n",
        "    level=logging.INFO,\n",
        "    format='%(asctime)s | %(levelname)-8s | %(name)s | %(message)s',\n",
        "    datefmt='%Y-%m-%d %H:%M:%S'\n",
        ")\n",
        "\n",
        "def simulate_application_workflow():\n",
        "    \"\"\"Simulate a real application with different logging scenarios\"\"\"\n",
        "    logger = logging.getLogger('MyApplication')\n",
        "    \n",
        "    logger.info(\"🚀 Application starting...\")\n",
        "    \n",
        "    # Simulate processing some data\n",
        "    try:\n",
        "        logger.debug(\"Processing user data...\")\n",
        "        \n",
        "        # Simulate different scenarios\n",
        "        users = ['alice', 'bob', 'charlie']\n",
        "        \n",
        "        for user in users:\n",
        "            logger.info(f\"Processing user: {user}\")\n",
        "            \n",
        "            if user == 'charlie':\n",
        "                logger.warning(f\"⚠️  User {user} has incomplete profile\")\n",
        "            \n",
        "        logger.info(\"✅ All users processed successfully\")\n",
        "        \n",
        "    except Exception as e:\n",
        "        logger.error(f\"❌ Error processing users: {e}\")\n",
        "        logger.exception(\"Full traceback:\")  # This includes the stack trace\n",
        "    \n",
        "    logger.info(\"🏁 Application workflow completed\")\n",
        "\n",
        "print(\"=== Logging with different levels ===\")\n",
        "\n",
        "# Test different logging levels\n",
        "print(\"\\n1. INFO level and above:\")\n",
        "logging.getLogger().setLevel(logging.INFO)\n",
        "simulate_application_workflow()\n",
        "\n",
        "print(\"\\n2. WARNING level and above:\")\n",
        "logging.getLogger().setLevel(logging.WARNING)\n",
        "simulate_application_workflow()\n",
        "\n",
        "print(\"\\n3. ERROR level only:\")\n",
        "logging.getLogger().setLevel(logging.ERROR)\n",
        "simulate_application_workflow()\n",
        "\n",
        "# Reset to INFO for subsequent examples\n",
        "logging.getLogger().setLevel(logging.INFO)"
      ]
    },
    {
      "cell_type": "code",
      "execution_count": null,
      "metadata": {
        "id": "aZZGqxF_k58L"
      },
      "outputs": [],
      "source": [
        "import logging\n",
        "\n",
        "def do_some_logging2(logger):\n",
        "    logger.debug(\"Detta är ett testmeddelande...\")\n",
        "    logger.info(\"Detta är ett informationsmeddelande...\")\n",
        "    logger.warning(\"Detta är en varning...\")\n",
        "    logger.error(\"Detta är ett felmeddelande...\")\n",
        "    logger.critical(\"Detta är ett kritiskt fel...\")\n",
        "    logger.critical(\"-----------------------------\")\n",
        "\n",
        "\n",
        "mylog = logging.getLogger(\"mylog\")\n",
        "mylog.setLevel(logging.DEBUG)\n",
        "\n",
        "do_some_logging2(mylog)\n",
        "\n",
        "print(\"Loglevel ERROR\")\n",
        "\n",
        "mylog.setLevel(logging.ERROR)\n",
        "\n",
        "do_some_logging2(mylog)"
      ]
    },
    {
      "cell_type": "code",
      "execution_count": null,
      "metadata": {
        "colab": {
          "base_uri": "https://localhost:8080/"
        },
        "id": "xfV1cWWak58O",
        "outputId": "61379f4e-4d93-4ddf-c348-4871eacf8e78"
      },
      "outputs": [],
      "source": [
        "import logging\n",
        "\n",
        "def do_some_logging(logger):\n",
        "    logger.debug(\"Detta är ett testmeddelande...\")\n",
        "    logger.info(\"Detta är ett informationsmeddelande...\")\n",
        "    logger.warning(\"Detta är en varning...\")\n",
        "    logger.error(\"Detta är ett felmeddelande...\")\n",
        "    logger.critical(\"Detta är ett kritiskt fel...\")\n",
        "\n",
        "logging.basicConfig(level=logging.DEBUG, format='%(asctime)-15s %(name)-10s %(levelname)-8s %(message)s')\n",
        "\n",
        "mylog = logging.getLogger(\"mylog\")\n",
        "mylog.setLevel(logging.DEBUG)\n",
        "\n",
        "do_some_logging(mylog)"
      ]
    },
    {
      "cell_type": "markdown",
      "metadata": {},
      "source": [
        "# Data serialization and deserialization"
      ]
    },
    {
      "cell_type": "markdown",
      "metadata": {},
      "source": [
        "## Pickle files"
      ]
    },
    {
      "cell_type": "code",
      "execution_count": null,
      "metadata": {},
      "outputs": [],
      "source": [
        "import pickle, zlib\n",
        "\n",
        "my_data = {\"a number\": 42, \"a list\": list(range(1000)), \"a dict\": {'a': 1, 'b': 2}}\n",
        "\n",
        "my_data_dump = pickle.dumps(my_data)\n",
        "print(len(my_data_dump))\n",
        "\n",
        "my_data_compressed = zlib.compress(my_data_dump)\n",
        "print(len(my_data_compressed))\n",
        "\n",
        "my_data_uncompressed = zlib.decompress(my_data_compressed)\n",
        "\n",
        "my_data_copy = pickle.loads(my_data_uncompressed)\n",
        "print(my_data_copy)"
      ]
    },
    {
      "cell_type": "markdown",
      "metadata": {},
      "source": [
        "## Storing data structures using the standard pickle-format\n",
        "\n",
        "The pickle-module is the standard way of storing Python data types in Python. It is used in the same way as the json-module."
      ]
    },
    {
      "cell_type": "code",
      "execution_count": null,
      "metadata": {},
      "outputs": [],
      "source": [
        "import pickle\n",
        "import json\n",
        "import time\n",
        "from pathlib import Path\n",
        "\n",
        "# Create test data of different types\n",
        "test_data = {\n",
        "    \"integers\": list(range(1000)),\n",
        "    \"strings\": [f\"string_{i}\" for i in range(100)],\n",
        "    \"nested_dict\": {\n",
        "        \"level1\": {\n",
        "            \"level2\": {\n",
        "                \"data\": [1, 2, 3, 4, 5] * 50\n",
        "            }\n",
        "        }\n",
        "    },\n",
        "    \"mixed_types\": [1, \"string\", [1, 2, 3], {\"key\": \"value\"}]\n",
        "}\n",
        "\n",
        "print(\"=== Pickle vs JSON Comparison ===\")\n",
        "print(f\"Data complexity: {len(str(test_data))} characters when converted to string\")\n",
        "\n",
        "# Test Pickle\n",
        "print(\"\\n1. PICKLE FORMAT:\")\n",
        "start_time = time.time()\n",
        "\n",
        "# Save with pickle\n",
        "with open(\"test_data.pkl\", \"wb\") as f:\n",
        "    pickle.dump(test_data, f)\n",
        "\n",
        "pickle_save_time = time.time() - start_time\n",
        "pickle_size = Path(\"test_data.pkl\").stat().st_size\n",
        "\n",
        "# Load with pickle\n",
        "start_time = time.time()\n",
        "with open(\"test_data.pkl\", \"rb\") as f:\n",
        "    pickle_loaded = pickle.load(f)\n",
        "pickle_load_time = time.time() - start_time\n",
        "\n",
        "print(f\"  ✅ Save time: {pickle_save_time:.4f} seconds\")\n",
        "print(f\"  ✅ Load time: {pickle_load_time:.4f} seconds\")\n",
        "print(f\"  📦 File size: {pickle_size} bytes\")\n",
        "print(f\"  🔍 Data integrity: {'✅ OK' if pickle_loaded == test_data else '❌ FAILED'}\")\n",
        "\n",
        "# Test JSON (only for JSON-compatible data)\n",
        "json_compatible_data = {\n",
        "    \"integers\": list(range(1000)),\n",
        "    \"strings\": [f\"string_{i}\" for i in range(100)],\n",
        "    \"nested_dict\": {\n",
        "        \"level1\": {\n",
        "            \"level2\": {\n",
        "                \"data\": [1, 2, 3, 4, 5] * 50\n",
        "            }\n",
        "        }\n",
        "    }\n",
        "}\n",
        "\n",
        "print(\"\\n2. JSON FORMAT:\")\n",
        "start_time = time.time()\n",
        "\n",
        "# Save with JSON\n",
        "with open(\"test_data.json\", \"w\") as f:\n",
        "    json.dump(json_compatible_data, f)\n",
        "\n",
        "json_save_time = time.time() - start_time\n",
        "json_size = Path(\"test_data.json\").stat().st_size\n",
        "\n",
        "# Load with JSON\n",
        "start_time = time.time()\n",
        "with open(\"test_data.json\", \"r\") as f:\n",
        "    json_loaded = json.load(f)\n",
        "json_load_time = time.time() - start_time\n",
        "\n",
        "print(f\"  ✅ Save time: {json_save_time:.4f} seconds\")\n",
        "print(f\"  ✅ Load time: {json_load_time:.4f} seconds\")\n",
        "print(f\"  📦 File size: {json_size} bytes\")\n",
        "print(f\"  🔍 Data integrity: {'✅ OK' if json_loaded == json_compatible_data else '❌ FAILED'}\")\n",
        "\n",
        "print(\"\\n=== SUMMARY ===\")\n",
        "print(f\"🏎️  Speed - Save: {'Pickle' if pickle_save_time < json_save_time else 'JSON'} is faster\")\n",
        "print(f\"🏎️  Speed - Load: {'Pickle' if pickle_load_time < json_load_time else 'JSON'} is faster\")\n",
        "print(f\"💾 Size: {'Pickle' if pickle_size < json_size else 'JSON'} produces smaller files\")\n",
        "print(f\"📖 Human readable: JSON ✅ | Pickle ❌\")\n",
        "print(f\"🔧 Python-specific types: Pickle ✅ | JSON ❌\")\n",
        "print(f\"🌐 Cross-language compatibility: JSON ✅ | Pickle ❌\")\n",
        "\n",
        "print(\"\\n=== BEST PRACTICES ===\")\n",
        "print(\"🎯 Use PICKLE when:\")\n",
        "print(\"   • Working exclusively with Python\")\n",
        "print(\"   • Need to preserve exact Python object types\")\n",
        "print(\"   • Performance is critical\")\n",
        "print(\"   • Working with complex Python objects (classes, functions, etc.)\")\n",
        "\n",
        "print(\"\\n🎯 Use JSON when:\")\n",
        "print(\"   • Need human-readable format\")\n",
        "print(\"   • Sharing data with other languages/systems\")\n",
        "print(\"   • Working with web APIs\")\n",
        "print(\"   • Data is relatively simple (dicts, lists, strings, numbers)\")\n",
        "\n",
        "# Cleanup\n",
        "Path(\"test_data.pkl\").unlink(missing_ok=True)\n",
        "Path(\"test_data.json\").unlink(missing_ok=True)"
      ]
    },
    {
      "cell_type": "markdown",
      "metadata": {},
      "source": [
        "## JSON files"
      ]
    },
    {
      "cell_type": "code",
      "execution_count": null,
      "metadata": {},
      "outputs": [],
      "source": [
        "import json\n",
        "\n",
        "my_data = {\"a number\": 42, \"a list\": list(range(1000)), \"a dict\": {'a': 1, 'b': 2}}\n",
        "\n",
        "my_data_dump = json.dumps(my_data)\n",
        "print(len(my_data_dump))\n",
        "\n",
        "my_data_copy = json.loads(my_data_dump)\n",
        "print(my_data_copy)\n",
        "\n",
        "with open(\"mydata.json\", \"w\") as json_file:\n",
        "    json.dump(my_data, json_file)\n",
        "\n",
        "with open(\"mydata.json\", \"r\") as json_file:\n",
        "    my_data_copy = json.load(json_file)"
      ]
    },
    {
      "cell_type": "code",
      "execution_count": null,
      "metadata": {},
      "outputs": [],
      "source": [
        "!ls\n",
        "!cat mydata.json"
      ]
    },
    {
      "cell_type": "markdown",
      "metadata": {},
      "source": [
        "## Storing variables and data structures (JSON)\n",
        "\n",
        "Python has built in functions for writing data types to disk. If readability is important the Javascript Object Notation or JSON can be used as a storage format. In Python this functionality is found in the **json**-module."
      ]
    },
    {
      "cell_type": "code",
      "execution_count": null,
      "metadata": {},
      "outputs": [],
      "source": [
        "import json\n",
        "\n",
        "my_data = {\"a number\": 42, \"a list\": [1, 2, 3, 4], \"a dict\": {'a': 1, 'b': 2}}\n",
        "\n",
        "with open(\"mydata.json\", \"w\") as my_file:\n",
        "    json.dump(my_data, my_file)\n",
        "\n",
        "with open(\"mydata.json\", \"r\") as my_file:\n",
        "    my_data_copy = json.load(my_file)\n",
        "\n",
        "print(my_data_copy)\n",
        "!cat mydata.json"
      ]
    },
    {
      "cell_type": "code",
      "execution_count": null,
      "metadata": {},
      "outputs": [],
      "source": [
        "import json\n",
        "\n",
        "my_data = {\"a number\": 42, \"a list\": [1, 2, 3, 4], \"a dict\": {'a': 1, 'b': 2}}\n",
        "\n",
        "json_string = json.dumps(my_data)\n",
        "\n",
        "print(json_string)\n",
        "\n",
        "my_data_copy = json.loads(json_string)\n",
        "\n",
        "print(my_data_copy)"
      ]
    },
    {
      "cell_type": "code",
      "execution_count": null,
      "metadata": {},
      "outputs": [],
      "source": [
        "import json\n",
        "\n",
        "my_data = {\"a number\": 42, \"a list\": [1, 2, 3, 4], \"a dict\": {'a': 1, 'b': 2}}\n",
        "\n",
        "print(json.dumps(my_data, sort_keys=True, indent=4))"
      ]
    },
    {
      "cell_type": "code",
      "execution_count": null,
      "metadata": {},
      "outputs": [],
      "source": [
        "import pickle\n",
        "\n",
        "my_data = {\"a number\": 42, \"a list\": [1, 2, 3, 4], \"a dict\": {'a': 1, 'b': 2}}\n",
        "\n",
        "with open(\"my_data_text.pkl\", \"wb\") as my_file:\n",
        "    pickle.dump(my_data, my_file, protocol=0)\n",
        "\n",
        "with open(\"my_data_text.pkl\", \"rb\") as my_file:\n",
        "    my_data_copy = pickle.load(my_file)\n",
        "\n",
        "print(my_data_copy)"
      ]
    },
    {
      "cell_type": "code",
      "execution_count": null,
      "metadata": {},
      "outputs": [],
      "source": [
        "import pickle\n",
        "\n",
        "my_data = {\"a number\": 42, \"a list\": [1, 2, 3, 4], \"a dict\": {'a': 1, 'b': 2}}\n",
        "\n",
        "my_data_dump = pickle.dumps(my_data)\n",
        "\n",
        "print(my_data_dump)\n",
        "\n",
        "my_data_copy = pickle.loads(my_data_dump)\n",
        "\n",
        "print(my_data_copy)"
      ]
    },
    {
      "cell_type": "markdown",
      "metadata": {
        "id": "FzYPB-klk58h"
      },
      "source": [
        "# Data archiving and compression"
      ]
    },
    {
      "cell_type": "markdown",
      "metadata": {
        "id": "DNUUS_W4BjSN"
      },
      "source": [
        "## Tarfiles"
      ]
    },
    {
      "cell_type": "code",
      "execution_count": null,
      "metadata": {
        "colab": {
          "base_uri": "https://localhost:8080/"
        },
        "id": "TCEs6g5oTbaR",
        "outputId": "4b30d49b-70c3-4a40-c05c-2ce3ddc9e2fe"
      },
      "outputs": [],
      "source": [
        "!wget https://fossbytes.com/wp-content/uploads/2016/10/commodore64.jpg -O bild1.jpg"
      ]
    },
    {
      "cell_type": "code",
      "execution_count": null,
      "metadata": {
        "colab": {
          "base_uri": "https://localhost:8080/"
        },
        "id": "J99kEJouThob",
        "outputId": "dc44885e-fb4c-45cb-b5cc-a2bdeb85fe92"
      },
      "outputs": [],
      "source": [
        "!wget https://ichef.bbci.co.uk/news/640/media/images/68628000/jpg/_68628283_apple-1.jpg -O bild2.jpg"
      ]
    },
    {
      "cell_type": "code",
      "execution_count": null,
      "metadata": {
        "colab": {
          "base_uri": "https://localhost:8080/"
        },
        "id": "A3ipY6B6k58i",
        "outputId": "4f6b4766-52f7-4882-bfef-8f16f10bd5e1"
      },
      "outputs": [],
      "source": [
        "import tarfile as tf\n",
        "\n",
        "with tf.TarFile(\"myarchive.tar.gz\", \"w\") as mytar:\n",
        "    mytar.add(\"bild1.jpg\")\n",
        "    mytar.add(\"bild2.jpg\")\n",
        "\n",
        "with tf.TarFile(\"myarchive.tar.gz\", \"r\") as mytar:\n",
        "    print(mytar.getnames())\n",
        "    print(mytar.getmembers())\n",
        "    mytar.extract(\"bild1.jpg\", \"mytar\")\n",
        "    mytar.extractall(\"mytar_all\")\n",
        "    mytar.list(verbose=True)"
      ]
    },
    {
      "cell_type": "code",
      "execution_count": null,
      "metadata": {
        "colab": {
          "base_uri": "https://localhost:8080/"
        },
        "id": "ESIUf8mmk58k",
        "outputId": "648c7fb4-2108-432d-f703-f8ba2a79f34e"
      },
      "outputs": [],
      "source": [
        "!ls"
      ]
    },
    {
      "cell_type": "markdown",
      "metadata": {
        "id": "vscAuho1BmPa"
      },
      "source": [
        "## Zip-files"
      ]
    },
    {
      "cell_type": "code",
      "execution_count": null,
      "metadata": {
        "colab": {
          "base_uri": "https://localhost:8080/",
          "height": 431
        },
        "id": "omnYDOank58n",
        "outputId": "d2add62d-f099-4183-f858-85ba040909c0"
      },
      "outputs": [],
      "source": [
        "import zipfile as zf\n",
        "import matplotlib.pyplot as plt\n",
        "\n",
        "with zf.ZipFile(\"myarchive.zip\", \"w\") as myzip:\n",
        "    myzip.write(\"bild1.jpg\")\n",
        "    myzip.write(\"bild2.jpg\")\n",
        "\n",
        "with zf.ZipFile(\"myarchive.zip\", \"r\") as myzip:\n",
        "    print(myzip.namelist())\n",
        "    print(myzip.getinfo(\"bild1.jpg\"))\n",
        "    myzip.extract(\"bild2.jpg\", \"myzip\")\n",
        "    myzip.extractall(\"myzip_all\")\n",
        "    myzip.printdir()\n",
        "    #with myzip.open(\"bild1.jpg\") as myfile:\n",
        "    #    image1 = plt.imread(myfile)\n",
        "    with myzip.open(\"bild2.jpg\") as myfile:\n",
        "        image2 = plt.imread(myfile)\n",
        "    #plt.imshow(image1)\n",
        "    plt.imshow(image2)\n",
        "    plt.show()"
      ]
    },
    {
      "cell_type": "markdown",
      "metadata": {
        "id": "nnsGIpEvk58t"
      },
      "source": [
        "# Special file formats"
      ]
    },
    {
      "cell_type": "markdown",
      "metadata": {
        "id": "uajZWbZ3BVpF"
      },
      "source": [
        "## Configuration files"
      ]
    },
    {
      "cell_type": "code",
      "execution_count": null,
      "metadata": {
        "colab": {
          "base_uri": "https://localhost:8080/"
        },
        "id": "llYMf62dk58v",
        "outputId": "c30d0933-fc66-4f78-ed6b-781bc4d3683d"
      },
      "outputs": [],
      "source": [
        "config_file = \"\"\"[DEFAULT]\n",
        "ServerAliveInterval = 45\n",
        "Compression = yes\n",
        "CompressionLevel = 9\n",
        "ForwardX11 = yes\n",
        "\n",
        "[bitbucket.org]\n",
        "User = hg\n",
        "\n",
        "[topsecret.server.com]\n",
        "Port = 50022\n",
        "ForwardX11 = no\"\"\"\n",
        "\n",
        "\n",
        "with open(\"config1.ini\", \"w\") as f:\n",
        "    f.write(config_file)\n",
        "\n",
        "import configparser\n",
        "\n",
        "config = configparser.ConfigParser()\n",
        "config.read(\"config1.ini\")\n",
        "\n",
        "sections = config.sections()\n",
        "print(sections)\n",
        "\n",
        "print(config[\"bitbucket.org\"][\"user\"])\n",
        "\n",
        "for section in config.sections():\n",
        "    print(\"section =\", section)\n",
        "    keys = config[section].keys()\n",
        "    for key in keys:\n",
        "        print(key, \"=\", config[section][key])\n",
        "\n",
        "config[\"bitbucket.org\"][\"user\"] = \"jonas\"\n",
        "print(config[\"bitbucket.org\"][\"user\"])\n",
        "\n",
        "with open(\"config2.ini\", \"w\") as config_file:\n",
        "    config.write(config_file)"
      ]
    },
    {
      "cell_type": "code",
      "execution_count": null,
      "metadata": {
        "id": "RHVANkg8k58y"
      },
      "outputs": [],
      "source": [
        "\n",
        "import configparser\n",
        "\n",
        "config = configparser.ConfigParser()\n",
        "\n",
        "config[\"DEFAULT\"] = {\n",
        "        \"Rating\":\"No rating\",\n",
        "        \"Length\":\"No length\"\n",
        "        }\n",
        "\n",
        "config[\"Dr Who\"] = {\"Rating\":\"9/9\"}\n",
        "config[\"Firefly\"] = {\"Length\":\"Too long\"}\n",
        "\n",
        "with open(\"config3.ini\", \"w\") as config_file:\n",
        "    config.write(config_file)\n"
      ]
    },
    {
      "cell_type": "code",
      "execution_count": null,
      "metadata": {
        "colab": {
          "base_uri": "https://localhost:8080/"
        },
        "id": "X651E6vVk585",
        "outputId": "f8bcbc59-8581-4b38-fe67-33811ab6235a"
      },
      "outputs": [],
      "source": [
        "!cat config3.ini"
      ]
    },
    {
      "cell_type": "markdown",
      "metadata": {
        "id": "wnfL80ldBdGL"
      },
      "source": [
        "## Comma separated files - CSV"
      ]
    },
    {
      "cell_type": "code",
      "execution_count": null,
      "metadata": {
        "colab": {
          "base_uri": "https://localhost:8080/"
        },
        "id": "6d_kqcMUU48h",
        "outputId": "bd142ba2-2b1e-4d68-bbc6-abc5dd77ba25"
      },
      "outputs": [],
      "source": [
        "!rm example1.csv\n",
        "!wget https://raw.githubusercontent.com/jonaslindemann/guide_to_python/master/chapters/kapitel4/notebook/example1.csv"
      ]
    },
    {
      "cell_type": "code",
      "execution_count": null,
      "metadata": {
        "colab": {
          "base_uri": "https://localhost:8080/"
        },
        "id": "pTg4i19fk589",
        "outputId": "250b061b-11a1-4936-8b0c-a1e719089a66"
      },
      "outputs": [],
      "source": [
        "import csv\n",
        "\n",
        "with open('example1.csv', 'r') as csv_file:\n",
        "    csv_data = csv.reader(csv_file, delimiter=',')\n",
        "    for row in csv_data:\n",
        "        print(row)\n",
        "\n",
        "with open('example2.csv', 'w') as csv_file:\n",
        "    csv_writer = csv.writer(csv_file, delimiter=',')\n",
        "    csv_writer.writerow(['Beteckning', 'Antal'])\n",
        "    csv_writer.writerow(['Gurka', '2'])\n",
        "    csv_writer.writerow(['Tomat', '4'])\n",
        "\n",
        "l = [[\"Beteckning\", \"Antal\"],[\"Gurka\", \"2\"], [\"Tomat\", \"4\"]]\n",
        "\n",
        "with open('example3.csv', 'w') as csv_file:\n",
        "    csv_writer = csv.writer(csv_file, delimiter=',')\n",
        "    csv_writer.writerows(l)"
      ]
    },
    {
      "cell_type": "code",
      "execution_count": null,
      "metadata": {
        "colab": {
          "base_uri": "https://localhost:8080/"
        },
        "id": "ywppH7juExIF",
        "outputId": "91fe5c41-0c83-4f1a-b8bc-ce4e196ef51c"
      },
      "outputs": [],
      "source": [
        "!cat example1.csv"
      ]
    },
    {
      "cell_type": "markdown",
      "metadata": {},
      "source": [
        "# 🎯 Practical Exercises and Challenges\n",
        "\n",
        "Now that you've learned about Python's built-in functions and runtime library, here are some practical exercises to reinforce your understanding:\n",
        "\n",
        "## Exercise 1: System Information Tool 🖥️\n",
        "\n",
        "Create a Python script that gathers and displays system information:\n",
        "\n",
        "**Requirements:**\n",
        "- Display current working directory\n",
        "- Show environment variables (HOME/USERPROFILE, PATH, PYTHONPATH)\n",
        "- List files in current directory with their sizes\n",
        "- Show Python version and executable path\n",
        "- Display disk usage for current directory\n",
        "\n",
        "**Bonus:** Save the information to a JSON file with timestamp."
      ]
    },
    {
      "cell_type": "code",
      "execution_count": null,
      "metadata": {},
      "outputs": [],
      "source": [
        "# Exercise 1 Solution Template\n",
        "import os\n",
        "import sys\n",
        "import json\n",
        "import platform\n",
        "from datetime import datetime\n",
        "from pathlib import Path\n",
        "\n",
        "def create_system_info_tool():\n",
        "    \"\"\"Create a comprehensive system information tool\"\"\"\n",
        "    \n",
        "    system_info = {\n",
        "        \"timestamp\": datetime.now().isoformat(),\n",
        "        \"system\": {\n",
        "            \"platform\": platform.system(),\n",
        "            \"platform_version\": platform.version(),\n",
        "            \"architecture\": platform.architecture()[0],\n",
        "            \"processor\": platform.processor() or \"Unknown\"\n",
        "        },\n",
        "        \"python\": {\n",
        "            \"version\": sys.version,\n",
        "            \"executable\": sys.executable,\n",
        "            \"path\": sys.path[:3]  # First 3 entries to avoid clutter\n",
        "        },\n",
        "        \"directories\": {\n",
        "            \"current_working_directory\": os.getcwd(),\n",
        "            \"home_directory\": os.path.expanduser(\"~\"),\n",
        "            \"temp_directory\": os.path.dirname(tempfile.gettempdir())\n",
        "        },\n",
        "        \"environment\": {\n",
        "            \"PATH\": os.environ.get(\"PATH\", \"Not found\")[:100] + \"...\",  # Truncated\n",
        "            \"PYTHONPATH\": os.environ.get(\"PYTHONPATH\", \"Not set\"),\n",
        "            \"USER\": os.environ.get(\"USER\") or os.environ.get(\"USERNAME\", \"Unknown\")\n",
        "        },\n",
        "        \"current_directory_contents\": []\n",
        "    }\n",
        "    \n",
        "    # TODO: Complete this function\n",
        "    # Add code to:\n",
        "    # 1. List files in current directory with sizes\n",
        "    # 2. Calculate total directory size\n",
        "    # 3. Save to JSON file\n",
        "    \n",
        "    print(\"📊 System Information Tool\")\n",
        "    print(\"=\" * 40)\n",
        "    print(\"🖥️  System:\", system_info[\"system\"][\"platform\"])\n",
        "    print(\"🐍 Python:\", sys.version.split()[0])\n",
        "    print(\"📁 Working Dir:\", system_info[\"directories\"][\"current_working_directory\"])\n",
        "    \n",
        "    return system_info\n",
        "\n",
        "# Run the tool\n",
        "info = create_system_info_tool()\n",
        "\n",
        "# Your task: Complete the implementation!"
      ]
    },
    {
      "cell_type": "markdown",
      "metadata": {},
      "source": [
        "## Exercise 2: Log File Analyzer 📋\n",
        "\n",
        "Create a program that analyzes log files and generates reports:\n",
        "\n",
        "**Requirements:**\n",
        "- Read log files with different severity levels\n",
        "- Count occurrences of each log level\n",
        "- Find the most common error messages\n",
        "- Generate a summary report\n",
        "- Save results in both JSON and CSV formats\n",
        "\n",
        "**Sample log format:**\n",
        "```\n",
        "2025-08-19 10:30:15 | INFO     | User login successful: alice\n",
        "2025-08-19 10:31:22 | WARNING  | Slow query detected: SELECT * FROM users\n",
        "2025-08-19 10:32:45 | ERROR    | Database connection failed\n",
        "```\n",
        "\n",
        "## Exercise 3: Backup Utility 💾\n",
        "\n",
        "Build a simple backup utility:\n",
        "\n",
        "**Requirements:**\n",
        "- Create compressed archives of specified directories\n",
        "- Support both ZIP and TAR formats\n",
        "- Include timestamp in backup filename\n",
        "- Log backup operations\n",
        "- Verify backup integrity after creation\n",
        "- Clean up old backups (keep only last N backups)\n",
        "\n",
        "## Exercise 4: Configuration Manager ⚙️\n",
        "\n",
        "Create a configuration management system:\n",
        "\n",
        "**Requirements:**\n",
        "- Read configuration from INI files\n",
        "- Provide default values for missing settings\n",
        "- Validate configuration values\n",
        "- Support environment variable overrides\n",
        "- Save modified configurations back to file\n",
        "- Support both development and production configs\n",
        "\n",
        "## Challenge: Process Monitor 🔍\n",
        "\n",
        "**Advanced Challenge:** Create a process monitoring tool that:\n",
        "\n",
        "1. Lists running processes (use `subprocess` with system commands)\n",
        "2. Monitors CPU and memory usage\n",
        "3. Logs process information periodically\n",
        "4. Sends alerts when processes exceed thresholds\n",
        "5. Stores historical data in JSON format\n",
        "6. Generates summary reports\n",
        "\n",
        "**Bonus Features:**\n",
        "- Web dashboard using simple HTTP server\n",
        "- Email notifications for critical alerts\n",
        "- Configuration via INI files\n",
        "- Automatic log rotation"
      ]
    },
    {
      "cell_type": "markdown",
      "metadata": {},
      "source": [
        "# 📚 Summary and Best Practices\n",
        "\n",
        "## Key Takeaways\n",
        "\n",
        "### 🏗️ **System Operations**\n",
        "- **Always use try-except blocks** when working with file systems\n",
        "- **Prefer `pathlib.Path`** over `os.path` for modern Python (3.4+)\n",
        "- **Use context managers** (`with` statements) for file operations\n",
        "- **Check for cross-platform compatibility** when using system commands\n",
        "\n",
        "### 🔧 **Process Management**\n",
        "- **Use `subprocess.run()`** for simple command execution\n",
        "- **Always set timeouts** to prevent hanging processes\n",
        "- **Capture both stdout and stderr** for proper error handling\n",
        "- **Use `text=True`** to work with strings instead of bytes\n",
        "\n",
        "### 📝 **Logging Best Practices**\n",
        "- **Configure logging early** in your application\n",
        "- **Use appropriate log levels**: DEBUG < INFO < WARNING < ERROR < CRITICAL\n",
        "- **Include meaningful context** in log messages\n",
        "- **Use structured logging** with consistent formatting\n",
        "- **Consider log rotation** for production applications\n",
        "\n",
        "### 💾 **Data Serialization Guidelines**\n",
        "\n",
        "| Format | Use When | Pros | Cons |\n",
        "|--------|----------|------|------|\n",
        "| **JSON** | Web APIs, config files, cross-language | Human readable, widely supported | Limited data types |\n",
        "| **Pickle** | Python-only, complex objects | Preserves Python types, fast | Not human readable, Python-specific |\n",
        "| **CSV** | Tabular data, Excel compatibility | Simple, widely supported | Limited structure |\n",
        "| **INI** | Configuration files | Human readable, simple | Limited nesting |\n",
        "\n",
        "### 🗜️ **Compression and Archives**\n",
        "- **Use ZIP** for cross-platform compatibility\n",
        "- **Use TAR.GZ** for better compression on Unix systems\n",
        "- **Always verify** archive integrity after creation\n",
        "- **Consider compression level** vs. speed trade-offs\n",
        "\n",
        "## 🚨 Common Pitfalls to Avoid\n",
        "\n",
        "1. **Not handling exceptions** when working with files/processes\n",
        "2. **Forgetting to close resources** (use `with` statements!)\n",
        "3. **Hard-coding file paths** (use `os.path.join()` or `pathlib`)\n",
        "4. **Not validating user input** before passing to system commands\n",
        "5. **Ignoring return codes** from subprocess operations\n",
        "6. **Not setting timeouts** for external processes\n",
        "7. **Using deprecated functions** (`os.system()` instead of `subprocess`)\n",
        "8. **Not considering security** when executing external commands\n",
        "\n",
        "## 🎯 Production Readiness Checklist\n",
        "\n",
        "- [ ] **Error handling**: All operations wrapped in try-except\n",
        "- [ ] **Logging**: Comprehensive logging with appropriate levels\n",
        "- [ ] **Configuration**: Externalized configuration files\n",
        "- [ ] **Security**: Input validation and safe command execution\n",
        "- [ ] **Performance**: Timeouts and resource management\n",
        "- [ ] **Monitoring**: Process monitoring and health checks\n",
        "- [ ] **Documentation**: Clear docstrings and comments\n",
        "- [ ] **Testing**: Unit tests for critical functionality\n",
        "\n",
        "## 🔗 Further Learning Resources\n",
        "\n",
        "- **Official Documentation**: [Python Standard Library](https://docs.python.org/3/library/)\n",
        "- **PEP 8**: Python Style Guide\n",
        "- **Real Python**: Tutorials on system programming\n",
        "- **Automate the Boring Stuff**: Practical Python programming\n",
        "- **Effective Python**: Advanced best practices\n",
        "\n",
        "---\n",
        "\n",
        "## 🎉 Congratulations!\n",
        "\n",
        "You've completed the Python Built-in Functions and Runtime Library guide! You now have the knowledge to:\n",
        "\n",
        "- ✅ Interact with the operating system programmatically\n",
        "- ✅ Manage files, directories, and processes\n",
        "- ✅ Implement robust logging and error handling\n",
        "- ✅ Work with various data formats and compression\n",
        "- ✅ Build production-ready Python applications\n",
        "\n",
        "**Next Steps:** Try the exercises above and start building your own system utilities!"
      ]
    }
  ],
  "metadata": {
    "colab": {
      "provenance": []
    },
    "kernelspec": {
      "display_name": "Python 3",
      "language": "python",
      "name": "python3"
    },
    "language_info": {
      "codemirror_mode": {
        "name": "ipython",
        "version": 3
      },
      "file_extension": ".py",
      "mimetype": "text/x-python",
      "name": "python",
      "nbconvert_exporter": "python",
      "pygments_lexer": "ipython3",
      "version": "3.6.8"
    },
    "nbTranslate": {
      "displayLangs": [
        "*"
      ],
      "hotkey": "alt-t",
      "langInMainMenu": true,
      "sourceLang": "en",
      "targetLang": "fr",
      "useGoogleTranslate": true
    }
  },
  "nbformat": 4,
  "nbformat_minor": 0
}
